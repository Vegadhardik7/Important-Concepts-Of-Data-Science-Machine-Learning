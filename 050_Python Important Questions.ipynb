{
 "cells": [
  {
   "cell_type": "code",
   "execution_count": 1,
   "id": "8dcda5fd",
   "metadata": {},
   "outputs": [
    {
     "name": "stdout",
     "output_type": "stream",
     "text": [
      "{'h': 2, 'a': 4, 'r': 3, 'd': 1, 'i': 2, 'k': 1, ' ': 3, 's': 2, 'm': 1, 't': 1, 'b': 1, 'n': 1}\n"
     ]
    }
   ],
   "source": [
    "data = \"HaRdIk has smArt braiN\"\n",
    "print({i:str.lower(data).count(i) for i in str.lower(data)})"
   ]
  },
  {
   "cell_type": "code",
   "execution_count": 2,
   "id": "cdb1843f",
   "metadata": {},
   "outputs": [
    {
     "name": "stdout",
     "output_type": "stream",
     "text": [
      "5\n"
     ]
    }
   ],
   "source": [
    "# Find Max value in a list\n",
    "\n",
    "data = [1,5,3,4,2]\n",
    "\n",
    "ma = data[0]\n",
    "for i in data:\n",
    "    if ma < i:\n",
    "        ma = i\n",
    "print(ma)"
   ]
  },
  {
   "cell_type": "code",
   "execution_count": 3,
   "id": "ab79de14",
   "metadata": {},
   "outputs": [
    {
     "name": "stdout",
     "output_type": "stream",
     "text": [
      "1\n"
     ]
    }
   ],
   "source": [
    "# Find Max value in a list\n",
    "\n",
    "data = [2,5,3,4,1]\n",
    "\n",
    "mi = data[0]\n",
    "for i in range(1,len(data)):\n",
    "    if mi > data[i]:\n",
    "        mi = data[i]\n",
    "print(mi)"
   ]
  },
  {
   "cell_type": "code",
   "execution_count": 4,
   "id": "7d113648",
   "metadata": {},
   "outputs": [
    {
     "name": "stdout",
     "output_type": "stream",
     "text": [
      "    * \n",
      "   * * \n",
      "  * * * \n",
      " * * * * \n",
      "* * * * * \n"
     ]
    }
   ],
   "source": [
    "# Triangle of * \n",
    "\n",
    "n = 5\n",
    "\n",
    "for i in range(0,n):\n",
    "    for j in range(n-i-1):\n",
    "        print(end=\" \")\n",
    "    for k in range(i+1):\n",
    "        print('*', end=\" \")\n",
    "    print()"
   ]
  },
  {
   "cell_type": "code",
   "execution_count": 5,
   "id": "a9ed6678",
   "metadata": {},
   "outputs": [
    {
     "name": "stdout",
     "output_type": "stream",
     "text": [
      "* * * * * \n",
      " * * * * \n",
      "  * * * \n",
      "   * * \n",
      "    * \n"
     ]
    }
   ],
   "source": [
    "# Triangle of * \n",
    "\n",
    "n = 5\n",
    "\n",
    "for i in range(n,0,-1):\n",
    "    for j in range(n-i):\n",
    "        print(end=\" \")\n",
    "    for k in range(0,i):\n",
    "        print('*',end=\" \")\n",
    "    print()"
   ]
  },
  {
   "cell_type": "code",
   "execution_count": 6,
   "id": "268a2ace",
   "metadata": {},
   "outputs": [
    {
     "name": "stdout",
     "output_type": "stream",
     "text": [
      "          * \n",
      "        * * \n",
      "      * * * \n",
      "    * * * * \n",
      "  * * * * * \n"
     ]
    }
   ],
   "source": [
    "n = 5\n",
    "for i in range(n):\n",
    "  for j in range(n-i):\n",
    "    print(' ',end=\" \")\n",
    "  for k in range(i+1):\n",
    "    print('*',end=\" \")\n",
    "  print()"
   ]
  },
  {
   "cell_type": "code",
   "execution_count": 7,
   "id": "f685a6e0",
   "metadata": {},
   "outputs": [
    {
     "name": "stdout",
     "output_type": "stream",
     "text": [
      "    * \n",
      "   * * \n",
      "  * * * \n",
      " * * * * \n",
      "* * * * * \n",
      " * * * * \n",
      "  * * * \n",
      "   * * \n",
      "    * \n"
     ]
    }
   ],
   "source": [
    "# Dimond\n",
    "\n",
    "n = 5\n",
    "\n",
    "for i in range(n):\n",
    "    for j in range(n-i-1):\n",
    "        print(end=\" \")\n",
    "    for k in range(i+1):\n",
    "        print('*',end=\" \")\n",
    "    print()\n",
    "for i in range(n-1,0,-1):\n",
    "    for j in range(n-i):\n",
    "        print(end=\" \")\n",
    "    for k in range(0,i):\n",
    "        print('*',end=\" \")\n",
    "    print()"
   ]
  },
  {
   "cell_type": "code",
   "execution_count": 8,
   "id": "9968e42e",
   "metadata": {},
   "outputs": [
    {
     "name": "stdout",
     "output_type": "stream",
     "text": [
      "      1\n",
      "     1 1\n",
      "    1 2 1\n",
      "   1 3 3 1\n",
      "  1 4 6 4 1\n"
     ]
    }
   ],
   "source": [
    "# Pascals Triangle\n",
    "\n",
    "n = 5 \n",
    "for i in range(n):\n",
    "    print(' '*(n-i), end=\" \")\n",
    "    print(' '.join(map(str,str(11**i))))"
   ]
  },
  {
   "cell_type": "code",
   "execution_count": 9,
   "id": "4055b2e1",
   "metadata": {},
   "outputs": [
    {
     "name": "stdout",
     "output_type": "stream",
     "text": [
      "     1\n",
      "    212\n",
      "   32123\n",
      "  4321234\n",
      " 543212345\n"
     ]
    }
   ],
   "source": [
    "# 1 212 32123\n",
    "\n",
    "n = 5\n",
    "for i in range(1,n+1):\n",
    "    for j in range(i,n+1):\n",
    "        print(end=\" \")\n",
    "    for k in range(i,0,-1):\n",
    "        print(k,end=\"\")\n",
    "    for x in range(2,i+1):\n",
    "        print(x,end=\"\")\n",
    "    print()"
   ]
  },
  {
   "cell_type": "code",
   "execution_count": 10,
   "id": "7f1a45f8",
   "metadata": {},
   "outputs": [
    {
     "name": "stdout",
     "output_type": "stream",
     "text": [
      "A \n",
      "B B \n",
      "C C C \n",
      "D D D D \n",
      "E E E E E \n"
     ]
    }
   ],
   "source": [
    "n = 5\n",
    "num = 65\n",
    "\n",
    "for i in range(n):\n",
    "    for j in range(i+1):\n",
    "        print(chr(num+i), end=\" \")\n",
    "    print()"
   ]
  },
  {
   "cell_type": "code",
   "execution_count": 11,
   "id": "1c3ecfd5",
   "metadata": {},
   "outputs": [
    {
     "name": "stdout",
     "output_type": "stream",
     "text": [
      "A \n",
      "A B \n",
      "A B C \n",
      "A B C D \n",
      "A B C D E \n"
     ]
    }
   ],
   "source": [
    "n = 5\n",
    "num = 65\n",
    "\n",
    "for i in range(n):\n",
    "    for j in range(i+1):\n",
    "        print(chr(num+j), end=\" \")\n",
    "    print()"
   ]
  },
  {
   "cell_type": "code",
   "execution_count": 12,
   "id": "62e7416e",
   "metadata": {},
   "outputs": [
    {
     "name": "stdout",
     "output_type": "stream",
     "text": [
      "1\n",
      "1\n",
      "2\n",
      "3\n",
      "5\n"
     ]
    }
   ],
   "source": [
    "# fibonacc series\n",
    "\n",
    "def fibo(n):\n",
    "    a = b = 1\n",
    "    for i in range(n):\n",
    "        yield a\n",
    "        a,b = b, a+b\n",
    "n = 5   \n",
    "for i in fibo(n):\n",
    "    print(i)"
   ]
  },
  {
   "cell_type": "code",
   "execution_count": 13,
   "id": "45d8aae5",
   "metadata": {},
   "outputs": [
    {
     "name": "stdout",
     "output_type": "stream",
     "text": [
      "145 is a strong number\n"
     ]
    }
   ],
   "source": [
    "# Strong number 145 = 1! + 4! + 5!\n",
    "\n",
    "fact = lambda n: 1 if n==0 else n * fact(n-1)\n",
    "\n",
    "def strongNum(num):\n",
    "    value = [int(i) for i in str(num)]\n",
    "    new = list(map(fact,value))\n",
    "    print(f\"{num} is a strong number\" if sum(new)==num else f\"{num} is not a strong number\")\n",
    "    \n",
    "strongNum(145)"
   ]
  },
  {
   "cell_type": "code",
   "execution_count": 14,
   "id": "f1a4408a",
   "metadata": {},
   "outputs": [
    {
     "name": "stdout",
     "output_type": "stream",
     "text": [
      "17 is a Prime Number\n"
     ]
    }
   ],
   "source": [
    "# Prime Number Or Not\n",
    "\n",
    "def isPrime(num):\n",
    "    lst = []\n",
    "    for i in range(2,num):\n",
    "        if num%i == 0:\n",
    "            lst.append(i)\n",
    "    if len(lst)==0:\n",
    "        print(f\"{num} is a Prime Number\")\n",
    "    else:\n",
    "        print(f\"{num} is not a Prime Number, bcz it is divisible by these numbers {lst}\")\n",
    "        \n",
    "isPrime(17)"
   ]
  },
  {
   "cell_type": "code",
   "execution_count": 15,
   "id": "b7834c27",
   "metadata": {},
   "outputs": [
    {
     "name": "stdout",
     "output_type": "stream",
     "text": [
      "16 is not a perfect number\n"
     ]
    }
   ],
   "source": [
    "# Perfect Number: divisible of 6 [1,2,3] } 6 ===> sum of 1+2+3 = 6\n",
    "\n",
    "def perfectNum(num):\n",
    "    lst = []\n",
    "    for i in range(1,num):\n",
    "        if num%i==0:\n",
    "            lst.append(i)\n",
    "    if sum(lst) == num:\n",
    "        print(f\"{num} is a perfect number\")\n",
    "    else:\n",
    "        print(f\"{num} is not a perfect number\")\n",
    "        \n",
    "perfectNum(16)"
   ]
  },
  {
   "cell_type": "code",
   "execution_count": 16,
   "id": "f0ed7003",
   "metadata": {},
   "outputs": [
    {
     "name": "stdout",
     "output_type": "stream",
     "text": [
      "1634 is a Amstrong Number\n"
     ]
    }
   ],
   "source": [
    "# Amstrong Number 153 = 1**3 + 5**3 +3**3  } where common 3 is the len of number\n",
    "\n",
    "def amstrongNumber(num):\n",
    "    value = [int(i)**len(str(num)) for i in str(num)]\n",
    "    print(f\"{num} is a Amstrong Number\" if sum(value)==num else f\"{num} is not an Amstrong Number\")\n",
    "    \n",
    "amstrongNumber(1634)"
   ]
  },
  {
   "cell_type": "code",
   "execution_count": 17,
   "id": "70a4b091",
   "metadata": {},
   "outputs": [
    {
     "name": "stdout",
     "output_type": "stream",
     "text": [
      "Original Data:  [4, 2, 5, 1, 3]\n",
      "Sorted Data:  [1, 2, 3, 4, 5]\n"
     ]
    }
   ],
   "source": [
    "# Bubble Sort\n",
    "\n",
    "def bubbleSort(data):\n",
    "    for i in range(len(data)-1,0,-1):\n",
    "        for j in range(i):\n",
    "            if data[j]>data[j+1]:\n",
    "                data[j],data[j+1]=data[j+1],data[j]\n",
    "                \n",
    "data = [4,2,5,1,3]\n",
    "print(\"Original Data: \",data)\n",
    "bubbleSort(data)\n",
    "print(\"Sorted Data: \",data)"
   ]
  },
  {
   "cell_type": "code",
   "execution_count": 18,
   "id": "166a9ba8",
   "metadata": {},
   "outputs": [
    {
     "name": "stdout",
     "output_type": "stream",
     "text": [
      "50 in [10, 20, 30, 40, 50]: True\n"
     ]
    }
   ],
   "source": [
    "# Binary Search\n",
    "\n",
    "def binarySearch(data, key):\n",
    "    low = 0\n",
    "    high = len(data)-1\n",
    "    while low <= high:\n",
    "        mid = (low+high)//2\n",
    "        if key<data[mid]:\n",
    "            high = mid-1\n",
    "        elif key>data[mid]:\n",
    "            low = mid+1\n",
    "        else:\n",
    "            return True\n",
    "    return False\n",
    "\n",
    "data = [10,20,30,40,50]\n",
    "key = 50\n",
    "found = binarySearch(data, key)\n",
    "print(f\"{key} in {data}: {found}\")"
   ]
  },
  {
   "cell_type": "code",
   "execution_count": 19,
   "id": "544382b2",
   "metadata": {},
   "outputs": [
    {
     "name": "stdout",
     "output_type": "stream",
     "text": [
      "5\n"
     ]
    }
   ],
   "source": [
    "# Find 2nd Highest Value in a lst\n",
    "\n",
    "data = [3,1,2,4,5,1,3,8]\n",
    "\n",
    "if data[0]>data[1]:\n",
    "    mi, ma = data[0], data[1]\n",
    "else:\n",
    "    mi, ma = data[1], data[0]\n",
    "\n",
    "for num in data[2:]:\n",
    "    if num > ma:\n",
    "        if num > mi:\n",
    "            ma, mi = mi, num\n",
    "        else:\n",
    "            ma = num\n",
    "print(ma)"
   ]
  },
  {
   "cell_type": "code",
   "execution_count": 20,
   "id": "f5714041",
   "metadata": {},
   "outputs": [
    {
     "name": "stdout",
     "output_type": "stream",
     "text": [
      "Before:\n",
      "{'b', 'a', 'c'}\n",
      "{'d', 'f', 'e'}\n",
      "------------------------------\n",
      "{'a', 'c', 'd', 'e', 'b', 'f'}\n",
      "------------------------------\n",
      "After:\n",
      "{'b', 'a', 'c'}\n",
      "{'d', 'f', 'e'}\n",
      "\n",
      "Both s1 and s2 are unchanged\n"
     ]
    }
   ],
   "source": [
    "# | Operator in python (OR)\n",
    "\n",
    "s1 = {\"a\", \"b\", \"c\"}\n",
    "s2 = {\"d\", \"e\", \"f\"}\n",
    "\n",
    "print(\"Before:\")\n",
    "print(s1)\n",
    "print(s2)\n",
    "\n",
    "print('-'*30)\n",
    "print(s1|s2)\n",
    "print('-'*30)\n",
    "\n",
    "print(\"After:\")\n",
    "print(s1)                \n",
    "print(s2)\n",
    "\n",
    "\n",
    "print(\"\\nBoth s1 and s2 are unchanged\")"
   ]
  },
  {
   "cell_type": "code",
   "execution_count": 21,
   "id": "ba2035ce",
   "metadata": {},
   "outputs": [
    {
     "name": "stdout",
     "output_type": "stream",
     "text": [
      "Before:\n",
      "{'b', 'a', 'c'}\n",
      "{'d', 'f', 'e'}\n",
      "------------------------------\n",
      "|= operator is used\n",
      "------------------------------\n",
      "After:\n",
      "{'a', 'c', 'd', 'e', 'b', 'f'}\n",
      "{'d', 'f', 'e'}\n",
      "\n",
      "s1 changed and s2 is unchanged\n"
     ]
    }
   ],
   "source": [
    "# |= Operator in python (ior)\n",
    "\n",
    "s1 = {\"a\", \"b\", \"c\"}\n",
    "s2 = {\"d\", \"e\", \"f\"}\n",
    "\n",
    "print(\"Before:\")\n",
    "print(s1)\n",
    "print(s2)\n",
    "\n",
    "print('-'*30)\n",
    "s1 |= s2\n",
    "print(\"|= operator is used\")\n",
    "print('-'*30)\n",
    "\n",
    "print(\"After:\")\n",
    "print(s1)\n",
    "print(s2)\n",
    "\n",
    "print(\"\\ns1 changed and s2 is unchanged\")"
   ]
  },
  {
   "cell_type": "code",
   "execution_count": 22,
   "id": "b7b45282",
   "metadata": {},
   "outputs": [
    {
     "name": "stdout",
     "output_type": "stream",
     "text": [
      "0\n",
      "1\n",
      "2\n"
     ]
    },
    {
     "ename": "StopIteration",
     "evalue": "",
     "output_type": "error",
     "traceback": [
      "\u001b[1;31m---------------------------------------------------------------------------\u001b[0m",
      "\u001b[1;31mStopIteration\u001b[0m                             Traceback (most recent call last)",
      "\u001b[1;32m~\\AppData\\Local\\Temp/ipykernel_12116/4283351870.py\u001b[0m in \u001b[0;36m<module>\u001b[1;34m\u001b[0m\n\u001b[0;32m     11\u001b[0m \u001b[0mprint\u001b[0m\u001b[1;33m(\u001b[0m\u001b[0mnext\u001b[0m\u001b[1;33m(\u001b[0m\u001b[0mvalue\u001b[0m\u001b[1;33m)\u001b[0m\u001b[1;33m)\u001b[0m\u001b[1;33m\u001b[0m\u001b[1;33m\u001b[0m\u001b[0m\n\u001b[0;32m     12\u001b[0m \u001b[0mprint\u001b[0m\u001b[1;33m(\u001b[0m\u001b[0mnext\u001b[0m\u001b[1;33m(\u001b[0m\u001b[0mvalue\u001b[0m\u001b[1;33m)\u001b[0m\u001b[1;33m)\u001b[0m\u001b[1;33m\u001b[0m\u001b[1;33m\u001b[0m\u001b[0m\n\u001b[1;32m---> 13\u001b[1;33m \u001b[0mprint\u001b[0m\u001b[1;33m(\u001b[0m\u001b[0mnext\u001b[0m\u001b[1;33m(\u001b[0m\u001b[0mvalue\u001b[0m\u001b[1;33m)\u001b[0m\u001b[1;33m)\u001b[0m\u001b[1;33m\u001b[0m\u001b[1;33m\u001b[0m\u001b[0m\n\u001b[0m",
      "\u001b[1;31mStopIteration\u001b[0m: "
     ]
    }
   ],
   "source": [
    "# yield funtion (Use Only For Numeric Data)\n",
    "\n",
    "def getValues(n):\n",
    "    for i in range(n):\n",
    "        yield i\n",
    "\n",
    "n = 3        \n",
    "value = getValues(n)\n",
    "\n",
    "print(next(value))\n",
    "print(next(value))\n",
    "print(next(value))\n",
    "print(next(value))"
   ]
  },
  {
   "cell_type": "code",
   "execution_count": 23,
   "id": "ec334496",
   "metadata": {},
   "outputs": [
    {
     "name": "stdout",
     "output_type": "stream",
     "text": [
      "h\n",
      "e\n",
      "y\n"
     ]
    },
    {
     "ename": "StopIteration",
     "evalue": "",
     "output_type": "error",
     "traceback": [
      "\u001b[1;31m---------------------------------------------------------------------------\u001b[0m",
      "\u001b[1;31mStopIteration\u001b[0m                             Traceback (most recent call last)",
      "\u001b[1;32m~\\AppData\\Local\\Temp/ipykernel_12116/3404424926.py\u001b[0m in \u001b[0;36m<module>\u001b[1;34m\u001b[0m\n\u001b[0;32m      8\u001b[0m \u001b[0mprint\u001b[0m\u001b[1;33m(\u001b[0m\u001b[0mnext\u001b[0m\u001b[1;33m(\u001b[0m\u001b[0mvalue\u001b[0m\u001b[1;33m)\u001b[0m\u001b[1;33m)\u001b[0m\u001b[1;33m\u001b[0m\u001b[1;33m\u001b[0m\u001b[0m\n\u001b[0;32m      9\u001b[0m \u001b[0mprint\u001b[0m\u001b[1;33m(\u001b[0m\u001b[0mnext\u001b[0m\u001b[1;33m(\u001b[0m\u001b[0mvalue\u001b[0m\u001b[1;33m)\u001b[0m\u001b[1;33m)\u001b[0m\u001b[1;33m\u001b[0m\u001b[1;33m\u001b[0m\u001b[0m\n\u001b[1;32m---> 10\u001b[1;33m \u001b[0mprint\u001b[0m\u001b[1;33m(\u001b[0m\u001b[0mnext\u001b[0m\u001b[1;33m(\u001b[0m\u001b[0mvalue\u001b[0m\u001b[1;33m)\u001b[0m\u001b[1;33m)\u001b[0m\u001b[1;33m\u001b[0m\u001b[1;33m\u001b[0m\u001b[0m\n\u001b[0m",
      "\u001b[1;31mStopIteration\u001b[0m: "
     ]
    }
   ],
   "source": [
    "# iter function (Use Only For String Data)\n",
    "\n",
    "string = \"hey\"\n",
    "\n",
    "value = iter(string)\n",
    "\n",
    "print(next(value))\n",
    "print(next(value))\n",
    "print(next(value))\n",
    "print(next(value))"
   ]
  },
  {
   "cell_type": "code",
   "execution_count": 24,
   "id": "d8f2e423",
   "metadata": {},
   "outputs": [
    {
     "name": "stdout",
     "output_type": "stream",
     "text": [
      "[1, 4, 9]\n"
     ]
    }
   ],
   "source": [
    "# map funtion in python\n",
    "\n",
    "data = [1,2,3]\n",
    "\n",
    "def mySum(data):\n",
    "    return data**2\n",
    "\n",
    "lst = [1,2,3]\n",
    "new = list(map(mySum, lst))\n",
    "print(new)"
   ]
  },
  {
   "cell_type": "code",
   "execution_count": 25,
   "id": "e89cffc9",
   "metadata": {},
   "outputs": [
    {
     "data": {
      "text/plain": [
       "[2, 4, 6, 8, 10]"
      ]
     },
     "execution_count": 25,
     "metadata": {},
     "output_type": "execute_result"
    }
   ],
   "source": [
    "# filter funtion in python\n",
    "\n",
    "nums = [i for i in range(1,11)]\n",
    "\n",
    "values = list(filter(lambda x: x%2==0, nums))\n",
    "values"
   ]
  },
  {
   "cell_type": "code",
   "execution_count": 26,
   "id": "0d6d2366",
   "metadata": {},
   "outputs": [
    {
     "name": "stdout",
     "output_type": "stream",
     "text": [
      "Output With Simple Loop: 6\n",
      "------------------------------\n",
      "Output With Reduce Function: 6\n"
     ]
    }
   ],
   "source": [
    "# reduce funtion\n",
    "\n",
    "data = [1,2,3]\n",
    "\n",
    "x = 0\n",
    "for i in data:\n",
    "    x+=i\n",
    "print(f\"Output With Simple Loop: {x}\")\n",
    "print('-'*30)\n",
    "\n",
    "# -----------------------------------------------------------------\n",
    "# Replacement of above code\n",
    "\n",
    "\n",
    "from functools import reduce\n",
    "\n",
    "data = [1,2,3]\n",
    "\n",
    "values = reduce(lambda x,y: x+y, data)\n",
    "print(f\"Output With Reduce Function: {values}\")"
   ]
  },
  {
   "cell_type": "code",
   "execution_count": 27,
   "id": "d92281a7",
   "metadata": {},
   "outputs": [
    {
     "name": "stdout",
     "output_type": "stream",
     "text": [
      "Hello, this sentence is before convo...\n",
      "I am James\n",
      "Bye, this sentence is after convo...\n"
     ]
    }
   ],
   "source": [
    "# call a funtion within a function\n",
    "\n",
    "def conversation(fun):\n",
    "    def wrapperConvo():\n",
    "        print(\"Hello, this sentence is before convo...\")\n",
    "        print(fun())\n",
    "        print(\"Bye, this sentence is after convo...\")\n",
    "    return wrapperConvo()\n",
    "\n",
    "@conversation\n",
    "def hello():\n",
    "    return \"I am James\""
   ]
  },
  {
   "cell_type": "code",
   "execution_count": 28,
   "id": "6d1500bc",
   "metadata": {},
   "outputs": [
    {
     "name": "stdout",
     "output_type": "stream",
     "text": [
      "Code Started...\n",
      "Sum Of (10, 20, 30) is 60\n",
      "Code Ended...\n"
     ]
    }
   ],
   "source": [
    "# Decorators Example In Python (Sum of unlimited values with String \"Code Started...\" in start & \"Code Ended...\" in end)\n",
    "\n",
    "def myCode(fun):\n",
    "    def sumCode(*args):\n",
    "        print(\"Code Started...\")\n",
    "        print(fun(*args))\n",
    "        print(\"Code Ended...\")\n",
    "    return sumCode\n",
    "\n",
    "@myCode\n",
    "def getSum(*args):\n",
    "    x = 0\n",
    "    for i in args:\n",
    "        x+=i\n",
    "    return f\"Sum Of {args} is {x}\"\n",
    "\n",
    "getSum(10,20,30)"
   ]
  },
  {
   "cell_type": "code",
   "execution_count": 29,
   "id": "7e37eb71",
   "metadata": {},
   "outputs": [
    {
     "data": {
      "text/plain": [
       "'l : 3'"
      ]
     },
     "execution_count": 29,
     "metadata": {},
     "output_type": "execute_result"
    }
   ],
   "source": [
    "# Find Most Recurrent Char In The String\n",
    "\n",
    "def mostRecurrentChar(data):\n",
    "    values = [i for i in str.lower(data)]\n",
    "    lst = []\n",
    "    new = {}\n",
    "    \n",
    "    for i in values:\n",
    "        if i in lst:\n",
    "            new[i]+=1\n",
    "        else:\n",
    "            new[i]=1\n",
    "            lst.append(i)\n",
    "            \n",
    "    x = max(new, key=new.get)\n",
    "    \n",
    "    return f\"{x} : {new[x]}\"\n",
    "\n",
    "data = 'hello lamp'\n",
    "\n",
    "mostRecurrentChar(data)"
   ]
  },
  {
   "cell_type": "code",
   "execution_count": 30,
   "id": "ffe23b3b",
   "metadata": {},
   "outputs": [
    {
     "name": "stdout",
     "output_type": "stream",
     "text": [
      "r : 1\n"
     ]
    }
   ],
   "source": [
    "# Count 1st non repeating char\n",
    "\n",
    "def countFirstNonRepChar(data):\n",
    "    values = [i for i in str.lower(data)]\n",
    "    lst = []\n",
    "    new = {}\n",
    "    for i in values:\n",
    "        if i in lst:\n",
    "            new[i]+=1\n",
    "        else:\n",
    "            new[i]=1\n",
    "            lst.append(i)\n",
    "            \n",
    "    for k,v in new.items():\n",
    "        if v==1:\n",
    "            print(k,\":\",v)\n",
    "            break\n",
    "        \n",
    "data = \"hardik Is a Happy Boy\"\n",
    "countFirstNonRepChar(data)"
   ]
  },
  {
   "cell_type": "code",
   "execution_count": 31,
   "id": "4cc65cb5",
   "metadata": {},
   "outputs": [
    {
     "name": "stdout",
     "output_type": "stream",
     "text": [
      "h : 2\n"
     ]
    }
   ],
   "source": [
    "# Count 1st repeating char\n",
    "\n",
    "def countFirstNonRepChar(data):\n",
    "    values = [i for i in str.lower(data)]\n",
    "    lst = []\n",
    "    new = {}\n",
    "    for i in values:\n",
    "        if i in lst:\n",
    "            new[i]+=1\n",
    "        else:\n",
    "            new[i]=1\n",
    "            lst.append(i)\n",
    "            \n",
    "    for k,v in new.items():\n",
    "        if v>1:\n",
    "            print(k,\":\",v)\n",
    "            break\n",
    "        \n",
    "data = \"hardik Is a Happy Boy\"\n",
    "countFirstNonRepChar(data)"
   ]
  },
  {
   "cell_type": "code",
   "execution_count": 32,
   "id": "93de5f27",
   "metadata": {},
   "outputs": [
    {
     "name": "stdout",
     "output_type": "stream",
     "text": [
      "a : 2\n",
      "i : 2\n",
      "o : 3\n",
      "number of vowles in 'hardik is a Good Boy' is 7\n"
     ]
    }
   ],
   "source": [
    "# count vowels in the string\n",
    "\n",
    "def countVowels(data):\n",
    "    vowels = ['a','e','i','o','u']\n",
    "\n",
    "    values = [i for i in str.lower(data)]\n",
    "    \n",
    "    lst = []\n",
    "    new = {}\n",
    "    for i in values:\n",
    "        if i in lst:\n",
    "            new[i]+=1\n",
    "        else:\n",
    "            new[i]=1\n",
    "            lst.append(i)\n",
    "            \n",
    "    x = []\n",
    "    for k,v in new.items():\n",
    "        if k in vowels:\n",
    "            x.append(v)\n",
    "            print(k,\":\",v)\n",
    "    \n",
    "    print(f\"number of vowles in '{data}' is {sum(x)}\")\n",
    "    \n",
    "data = \"hardik is a Good Boy\"\n",
    "countVowels(data)"
   ]
  },
  {
   "cell_type": "code",
   "execution_count": 33,
   "id": "a078f917",
   "metadata": {},
   "outputs": [
    {
     "name": "stdout",
     "output_type": "stream",
     "text": [
      "Char's which has the minimum repetation is ['d', 'k', 'm', 't', 'b', 'n'] with 1 repetation\n"
     ]
    }
   ],
   "source": [
    "# give the most non repeating char in the string\n",
    "\n",
    "def mostNonRepChar(data):\n",
    "    values = [i for i in str.lower(data)]\n",
    "    lst = []\n",
    "    new = {}\n",
    "    for i in values:\n",
    "        if i in lst:\n",
    "            new[i]+=1\n",
    "        else:\n",
    "            new[i]=1\n",
    "            lst.append(i)\n",
    "            \n",
    "    val = []\n",
    "    x = min(new, key=new.get)   # gives key not value\n",
    "    \n",
    "    for k,v in new.items():\n",
    "        if v == new[x]:\n",
    "            val.append(k)\n",
    "            \n",
    "    print(f\"Char's which has the minimum repetation is {val} with {new[x]} repetation\")\n",
    "\n",
    "data = \"Hardik has smart brain\"    \n",
    "mostNonRepChar(data)"
   ]
  },
  {
   "cell_type": "code",
   "execution_count": 34,
   "id": "13f62bf6",
   "metadata": {},
   "outputs": [
    {
     "name": "stdout",
     "output_type": "stream",
     "text": [
      "[100, 400]\n",
      "[1000, 8000]\n",
      "*** END ***\n"
     ]
    }
   ],
   "source": [
    "# Threading\n",
    "\n",
    "import threading as th\n",
    "\n",
    "def print_cube(*args):\n",
    "    lst = []\n",
    "    for i in args:\n",
    "        lst.append(i**3)\n",
    "    print(lst)\n",
    "    \n",
    "def print_square(*args):\n",
    "    lst = []\n",
    "    for i in args:\n",
    "        lst.append(i**2)\n",
    "    print(lst)\n",
    "    \n",
    "if __name__ == \"__main__\":\n",
    "    t1 = th.Thread(target=print_square, args=(10,20))\n",
    "    t2 = th.Thread(target=print_cube, args=(10,20))\n",
    "    \n",
    "    t1.start()\n",
    "    t2.start()\n",
    "    \n",
    "    t1.join()\n",
    "    t2.join()\n",
    "    \n",
    "    print(\"*** END ***\")"
   ]
  },
  {
   "cell_type": "code",
   "execution_count": 35,
   "id": "c0ec4e42",
   "metadata": {},
   "outputs": [
    {
     "name": "stdout",
     "output_type": "stream",
     "text": [
      "Done!\n"
     ]
    }
   ],
   "source": [
    "# Multiprocessing\n",
    "\n",
    "import multiprocessing as multipro\n",
    "\n",
    "def print_square(*args):\n",
    "    lst = []\n",
    "    for i in args:\n",
    "        lst.append(i ** 2)\n",
    "    print(lst)\n",
    "\n",
    "def print_cube(*args):\n",
    "    lst = []\n",
    "    for i in args:\n",
    "        lst.append(i ** 3)\n",
    "    print(lst)\n",
    "    \n",
    "if __name__ == \"__main__\":\n",
    "    # creating processes\n",
    "    p1 = multipro.Process(target=print_square, args=(10,20))\n",
    "    p2 = multipro.Process(target=print_cube, args=(10,20))\n",
    "\n",
    "    # starting process 1\n",
    "    p1.start()\n",
    "    # starting process 2\n",
    "    p2.start()\n",
    "\n",
    "    # wait until process 1 is finished\n",
    "    p1.join()\n",
    "    # wait until process 2 is finished\n",
    "    p2.join()\n",
    "\n",
    "    # both processes finished\n",
    "    print(\"Done!\")"
   ]
  },
  {
   "cell_type": "code",
   "execution_count": 36,
   "id": "43ca1bd4",
   "metadata": {},
   "outputs": [
    {
     "name": "stdout",
     "output_type": "stream",
     "text": [
      "4\n"
     ]
    }
   ],
   "source": [
    "# Monkey Patching (On single value before entering multiple values)\n",
    "\n",
    "class GetSquares:\n",
    "    def squaring(self, *args):\n",
    "        lst = []\n",
    "        for i in args:\n",
    "            lst.append(i**2)\n",
    "        return lst\n",
    "    \n",
    "def monkeyFun(num):\n",
    "    print(num**2)\n",
    "    \n",
    "# GetSquares().squaring(10,20,30)      # Original Code\n",
    "GetSquares.squaring = monkeyFun\n",
    "GetSquares.squaring(2)"
   ]
  },
  {
   "cell_type": "code",
   "execution_count": 37,
   "id": "82d87044",
   "metadata": {},
   "outputs": [
    {
     "name": "stdout",
     "output_type": "stream",
     "text": [
      "Oops!!! <class 'ZeroDivisionError'> occured.\n",
      "Code Completed\n"
     ]
    }
   ],
   "source": [
    "import sys\n",
    "\n",
    "def getData(a,b):\n",
    "  try:\n",
    "    value = a/b\n",
    "    print(f\"Division Of {a} and {b} is {value}\")\n",
    "  except:\n",
    "    print(f\"Oops!!! {sys.exc_info()[0]} occured.\")\n",
    "  finally:\n",
    "    print(\"Code Completed\")\n",
    "\n",
    "getData(12,0)"
   ]
  },
  {
   "cell_type": "code",
   "execution_count": 38,
   "id": "e05286d0",
   "metadata": {},
   "outputs": [
    {
     "name": "stdout",
     "output_type": "stream",
     "text": [
      "Toyota\n",
      "4\n",
      "5000\n",
      "This is Toyota info funtion\n"
     ]
    }
   ],
   "source": [
    "# Encapsulation Example\n",
    "\n",
    "class Car:\n",
    "    def __init__(self, name, door, hoursepower):\n",
    "        self.name = name                               # PUBLIC\n",
    "        self._door = door                              # PROTECTED\n",
    "        self.__hoursepower = hoursepower               # PRIVTE\n",
    "        \n",
    "    def __carInfo(self):\n",
    "        print(f\"This is {self.name} info funtion\")     # PRIVATE FUNTION\n",
    "        \n",
    "        \n",
    "model = Car('Toyota', 4, 5000)\n",
    "print(model.name)                                      # Call Public Variable\n",
    "print(model._door)                                     # Call Protected Variable\n",
    "print(model._Car__hoursepower)                         # Call Private Variable\n",
    "model._Car__carInfo()                                  # Call Public Method"
   ]
  },
  {
   "cell_type": "code",
   "execution_count": null,
   "id": "4d8c8f4f",
   "metadata": {},
   "outputs": [],
   "source": []
  },
  {
   "cell_type": "code",
   "execution_count": null,
   "id": "8c0743c9",
   "metadata": {},
   "outputs": [],
   "source": []
  },
  {
   "cell_type": "code",
   "execution_count": null,
   "id": "d193714f",
   "metadata": {},
   "outputs": [],
   "source": []
  },
  {
   "cell_type": "code",
   "execution_count": null,
   "id": "9c0bf563",
   "metadata": {},
   "outputs": [],
   "source": []
  },
  {
   "cell_type": "code",
   "execution_count": null,
   "id": "df99395a",
   "metadata": {},
   "outputs": [],
   "source": []
  },
  {
   "cell_type": "code",
   "execution_count": null,
   "id": "d3b8e7e9",
   "metadata": {},
   "outputs": [],
   "source": []
  },
  {
   "cell_type": "code",
   "execution_count": null,
   "id": "ef2ad3ba",
   "metadata": {},
   "outputs": [],
   "source": []
  },
  {
   "cell_type": "code",
   "execution_count": null,
   "id": "fc9a63c0",
   "metadata": {},
   "outputs": [],
   "source": []
  },
  {
   "cell_type": "code",
   "execution_count": null,
   "id": "53736d26",
   "metadata": {},
   "outputs": [],
   "source": []
  },
  {
   "cell_type": "code",
   "execution_count": null,
   "id": "bcdb6e38",
   "metadata": {},
   "outputs": [],
   "source": []
  },
  {
   "cell_type": "code",
   "execution_count": null,
   "id": "aa490383",
   "metadata": {},
   "outputs": [],
   "source": []
  },
  {
   "cell_type": "code",
   "execution_count": null,
   "id": "d8208dba",
   "metadata": {},
   "outputs": [],
   "source": []
  },
  {
   "cell_type": "code",
   "execution_count": null,
   "id": "8f14dccc",
   "metadata": {},
   "outputs": [],
   "source": []
  },
  {
   "cell_type": "code",
   "execution_count": null,
   "id": "8bce61e9",
   "metadata": {},
   "outputs": [],
   "source": []
  },
  {
   "cell_type": "code",
   "execution_count": null,
   "id": "812884dc",
   "metadata": {},
   "outputs": [],
   "source": []
  },
  {
   "cell_type": "code",
   "execution_count": null,
   "id": "47f027f7",
   "metadata": {},
   "outputs": [],
   "source": []
  },
  {
   "cell_type": "code",
   "execution_count": null,
   "id": "17352ee0",
   "metadata": {},
   "outputs": [],
   "source": []
  },
  {
   "cell_type": "code",
   "execution_count": null,
   "id": "65c8d9cc",
   "metadata": {},
   "outputs": [],
   "source": []
  },
  {
   "cell_type": "code",
   "execution_count": null,
   "id": "8756d05a",
   "metadata": {},
   "outputs": [],
   "source": []
  },
  {
   "cell_type": "code",
   "execution_count": null,
   "id": "9003a01a",
   "metadata": {},
   "outputs": [],
   "source": []
  },
  {
   "cell_type": "code",
   "execution_count": null,
   "id": "abf6e4ac",
   "metadata": {},
   "outputs": [],
   "source": []
  },
  {
   "cell_type": "code",
   "execution_count": null,
   "id": "771f9263",
   "metadata": {},
   "outputs": [],
   "source": []
  },
  {
   "cell_type": "code",
   "execution_count": null,
   "id": "e73540e9",
   "metadata": {},
   "outputs": [],
   "source": []
  }
 ],
 "metadata": {
  "kernelspec": {
   "display_name": "Python 3 (ipykernel)",
   "language": "python",
   "name": "python3"
  },
  "language_info": {
   "codemirror_mode": {
    "name": "ipython",
    "version": 3
   },
   "file_extension": ".py",
   "mimetype": "text/x-python",
   "name": "python",
   "nbconvert_exporter": "python",
   "pygments_lexer": "ipython3",
   "version": "3.8.8"
  }
 },
 "nbformat": 4,
 "nbformat_minor": 5
}
