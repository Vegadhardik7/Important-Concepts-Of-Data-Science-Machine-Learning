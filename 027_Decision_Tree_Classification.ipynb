{
 "cells": [
  {
   "cell_type": "markdown",
   "metadata": {},
   "source": [
    "# Movie Will Win Oscar or not"
   ]
  },
  {
   "cell_type": "markdown",
   "metadata": {},
   "source": [
    "### Import Libraries"
   ]
  },
  {
   "cell_type": "code",
   "execution_count": 1,
   "metadata": {},
   "outputs": [],
   "source": [
    "import pandas as pd\n",
    "import numpy as np\n",
    "import matplotlib.pyplot as plt\n",
    "import seaborn as sns\n",
    "%matplotlib inline"
   ]
  },
  {
   "cell_type": "code",
   "execution_count": 7,
   "metadata": {},
   "outputs": [
    {
     "data": {
      "text/html": [
       "<div>\n",
       "<style scoped>\n",
       "    .dataframe tbody tr th:only-of-type {\n",
       "        vertical-align: middle;\n",
       "    }\n",
       "\n",
       "    .dataframe tbody tr th {\n",
       "        vertical-align: top;\n",
       "    }\n",
       "\n",
       "    .dataframe thead th {\n",
       "        text-align: right;\n",
       "    }\n",
       "</style>\n",
       "<table border=\"1\" class=\"dataframe\">\n",
       "  <thead>\n",
       "    <tr style=\"text-align: right;\">\n",
       "      <th></th>\n",
       "      <th>0</th>\n",
       "      <th>1</th>\n",
       "      <th>2</th>\n",
       "      <th>3</th>\n",
       "      <th>4</th>\n",
       "    </tr>\n",
       "  </thead>\n",
       "  <tbody>\n",
       "    <tr>\n",
       "      <td>Marketing expense</td>\n",
       "      <td>20.1264</td>\n",
       "      <td>20.5462</td>\n",
       "      <td>20.5458</td>\n",
       "      <td>20.6474</td>\n",
       "      <td>21.381</td>\n",
       "    </tr>\n",
       "    <tr>\n",
       "      <td>Production expense</td>\n",
       "      <td>59.62</td>\n",
       "      <td>69.14</td>\n",
       "      <td>69.14</td>\n",
       "      <td>59.36</td>\n",
       "      <td>59.36</td>\n",
       "    </tr>\n",
       "    <tr>\n",
       "      <td>Multiplex coverage</td>\n",
       "      <td>0.462</td>\n",
       "      <td>0.531</td>\n",
       "      <td>0.531</td>\n",
       "      <td>0.542</td>\n",
       "      <td>0.542</td>\n",
       "    </tr>\n",
       "    <tr>\n",
       "      <td>Budget</td>\n",
       "      <td>36524.1</td>\n",
       "      <td>35668.7</td>\n",
       "      <td>39912.7</td>\n",
       "      <td>38873.9</td>\n",
       "      <td>39701.6</td>\n",
       "    </tr>\n",
       "    <tr>\n",
       "      <td>Movie_length</td>\n",
       "      <td>138.7</td>\n",
       "      <td>152.4</td>\n",
       "      <td>134.6</td>\n",
       "      <td>119.3</td>\n",
       "      <td>127.7</td>\n",
       "    </tr>\n",
       "    <tr>\n",
       "      <td>Lead_ Actor_Rating</td>\n",
       "      <td>7.825</td>\n",
       "      <td>7.505</td>\n",
       "      <td>7.485</td>\n",
       "      <td>6.895</td>\n",
       "      <td>6.92</td>\n",
       "    </tr>\n",
       "    <tr>\n",
       "      <td>Lead_Actress_rating</td>\n",
       "      <td>8.095</td>\n",
       "      <td>7.65</td>\n",
       "      <td>7.57</td>\n",
       "      <td>7.035</td>\n",
       "      <td>7.07</td>\n",
       "    </tr>\n",
       "    <tr>\n",
       "      <td>Director_rating</td>\n",
       "      <td>7.91</td>\n",
       "      <td>7.44</td>\n",
       "      <td>7.495</td>\n",
       "      <td>6.92</td>\n",
       "      <td>6.815</td>\n",
       "    </tr>\n",
       "    <tr>\n",
       "      <td>Producer_rating</td>\n",
       "      <td>7.995</td>\n",
       "      <td>7.47</td>\n",
       "      <td>7.515</td>\n",
       "      <td>7.02</td>\n",
       "      <td>7.07</td>\n",
       "    </tr>\n",
       "    <tr>\n",
       "      <td>Critic_rating</td>\n",
       "      <td>7.94</td>\n",
       "      <td>7.44</td>\n",
       "      <td>7.44</td>\n",
       "      <td>8.26</td>\n",
       "      <td>8.26</td>\n",
       "    </tr>\n",
       "    <tr>\n",
       "      <td>Trailer_views</td>\n",
       "      <td>527367</td>\n",
       "      <td>494055</td>\n",
       "      <td>547051</td>\n",
       "      <td>516279</td>\n",
       "      <td>531448</td>\n",
       "    </tr>\n",
       "    <tr>\n",
       "      <td>3D_available</td>\n",
       "      <td>YES</td>\n",
       "      <td>NO</td>\n",
       "      <td>NO</td>\n",
       "      <td>YES</td>\n",
       "      <td>NO</td>\n",
       "    </tr>\n",
       "    <tr>\n",
       "      <td>Time_taken</td>\n",
       "      <td>109.6</td>\n",
       "      <td>146.64</td>\n",
       "      <td>147.88</td>\n",
       "      <td>185.36</td>\n",
       "      <td>176.48</td>\n",
       "    </tr>\n",
       "    <tr>\n",
       "      <td>Twitter_hastags</td>\n",
       "      <td>223.84</td>\n",
       "      <td>243.456</td>\n",
       "      <td>2022.4</td>\n",
       "      <td>225.344</td>\n",
       "      <td>225.792</td>\n",
       "    </tr>\n",
       "    <tr>\n",
       "      <td>Genre</td>\n",
       "      <td>Thriller</td>\n",
       "      <td>Drama</td>\n",
       "      <td>Comedy</td>\n",
       "      <td>Drama</td>\n",
       "      <td>Drama</td>\n",
       "    </tr>\n",
       "    <tr>\n",
       "      <td>Avg_age_actors</td>\n",
       "      <td>23</td>\n",
       "      <td>42</td>\n",
       "      <td>38</td>\n",
       "      <td>45</td>\n",
       "      <td>55</td>\n",
       "    </tr>\n",
       "    <tr>\n",
       "      <td>Num_multiplex</td>\n",
       "      <td>494</td>\n",
       "      <td>462</td>\n",
       "      <td>458</td>\n",
       "      <td>472</td>\n",
       "      <td>395</td>\n",
       "    </tr>\n",
       "    <tr>\n",
       "      <td>Collection</td>\n",
       "      <td>48000</td>\n",
       "      <td>43200</td>\n",
       "      <td>69400</td>\n",
       "      <td>66800</td>\n",
       "      <td>72400</td>\n",
       "    </tr>\n",
       "    <tr>\n",
       "      <td>Start_Tech_Oscar</td>\n",
       "      <td>1</td>\n",
       "      <td>0</td>\n",
       "      <td>1</td>\n",
       "      <td>1</td>\n",
       "      <td>1</td>\n",
       "    </tr>\n",
       "  </tbody>\n",
       "</table>\n",
       "</div>"
      ],
      "text/plain": [
       "                            0        1        2        3        4\n",
       "Marketing expense     20.1264  20.5462  20.5458  20.6474   21.381\n",
       "Production expense      59.62    69.14    69.14    59.36    59.36\n",
       "Multiplex coverage      0.462    0.531    0.531    0.542    0.542\n",
       "Budget                36524.1  35668.7  39912.7  38873.9  39701.6\n",
       "Movie_length            138.7    152.4    134.6    119.3    127.7\n",
       "Lead_ Actor_Rating      7.825    7.505    7.485    6.895     6.92\n",
       "Lead_Actress_rating     8.095     7.65     7.57    7.035     7.07\n",
       "Director_rating          7.91     7.44    7.495     6.92    6.815\n",
       "Producer_rating         7.995     7.47    7.515     7.02     7.07\n",
       "Critic_rating            7.94     7.44     7.44     8.26     8.26\n",
       "Trailer_views          527367   494055   547051   516279   531448\n",
       "3D_available              YES       NO       NO      YES       NO\n",
       "Time_taken              109.6   146.64   147.88   185.36   176.48\n",
       "Twitter_hastags        223.84  243.456   2022.4  225.344  225.792\n",
       "Genre                Thriller    Drama   Comedy    Drama    Drama\n",
       "Avg_age_actors             23       42       38       45       55\n",
       "Num_multiplex             494      462      458      472      395\n",
       "Collection              48000    43200    69400    66800    72400\n",
       "Start_Tech_Oscar            1        0        1        1        1"
      ]
     },
     "execution_count": 7,
     "metadata": {},
     "output_type": "execute_result"
    }
   ],
   "source": [
    "df = pd.read_csv(r\"E:\\college_pics\\Rainbow6\\New folder\\classification.csv\",header=0)\n",
    "df.head().T"
   ]
  },
  {
   "cell_type": "code",
   "execution_count": 8,
   "metadata": {},
   "outputs": [
    {
     "name": "stdout",
     "output_type": "stream",
     "text": [
      "<class 'pandas.core.frame.DataFrame'>\n",
      "RangeIndex: 506 entries, 0 to 505\n",
      "Data columns (total 19 columns):\n",
      "Marketing expense      506 non-null float64\n",
      "Production expense     506 non-null float64\n",
      "Multiplex coverage     506 non-null float64\n",
      "Budget                 506 non-null float64\n",
      "Movie_length           506 non-null float64\n",
      "Lead_ Actor_Rating     506 non-null float64\n",
      "Lead_Actress_rating    506 non-null float64\n",
      "Director_rating        506 non-null float64\n",
      "Producer_rating        506 non-null float64\n",
      "Critic_rating          506 non-null float64\n",
      "Trailer_views          506 non-null int64\n",
      "3D_available           506 non-null object\n",
      "Time_taken             494 non-null float64\n",
      "Twitter_hastags        506 non-null float64\n",
      "Genre                  506 non-null object\n",
      "Avg_age_actors         506 non-null int64\n",
      "Num_multiplex          506 non-null int64\n",
      "Collection             506 non-null int64\n",
      "Start_Tech_Oscar       506 non-null int64\n",
      "dtypes: float64(12), int64(5), object(2)\n",
      "memory usage: 75.2+ KB\n"
     ]
    }
   ],
   "source": [
    "df.info()"
   ]
  },
  {
   "cell_type": "markdown",
   "metadata": {},
   "source": [
    "### Handel Missing Values"
   ]
  },
  {
   "cell_type": "code",
   "execution_count": 9,
   "metadata": {},
   "outputs": [],
   "source": [
    "df['Time_taken'].fillna(value = df['Time_taken'].mean(),inplace=True)"
   ]
  },
  {
   "cell_type": "code",
   "execution_count": 11,
   "metadata": {},
   "outputs": [
    {
     "data": {
      "text/html": [
       "<div>\n",
       "<style scoped>\n",
       "    .dataframe tbody tr th:only-of-type {\n",
       "        vertical-align: middle;\n",
       "    }\n",
       "\n",
       "    .dataframe tbody tr th {\n",
       "        vertical-align: top;\n",
       "    }\n",
       "\n",
       "    .dataframe thead th {\n",
       "        text-align: right;\n",
       "    }\n",
       "</style>\n",
       "<table border=\"1\" class=\"dataframe\">\n",
       "  <thead>\n",
       "    <tr style=\"text-align: right;\">\n",
       "      <th></th>\n",
       "      <th>0</th>\n",
       "      <th>1</th>\n",
       "      <th>2</th>\n",
       "      <th>3</th>\n",
       "      <th>4</th>\n",
       "    </tr>\n",
       "  </thead>\n",
       "  <tbody>\n",
       "    <tr>\n",
       "      <td>Marketing expense</td>\n",
       "      <td>20.1264</td>\n",
       "      <td>20.5462</td>\n",
       "      <td>20.5458</td>\n",
       "      <td>20.6474</td>\n",
       "      <td>21.381</td>\n",
       "    </tr>\n",
       "    <tr>\n",
       "      <td>Production expense</td>\n",
       "      <td>59.62</td>\n",
       "      <td>69.14</td>\n",
       "      <td>69.14</td>\n",
       "      <td>59.36</td>\n",
       "      <td>59.36</td>\n",
       "    </tr>\n",
       "    <tr>\n",
       "      <td>Multiplex coverage</td>\n",
       "      <td>0.462</td>\n",
       "      <td>0.531</td>\n",
       "      <td>0.531</td>\n",
       "      <td>0.542</td>\n",
       "      <td>0.542</td>\n",
       "    </tr>\n",
       "    <tr>\n",
       "      <td>Budget</td>\n",
       "      <td>36524.1</td>\n",
       "      <td>35668.7</td>\n",
       "      <td>39912.7</td>\n",
       "      <td>38873.9</td>\n",
       "      <td>39701.6</td>\n",
       "    </tr>\n",
       "    <tr>\n",
       "      <td>Movie_length</td>\n",
       "      <td>138.7</td>\n",
       "      <td>152.4</td>\n",
       "      <td>134.6</td>\n",
       "      <td>119.3</td>\n",
       "      <td>127.7</td>\n",
       "    </tr>\n",
       "    <tr>\n",
       "      <td>Lead_ Actor_Rating</td>\n",
       "      <td>7.825</td>\n",
       "      <td>7.505</td>\n",
       "      <td>7.485</td>\n",
       "      <td>6.895</td>\n",
       "      <td>6.92</td>\n",
       "    </tr>\n",
       "    <tr>\n",
       "      <td>Lead_Actress_rating</td>\n",
       "      <td>8.095</td>\n",
       "      <td>7.65</td>\n",
       "      <td>7.57</td>\n",
       "      <td>7.035</td>\n",
       "      <td>7.07</td>\n",
       "    </tr>\n",
       "    <tr>\n",
       "      <td>Director_rating</td>\n",
       "      <td>7.91</td>\n",
       "      <td>7.44</td>\n",
       "      <td>7.495</td>\n",
       "      <td>6.92</td>\n",
       "      <td>6.815</td>\n",
       "    </tr>\n",
       "    <tr>\n",
       "      <td>Producer_rating</td>\n",
       "      <td>7.995</td>\n",
       "      <td>7.47</td>\n",
       "      <td>7.515</td>\n",
       "      <td>7.02</td>\n",
       "      <td>7.07</td>\n",
       "    </tr>\n",
       "    <tr>\n",
       "      <td>Critic_rating</td>\n",
       "      <td>7.94</td>\n",
       "      <td>7.44</td>\n",
       "      <td>7.44</td>\n",
       "      <td>8.26</td>\n",
       "      <td>8.26</td>\n",
       "    </tr>\n",
       "    <tr>\n",
       "      <td>Trailer_views</td>\n",
       "      <td>527367</td>\n",
       "      <td>494055</td>\n",
       "      <td>547051</td>\n",
       "      <td>516279</td>\n",
       "      <td>531448</td>\n",
       "    </tr>\n",
       "    <tr>\n",
       "      <td>3D_available</td>\n",
       "      <td>YES</td>\n",
       "      <td>NO</td>\n",
       "      <td>NO</td>\n",
       "      <td>YES</td>\n",
       "      <td>NO</td>\n",
       "    </tr>\n",
       "    <tr>\n",
       "      <td>Time_taken</td>\n",
       "      <td>109.6</td>\n",
       "      <td>146.64</td>\n",
       "      <td>147.88</td>\n",
       "      <td>185.36</td>\n",
       "      <td>176.48</td>\n",
       "    </tr>\n",
       "    <tr>\n",
       "      <td>Twitter_hastags</td>\n",
       "      <td>223.84</td>\n",
       "      <td>243.456</td>\n",
       "      <td>2022.4</td>\n",
       "      <td>225.344</td>\n",
       "      <td>225.792</td>\n",
       "    </tr>\n",
       "    <tr>\n",
       "      <td>Genre</td>\n",
       "      <td>Thriller</td>\n",
       "      <td>Drama</td>\n",
       "      <td>Comedy</td>\n",
       "      <td>Drama</td>\n",
       "      <td>Drama</td>\n",
       "    </tr>\n",
       "    <tr>\n",
       "      <td>Avg_age_actors</td>\n",
       "      <td>23</td>\n",
       "      <td>42</td>\n",
       "      <td>38</td>\n",
       "      <td>45</td>\n",
       "      <td>55</td>\n",
       "    </tr>\n",
       "    <tr>\n",
       "      <td>Num_multiplex</td>\n",
       "      <td>494</td>\n",
       "      <td>462</td>\n",
       "      <td>458</td>\n",
       "      <td>472</td>\n",
       "      <td>395</td>\n",
       "    </tr>\n",
       "    <tr>\n",
       "      <td>Collection</td>\n",
       "      <td>48000</td>\n",
       "      <td>43200</td>\n",
       "      <td>69400</td>\n",
       "      <td>66800</td>\n",
       "      <td>72400</td>\n",
       "    </tr>\n",
       "    <tr>\n",
       "      <td>Start_Tech_Oscar</td>\n",
       "      <td>1</td>\n",
       "      <td>0</td>\n",
       "      <td>1</td>\n",
       "      <td>1</td>\n",
       "      <td>1</td>\n",
       "    </tr>\n",
       "  </tbody>\n",
       "</table>\n",
       "</div>"
      ],
      "text/plain": [
       "                            0        1        2        3        4\n",
       "Marketing expense     20.1264  20.5462  20.5458  20.6474   21.381\n",
       "Production expense      59.62    69.14    69.14    59.36    59.36\n",
       "Multiplex coverage      0.462    0.531    0.531    0.542    0.542\n",
       "Budget                36524.1  35668.7  39912.7  38873.9  39701.6\n",
       "Movie_length            138.7    152.4    134.6    119.3    127.7\n",
       "Lead_ Actor_Rating      7.825    7.505    7.485    6.895     6.92\n",
       "Lead_Actress_rating     8.095     7.65     7.57    7.035     7.07\n",
       "Director_rating          7.91     7.44    7.495     6.92    6.815\n",
       "Producer_rating         7.995     7.47    7.515     7.02     7.07\n",
       "Critic_rating            7.94     7.44     7.44     8.26     8.26\n",
       "Trailer_views          527367   494055   547051   516279   531448\n",
       "3D_available              YES       NO       NO      YES       NO\n",
       "Time_taken              109.6   146.64   147.88   185.36   176.48\n",
       "Twitter_hastags        223.84  243.456   2022.4  225.344  225.792\n",
       "Genre                Thriller    Drama   Comedy    Drama    Drama\n",
       "Avg_age_actors             23       42       38       45       55\n",
       "Num_multiplex             494      462      458      472      395\n",
       "Collection              48000    43200    69400    66800    72400\n",
       "Start_Tech_Oscar            1        0        1        1        1"
      ]
     },
     "execution_count": 11,
     "metadata": {},
     "output_type": "execute_result"
    }
   ],
   "source": [
    "df.head().T"
   ]
  },
  {
   "cell_type": "code",
   "execution_count": 12,
   "metadata": {},
   "outputs": [
    {
     "name": "stdout",
     "output_type": "stream",
     "text": [
      "<class 'pandas.core.frame.DataFrame'>\n",
      "RangeIndex: 506 entries, 0 to 505\n",
      "Data columns (total 19 columns):\n",
      "Marketing expense      506 non-null float64\n",
      "Production expense     506 non-null float64\n",
      "Multiplex coverage     506 non-null float64\n",
      "Budget                 506 non-null float64\n",
      "Movie_length           506 non-null float64\n",
      "Lead_ Actor_Rating     506 non-null float64\n",
      "Lead_Actress_rating    506 non-null float64\n",
      "Director_rating        506 non-null float64\n",
      "Producer_rating        506 non-null float64\n",
      "Critic_rating          506 non-null float64\n",
      "Trailer_views          506 non-null int64\n",
      "3D_available           506 non-null object\n",
      "Time_taken             506 non-null float64\n",
      "Twitter_hastags        506 non-null float64\n",
      "Genre                  506 non-null object\n",
      "Avg_age_actors         506 non-null int64\n",
      "Num_multiplex          506 non-null int64\n",
      "Collection             506 non-null int64\n",
      "Start_Tech_Oscar       506 non-null int64\n",
      "dtypes: float64(12), int64(5), object(2)\n",
      "memory usage: 75.2+ KB\n"
     ]
    }
   ],
   "source": [
    "df.info()"
   ]
  },
  {
   "cell_type": "markdown",
   "metadata": {},
   "source": [
    "### Creating Dummy Variables"
   ]
  },
  {
   "cell_type": "code",
   "execution_count": 13,
   "metadata": {},
   "outputs": [],
   "source": [
    "df = pd.get_dummies(df,columns = ['3D_available','Genre'], drop_first=True)"
   ]
  },
  {
   "cell_type": "code",
   "execution_count": 14,
   "metadata": {},
   "outputs": [
    {
     "data": {
      "text/html": [
       "<div>\n",
       "<style scoped>\n",
       "    .dataframe tbody tr th:only-of-type {\n",
       "        vertical-align: middle;\n",
       "    }\n",
       "\n",
       "    .dataframe tbody tr th {\n",
       "        vertical-align: top;\n",
       "    }\n",
       "\n",
       "    .dataframe thead th {\n",
       "        text-align: right;\n",
       "    }\n",
       "</style>\n",
       "<table border=\"1\" class=\"dataframe\">\n",
       "  <thead>\n",
       "    <tr style=\"text-align: right;\">\n",
       "      <th></th>\n",
       "      <th>0</th>\n",
       "      <th>1</th>\n",
       "      <th>2</th>\n",
       "      <th>3</th>\n",
       "      <th>4</th>\n",
       "    </tr>\n",
       "  </thead>\n",
       "  <tbody>\n",
       "    <tr>\n",
       "      <td>Marketing expense</td>\n",
       "      <td>20.1264</td>\n",
       "      <td>20.5462</td>\n",
       "      <td>20.5458</td>\n",
       "      <td>20.6474</td>\n",
       "      <td>21.381</td>\n",
       "    </tr>\n",
       "    <tr>\n",
       "      <td>Production expense</td>\n",
       "      <td>59.6200</td>\n",
       "      <td>69.1400</td>\n",
       "      <td>69.1400</td>\n",
       "      <td>59.3600</td>\n",
       "      <td>59.360</td>\n",
       "    </tr>\n",
       "    <tr>\n",
       "      <td>Multiplex coverage</td>\n",
       "      <td>0.4620</td>\n",
       "      <td>0.5310</td>\n",
       "      <td>0.5310</td>\n",
       "      <td>0.5420</td>\n",
       "      <td>0.542</td>\n",
       "    </tr>\n",
       "    <tr>\n",
       "      <td>Budget</td>\n",
       "      <td>36524.1250</td>\n",
       "      <td>35668.6550</td>\n",
       "      <td>39912.6750</td>\n",
       "      <td>38873.8900</td>\n",
       "      <td>39701.585</td>\n",
       "    </tr>\n",
       "    <tr>\n",
       "      <td>Movie_length</td>\n",
       "      <td>138.7000</td>\n",
       "      <td>152.4000</td>\n",
       "      <td>134.6000</td>\n",
       "      <td>119.3000</td>\n",
       "      <td>127.700</td>\n",
       "    </tr>\n",
       "    <tr>\n",
       "      <td>Lead_ Actor_Rating</td>\n",
       "      <td>7.8250</td>\n",
       "      <td>7.5050</td>\n",
       "      <td>7.4850</td>\n",
       "      <td>6.8950</td>\n",
       "      <td>6.920</td>\n",
       "    </tr>\n",
       "    <tr>\n",
       "      <td>Lead_Actress_rating</td>\n",
       "      <td>8.0950</td>\n",
       "      <td>7.6500</td>\n",
       "      <td>7.5700</td>\n",
       "      <td>7.0350</td>\n",
       "      <td>7.070</td>\n",
       "    </tr>\n",
       "    <tr>\n",
       "      <td>Director_rating</td>\n",
       "      <td>7.9100</td>\n",
       "      <td>7.4400</td>\n",
       "      <td>7.4950</td>\n",
       "      <td>6.9200</td>\n",
       "      <td>6.815</td>\n",
       "    </tr>\n",
       "    <tr>\n",
       "      <td>Producer_rating</td>\n",
       "      <td>7.9950</td>\n",
       "      <td>7.4700</td>\n",
       "      <td>7.5150</td>\n",
       "      <td>7.0200</td>\n",
       "      <td>7.070</td>\n",
       "    </tr>\n",
       "    <tr>\n",
       "      <td>Critic_rating</td>\n",
       "      <td>7.9400</td>\n",
       "      <td>7.4400</td>\n",
       "      <td>7.4400</td>\n",
       "      <td>8.2600</td>\n",
       "      <td>8.260</td>\n",
       "    </tr>\n",
       "    <tr>\n",
       "      <td>Trailer_views</td>\n",
       "      <td>527367.0000</td>\n",
       "      <td>494055.0000</td>\n",
       "      <td>547051.0000</td>\n",
       "      <td>516279.0000</td>\n",
       "      <td>531448.000</td>\n",
       "    </tr>\n",
       "    <tr>\n",
       "      <td>Time_taken</td>\n",
       "      <td>109.6000</td>\n",
       "      <td>146.6400</td>\n",
       "      <td>147.8800</td>\n",
       "      <td>185.3600</td>\n",
       "      <td>176.480</td>\n",
       "    </tr>\n",
       "    <tr>\n",
       "      <td>Twitter_hastags</td>\n",
       "      <td>223.8400</td>\n",
       "      <td>243.4560</td>\n",
       "      <td>2022.4000</td>\n",
       "      <td>225.3440</td>\n",
       "      <td>225.792</td>\n",
       "    </tr>\n",
       "    <tr>\n",
       "      <td>Avg_age_actors</td>\n",
       "      <td>23.0000</td>\n",
       "      <td>42.0000</td>\n",
       "      <td>38.0000</td>\n",
       "      <td>45.0000</td>\n",
       "      <td>55.000</td>\n",
       "    </tr>\n",
       "    <tr>\n",
       "      <td>Num_multiplex</td>\n",
       "      <td>494.0000</td>\n",
       "      <td>462.0000</td>\n",
       "      <td>458.0000</td>\n",
       "      <td>472.0000</td>\n",
       "      <td>395.000</td>\n",
       "    </tr>\n",
       "    <tr>\n",
       "      <td>Collection</td>\n",
       "      <td>48000.0000</td>\n",
       "      <td>43200.0000</td>\n",
       "      <td>69400.0000</td>\n",
       "      <td>66800.0000</td>\n",
       "      <td>72400.000</td>\n",
       "    </tr>\n",
       "    <tr>\n",
       "      <td>Start_Tech_Oscar</td>\n",
       "      <td>1.0000</td>\n",
       "      <td>0.0000</td>\n",
       "      <td>1.0000</td>\n",
       "      <td>1.0000</td>\n",
       "      <td>1.000</td>\n",
       "    </tr>\n",
       "    <tr>\n",
       "      <td>3D_available_YES</td>\n",
       "      <td>1.0000</td>\n",
       "      <td>0.0000</td>\n",
       "      <td>0.0000</td>\n",
       "      <td>1.0000</td>\n",
       "      <td>0.000</td>\n",
       "    </tr>\n",
       "    <tr>\n",
       "      <td>Genre_Comedy</td>\n",
       "      <td>0.0000</td>\n",
       "      <td>0.0000</td>\n",
       "      <td>1.0000</td>\n",
       "      <td>0.0000</td>\n",
       "      <td>0.000</td>\n",
       "    </tr>\n",
       "    <tr>\n",
       "      <td>Genre_Drama</td>\n",
       "      <td>0.0000</td>\n",
       "      <td>1.0000</td>\n",
       "      <td>0.0000</td>\n",
       "      <td>1.0000</td>\n",
       "      <td>1.000</td>\n",
       "    </tr>\n",
       "    <tr>\n",
       "      <td>Genre_Thriller</td>\n",
       "      <td>1.0000</td>\n",
       "      <td>0.0000</td>\n",
       "      <td>0.0000</td>\n",
       "      <td>0.0000</td>\n",
       "      <td>0.000</td>\n",
       "    </tr>\n",
       "  </tbody>\n",
       "</table>\n",
       "</div>"
      ],
      "text/plain": [
       "                               0            1            2            3  \\\n",
       "Marketing expense        20.1264      20.5462      20.5458      20.6474   \n",
       "Production expense       59.6200      69.1400      69.1400      59.3600   \n",
       "Multiplex coverage        0.4620       0.5310       0.5310       0.5420   \n",
       "Budget                36524.1250   35668.6550   39912.6750   38873.8900   \n",
       "Movie_length            138.7000     152.4000     134.6000     119.3000   \n",
       "Lead_ Actor_Rating        7.8250       7.5050       7.4850       6.8950   \n",
       "Lead_Actress_rating       8.0950       7.6500       7.5700       7.0350   \n",
       "Director_rating           7.9100       7.4400       7.4950       6.9200   \n",
       "Producer_rating           7.9950       7.4700       7.5150       7.0200   \n",
       "Critic_rating             7.9400       7.4400       7.4400       8.2600   \n",
       "Trailer_views        527367.0000  494055.0000  547051.0000  516279.0000   \n",
       "Time_taken              109.6000     146.6400     147.8800     185.3600   \n",
       "Twitter_hastags         223.8400     243.4560    2022.4000     225.3440   \n",
       "Avg_age_actors           23.0000      42.0000      38.0000      45.0000   \n",
       "Num_multiplex           494.0000     462.0000     458.0000     472.0000   \n",
       "Collection            48000.0000   43200.0000   69400.0000   66800.0000   \n",
       "Start_Tech_Oscar          1.0000       0.0000       1.0000       1.0000   \n",
       "3D_available_YES          1.0000       0.0000       0.0000       1.0000   \n",
       "Genre_Comedy              0.0000       0.0000       1.0000       0.0000   \n",
       "Genre_Drama               0.0000       1.0000       0.0000       1.0000   \n",
       "Genre_Thriller            1.0000       0.0000       0.0000       0.0000   \n",
       "\n",
       "                              4  \n",
       "Marketing expense        21.381  \n",
       "Production expense       59.360  \n",
       "Multiplex coverage        0.542  \n",
       "Budget                39701.585  \n",
       "Movie_length            127.700  \n",
       "Lead_ Actor_Rating        6.920  \n",
       "Lead_Actress_rating       7.070  \n",
       "Director_rating           6.815  \n",
       "Producer_rating           7.070  \n",
       "Critic_rating             8.260  \n",
       "Trailer_views        531448.000  \n",
       "Time_taken              176.480  \n",
       "Twitter_hastags         225.792  \n",
       "Avg_age_actors           55.000  \n",
       "Num_multiplex           395.000  \n",
       "Collection            72400.000  \n",
       "Start_Tech_Oscar          1.000  \n",
       "3D_available_YES          0.000  \n",
       "Genre_Comedy              0.000  \n",
       "Genre_Drama               1.000  \n",
       "Genre_Thriller            0.000  "
      ]
     },
     "execution_count": 14,
     "metadata": {},
     "output_type": "execute_result"
    }
   ],
   "source": [
    "df.head().T"
   ]
  },
  {
   "cell_type": "markdown",
   "metadata": {},
   "source": [
    "### X and y split"
   ]
  },
  {
   "cell_type": "code",
   "execution_count": 15,
   "metadata": {},
   "outputs": [
    {
     "data": {
      "text/plain": [
       "pandas.core.frame.DataFrame"
      ]
     },
     "execution_count": 15,
     "metadata": {},
     "output_type": "execute_result"
    }
   ],
   "source": [
    "X = df.drop('Start_Tech_Oscar',axis=1)\n",
    "type(X)"
   ]
  },
  {
   "cell_type": "code",
   "execution_count": 16,
   "metadata": {},
   "outputs": [
    {
     "data": {
      "text/plain": [
       "(506, 20)"
      ]
     },
     "execution_count": 16,
     "metadata": {},
     "output_type": "execute_result"
    }
   ],
   "source": [
    "X.shape"
   ]
  },
  {
   "cell_type": "code",
   "execution_count": 17,
   "metadata": {},
   "outputs": [
    {
     "data": {
      "text/plain": [
       "pandas.core.series.Series"
      ]
     },
     "execution_count": 17,
     "metadata": {},
     "output_type": "execute_result"
    }
   ],
   "source": [
    "y = df['Start_Tech_Oscar']\n",
    "type(y)"
   ]
  },
  {
   "cell_type": "code",
   "execution_count": 18,
   "metadata": {},
   "outputs": [
    {
     "data": {
      "text/plain": [
       "(506,)"
      ]
     },
     "execution_count": 18,
     "metadata": {},
     "output_type": "execute_result"
    }
   ],
   "source": [
    "y.shape"
   ]
  },
  {
   "cell_type": "markdown",
   "metadata": {},
   "source": [
    "### Train-Test Split"
   ]
  },
  {
   "cell_type": "code",
   "execution_count": 19,
   "metadata": {},
   "outputs": [],
   "source": [
    "from sklearn.model_selection import train_test_split\n",
    "X_train, X_test, y_train, y_test = train_test_split(X, y, test_size = 0.2, random_state=0)"
   ]
  },
  {
   "cell_type": "code",
   "execution_count": 20,
   "metadata": {},
   "outputs": [
    {
     "data": {
      "text/plain": [
       "(404, 20)"
      ]
     },
     "execution_count": 20,
     "metadata": {},
     "output_type": "execute_result"
    }
   ],
   "source": [
    "X_train.shape"
   ]
  },
  {
   "cell_type": "code",
   "execution_count": 21,
   "metadata": {},
   "outputs": [
    {
     "data": {
      "text/plain": [
       "(102, 20)"
      ]
     },
     "execution_count": 21,
     "metadata": {},
     "output_type": "execute_result"
    }
   ],
   "source": [
    "X_test.shape"
   ]
  },
  {
   "cell_type": "markdown",
   "metadata": {},
   "source": [
    "### Training Classification Tree"
   ]
  },
  {
   "cell_type": "code",
   "execution_count": 22,
   "metadata": {},
   "outputs": [
    {
     "data": {
      "text/plain": [
       "DecisionTreeClassifier(class_weight=None, criterion='gini', max_depth=3,\n",
       "                       max_features=None, max_leaf_nodes=None,\n",
       "                       min_impurity_decrease=0.0, min_impurity_split=None,\n",
       "                       min_samples_leaf=1, min_samples_split=2,\n",
       "                       min_weight_fraction_leaf=0.0, presort=False,\n",
       "                       random_state=None, splitter='best')"
      ]
     },
     "execution_count": 22,
     "metadata": {},
     "output_type": "execute_result"
    }
   ],
   "source": [
    "from sklearn import tree\n",
    "from sklearn.tree import DecisionTreeClassifier\n",
    "\n",
    "model = DecisionTreeClassifier(max_depth=3)\n",
    "model.fit(X_train,y_train)"
   ]
  },
  {
   "cell_type": "markdown",
   "metadata": {},
   "source": [
    "### Predicting Values using trained model"
   ]
  },
  {
   "cell_type": "code",
   "execution_count": 23,
   "metadata": {},
   "outputs": [],
   "source": [
    "y_train_pred = model.predict(X_train)\n",
    "y_test_pred = model.predict(X_test)"
   ]
  },
  {
   "cell_type": "code",
   "execution_count": 24,
   "metadata": {},
   "outputs": [
    {
     "data": {
      "text/plain": [
       "(404,)"
      ]
     },
     "execution_count": 24,
     "metadata": {},
     "output_type": "execute_result"
    }
   ],
   "source": [
    "y_train_pred.shape"
   ]
  },
  {
   "cell_type": "code",
   "execution_count": 25,
   "metadata": {},
   "outputs": [
    {
     "data": {
      "text/plain": [
       "array([0, 1, 0, 1, 0, 0, 0, 0, 1, 0, 0, 0, 0, 1, 1, 0, 0, 1, 0, 0, 0, 0,\n",
       "       0, 0, 0, 1, 0, 0, 1, 0, 0, 0, 0, 0, 0, 0, 0, 1, 0, 0, 0, 0, 0, 1,\n",
       "       0, 0, 0, 0, 1, 0, 0, 0, 0, 1, 0, 0, 0, 1, 0, 0, 1, 0, 1, 0, 0, 0,\n",
       "       0, 0, 0, 0, 0, 0, 0, 0, 0, 1, 1, 0, 0, 0, 0, 0, 0, 1, 1, 0, 0, 0,\n",
       "       0, 0, 0, 0, 1, 0, 0, 0, 1, 1, 0, 0, 0, 0], dtype=int64)"
      ]
     },
     "execution_count": 25,
     "metadata": {},
     "output_type": "execute_result"
    }
   ],
   "source": [
    "y_test_pred"
   ]
  },
  {
   "cell_type": "markdown",
   "metadata": {},
   "source": [
    "### Model Performance"
   ]
  },
  {
   "cell_type": "code",
   "execution_count": 26,
   "metadata": {},
   "outputs": [],
   "source": [
    "from sklearn.metrics import accuracy_score, confusion_matrix "
   ]
  },
  {
   "cell_type": "code",
   "execution_count": 27,
   "metadata": {},
   "outputs": [
    {
     "data": {
      "text/plain": [
       "array([[172,  14],\n",
       "       [126,  92]], dtype=int64)"
      ]
     },
     "execution_count": 27,
     "metadata": {},
     "output_type": "execute_result"
    }
   ],
   "source": [
    "confusion_matrix(y_train, y_train_pred)"
   ]
  },
  {
   "cell_type": "code",
   "execution_count": 28,
   "metadata": {},
   "outputs": [
    {
     "data": {
      "text/plain": [
       "array([[39,  5],\n",
       "       [41, 17]], dtype=int64)"
      ]
     },
     "execution_count": 28,
     "metadata": {},
     "output_type": "execute_result"
    }
   ],
   "source": [
    "confusion_matrix(y_test, y_test_pred)"
   ]
  },
  {
   "cell_type": "code",
   "execution_count": 29,
   "metadata": {},
   "outputs": [
    {
     "data": {
      "text/plain": [
       "0.5490196078431373"
      ]
     },
     "execution_count": 29,
     "metadata": {},
     "output_type": "execute_result"
    }
   ],
   "source": [
    "accuracy_score(y_test, y_test_pred)"
   ]
  },
  {
   "cell_type": "markdown",
   "metadata": {},
   "source": [
    "### Plotting Tree Growth"
   ]
  },
  {
   "cell_type": "code",
   "execution_count": 30,
   "metadata": {},
   "outputs": [
    {
     "data": {
      "image/png": "[encoded data removed]",
      "text/plain": [
       "<IPython.core.display.Image object>"
      ]
     },
     "execution_count": 30,
     "metadata": {},
     "output_type": "execute_result"
    }
   ],
   "source": [
    "dot_data = tree.export_graphviz(model, out_file=None, feature_names=X_train.columns, filled=True)\n",
    "\n",
    "from IPython.display import Image\n",
    "import pydotplus\n",
    "graph = pydotplus.graph_from_dot_data(dot_data)\n",
    "Image(graph.create_png())"
   ]
  },
  {
   "cell_type": "markdown",
   "metadata": {},
   "source": [
    "### Controlling Tree Growth"
   ]
  },
  {
   "cell_type": "code",
   "execution_count": 31,
   "metadata": {},
   "outputs": [
    {
     "data": {
      "image/png": "[encoded data removed]",
      "text/plain": [
       "<IPython.core.display.Image object>"
      ]
     },
     "execution_count": 31,
     "metadata": {},
     "output_type": "execute_result"
    }
   ],
   "source": [
    "model2 = DecisionTreeClassifier(min_samples_leaf=20, max_depth=4)\n",
    "model2.fit(X_train,y_train)\n",
    "\n",
    "\n",
    "dot_data_2 = tree.export_graphviz(model2, out_file=None, feature_names=X_train.columns, filled=True)\n",
    "\n",
    "from IPython.display import Image\n",
    "import pydotplus\n",
    "graph2 = pydotplus.graph_from_dot_data(dot_data_2)\n",
    "Image(graph2.create_png())"
   ]
  },
  {
   "cell_type": "code",
   "execution_count": 32,
   "metadata": {},
   "outputs": [
    {
     "data": {
      "text/plain": [
       "0.5588235294117647"
      ]
     },
     "execution_count": 32,
     "metadata": {},
     "output_type": "execute_result"
    }
   ],
   "source": [
    "accuracy_score(y_test, model2.predict(X_test))"
   ]
  },
  {
   "cell_type": "code",
   "execution_count": null,
   "metadata": {},
   "outputs": [],
   "source": []
  }
 ],
 "metadata": {
  "kernelspec": {
   "display_name": "Python 3",
   "language": "python",
   "name": "python3"
  },
  "language_info": {
   "codemirror_mode": {
    "name": "ipython",
    "version": 3
   },
   "file_extension": ".py",
   "mimetype": "text/x-python",
   "name": "python",
   "nbconvert_exporter": "python",
   "pygments_lexer": "ipython3",
   "version": "3.7.7"
  }
 },
 "nbformat": 4,
 "nbformat_minor": 2
}
