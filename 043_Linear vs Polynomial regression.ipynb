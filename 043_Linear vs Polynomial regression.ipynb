{
 "cells": [
  {
   "cell_type": "code",
   "execution_count": 1,
   "id": "cbf86ba5",
   "metadata": {},
   "outputs": [],
   "source": [
    "import numpy as np\n",
    "import pandas as pd\n",
    "import seaborn as sns\n",
    "import matplotlib.pyplot as plt\n",
    "%matplotlib inline"
   ]
  },
  {
   "cell_type": "code",
   "execution_count": 2,
   "id": "45845cc9",
   "metadata": {},
   "outputs": [
    {
     "data": {
      "text/html": [
       "<div>\n",
       "<style scoped>\n",
       "    .dataframe tbody tr th:only-of-type {\n",
       "        vertical-align: middle;\n",
       "    }\n",
       "\n",
       "    .dataframe tbody tr th {\n",
       "        vertical-align: top;\n",
       "    }\n",
       "\n",
       "    .dataframe thead th {\n",
       "        text-align: right;\n",
       "    }\n",
       "</style>\n",
       "<table border=\"1\" class=\"dataframe\">\n",
       "  <thead>\n",
       "    <tr style=\"text-align: right;\">\n",
       "      <th></th>\n",
       "      <th>X_vals</th>\n",
       "      <th>Y_vals</th>\n",
       "    </tr>\n",
       "  </thead>\n",
       "  <tbody>\n",
       "    <tr>\n",
       "      <th>0</th>\n",
       "      <td>10</td>\n",
       "      <td>30</td>\n",
       "    </tr>\n",
       "    <tr>\n",
       "      <th>1</th>\n",
       "      <td>11</td>\n",
       "      <td>27</td>\n",
       "    </tr>\n",
       "    <tr>\n",
       "      <th>2</th>\n",
       "      <td>15</td>\n",
       "      <td>25</td>\n",
       "    </tr>\n",
       "    <tr>\n",
       "      <th>3</th>\n",
       "      <td>18</td>\n",
       "      <td>22</td>\n",
       "    </tr>\n",
       "    <tr>\n",
       "      <th>4</th>\n",
       "      <td>15</td>\n",
       "      <td>25</td>\n",
       "    </tr>\n",
       "    <tr>\n",
       "      <th>...</th>\n",
       "      <td>...</td>\n",
       "      <td>...</td>\n",
       "    </tr>\n",
       "    <tr>\n",
       "      <th>115</th>\n",
       "      <td>79</td>\n",
       "      <td>79</td>\n",
       "    </tr>\n",
       "    <tr>\n",
       "      <th>116</th>\n",
       "      <td>78</td>\n",
       "      <td>78</td>\n",
       "    </tr>\n",
       "    <tr>\n",
       "      <th>117</th>\n",
       "      <td>82</td>\n",
       "      <td>92</td>\n",
       "    </tr>\n",
       "    <tr>\n",
       "      <th>118</th>\n",
       "      <td>73</td>\n",
       "      <td>93</td>\n",
       "    </tr>\n",
       "    <tr>\n",
       "      <th>119</th>\n",
       "      <td>74</td>\n",
       "      <td>100</td>\n",
       "    </tr>\n",
       "  </tbody>\n",
       "</table>\n",
       "<p>120 rows × 2 columns</p>\n",
       "</div>"
      ],
      "text/plain": [
       "     X_vals  Y_vals\n",
       "0        10      30\n",
       "1        11      27\n",
       "2        15      25\n",
       "3        18      22\n",
       "4        15      25\n",
       "..      ...     ...\n",
       "115      79      79\n",
       "116      78      78\n",
       "117      82      92\n",
       "118      73      93\n",
       "119      74     100\n",
       "\n",
       "[120 rows x 2 columns]"
      ]
     },
     "execution_count": 2,
     "metadata": {},
     "output_type": "execute_result"
    }
   ],
   "source": [
    "Y = [30,27,25,22,25,22,21,20,29,26,23,21,20,24,21,20,19,17,15,12,15,13,11,12, \n",
    "     11,22,38,29,37,18,15,29,19,20,21,22,35,22,30,37,37,16,35,27,20,32,33,35, \n",
    "     28,19,40,83,72,71,75,66,84,88,95,47,49,40,75,72,73,79,58,52,51,60,66,62, \n",
    "     55,50,60,51,45,57,58,49,43,42,70,65,55,53,56,65,75,18,50,53,70,35,16,55,\n",
    "     68,64,68,69,70,67,71,72,53,58,59,50,59,58,62,67,65,68,60,79,78,92,93,100]\n",
    "\n",
    "X = [10,11,15,18,15,19,15,18,20,22,25,23,25,24,27,29,30,32,31,33,35,33,38,39, \n",
    "     40,42,48,49,47,45,42,45,47,50,51,52,55,52,55,57,54,56,55,57,50,62,63,65, \n",
    "     68,69,70,73,72,71,75,76,74,78,75,77,89,70,75,82,83,59,68,77,79,70,56,62, \n",
    "     65,60,68,61,65,77,68,69,63,62,70,65,55,53,56,65,75,18,50,53,70,35,16,55,\n",
    "     78,74,68,69,70,97,61,62,73,78,79,70,99,75,72,77,82,70,71,79,78,82,73,74]\n",
    "\n",
    "d = {'X_vals':X, 'Y_vals':Y}\n",
    "\n",
    "df = pd.DataFrame(d)\n",
    "df"
   ]
  },
  {
   "cell_type": "code",
   "execution_count": 3,
   "id": "b2696286",
   "metadata": {},
   "outputs": [
    {
     "data": {
      "text/plain": [
       "<matplotlib.collections.PathCollection at 0x274e23b3188>"
      ]
     },
     "execution_count": 3,
     "metadata": {},
     "output_type": "execute_result"
    },
    {
     "data": {
      "image/png": "[encoded data removed]",
      "text/plain": [
       "<Figure size 432x288 with 1 Axes>"
      ]
     },
     "metadata": {
      "needs_background": "light"
     },
     "output_type": "display_data"
    }
   ],
   "source": [
    "plt.scatter(df['X_vals'], df['Y_vals'])"
   ]
  },
  {
   "cell_type": "code",
   "execution_count": 4,
   "id": "efead0e9",
   "metadata": {},
   "outputs": [
    {
     "data": {
      "text/plain": [
       "(120, 2)"
      ]
     },
     "execution_count": 4,
     "metadata": {},
     "output_type": "execute_result"
    }
   ],
   "source": [
    "df.shape"
   ]
  },
  {
   "cell_type": "code",
   "execution_count": 5,
   "id": "a8a2fca4",
   "metadata": {},
   "outputs": [
    {
     "name": "stdout",
     "output_type": "stream",
     "text": [
      "Coefficients: \n",
      " [0.84152932]\n",
      "Mean squared error: 232.45\n",
      "Coefficient of determination: 0.48\n"
     ]
    },
    {
     "data": {
      "image/png": "[encoded data removed]",
      "text/plain": [
       "<Figure size 432x288 with 1 Axes>"
      ]
     },
     "metadata": {},
     "output_type": "display_data"
    }
   ],
   "source": [
    "from sklearn.metrics import mean_squared_error, r2_score\n",
    "from sklearn.model_selection import train_test_split\n",
    "\n",
    "X_val = df[['X_vals']]\n",
    "y_val = df['Y_vals']\n",
    "\n",
    "diabetes_X_train, diabetes_X_test, diabetes_y_train, diabetes_y_test = train_test_split(X_val, y_val, test_size=0.2)\n",
    "\n",
    "\n",
    "from sklearn.linear_model import LinearRegression\n",
    "\n",
    "regr = LinearRegression()\n",
    "\n",
    "regr.fit(diabetes_X_train, diabetes_y_train)\n",
    "\n",
    "# Make predictions using the testing set\n",
    "diabetes_y_pred = regr.predict(diabetes_X_test)\n",
    "\n",
    "# The coefficients\n",
    "print('Coefficients: \\n', regr.coef_)\n",
    "# The mean squared error\n",
    "print('Mean squared error: %.2f'\n",
    "      % mean_squared_error(diabetes_y_test, diabetes_y_pred))\n",
    "# The coefficient of determination: 1 is perfect prediction\n",
    "print('Coefficient of determination: %.2f'\n",
    "      % r2_score(diabetes_y_test, diabetes_y_pred))\n",
    "\n",
    "# Plot outputs\n",
    "plt.scatter(diabetes_X_test, diabetes_y_test,  color='black')\n",
    "plt.plot(diabetes_X_test, diabetes_y_pred, color='blue', linewidth=3)\n",
    "\n",
    "plt.xticks(())\n",
    "plt.yticks(())\n",
    "\n",
    "plt.show()"
   ]
  },
  {
   "cell_type": "markdown",
   "id": "4cc88861",
   "metadata": {},
   "source": [
    "**MSE IN LINEAR REGRESSION IS VERY HIGH.**"
   ]
  },
  {
   "cell_type": "code",
   "execution_count": 7,
   "id": "da5fabcf",
   "metadata": {},
   "outputs": [
    {
     "name": "stdout",
     "output_type": "stream",
     "text": [
      "Coefficients: \n",
      " [ 0.00000000e+00 -2.19251525e+00  2.91185587e-02  3.55348213e-04\n",
      " -4.20309371e-06]\n",
      "Mean squared error: 172.61\n",
      "Coefficient of determination: 0.61\n"
     ]
    },
    {
     "data": {
      "image/png": "[encoded data removed]",
      "text/plain": [
       "<Figure size 432x288 with 1 Axes>"
      ]
     },
     "metadata": {},
     "output_type": "display_data"
    }
   ],
   "source": [
    "from sklearn.preprocessing import PolynomialFeatures\n",
    "    \n",
    "poly = PolynomialFeatures(degree = 4)\n",
    "X_poly = poly.fit_transform(diabetes_X_train)   \n",
    "    \n",
    "poly.fit(X_poly, diabetes_y_train)\n",
    "\n",
    "lin2 = LinearRegression()\n",
    "lin2.fit(X_poly, diabetes_y_train)\n",
    "\n",
    "\n",
    "# predicting on training data-set\n",
    "y_train_predicted = lin2.predict(X_poly)\n",
    "\n",
    "# predicting on test data-set\n",
    "y_test_predict = lin2.predict(poly.fit_transform(diabetes_X_test))\n",
    "\n",
    "rmse_train = mean_squared_error(diabetes_y_train, y_train_predicted)\n",
    "r2_train = r2_score(diabetes_y_train, y_train_predicted)\n",
    "\n",
    "# evaluating the model on test dataset\n",
    "rmse_test = mean_squared_error(diabetes_y_test, y_test_predict)\n",
    "r2_test = r2_score(diabetes_y_test, y_test_predict)\n",
    "\n",
    "\n",
    "# The coefficients\n",
    "print('Coefficients: \\n', lin2.coef_)\n",
    "# The mean squared error\n",
    "print('Mean squared error: %.2f'\n",
    "      % mean_squared_error(diabetes_y_test, y_test_predict))\n",
    "# The coefficient of determination: 1 is perfect prediction\n",
    "print('Coefficient of determination: %.2f'\n",
    "      % r2_score(diabetes_y_test, y_test_predict))\n",
    "\n",
    "\n",
    "plt.scatter(diabetes_X_test, diabetes_y_test,  color='black')\n",
    "plt.plot(diabetes_X_test, y_test_predict, color='blue', linewidth=1)\n",
    "\n",
    "\n",
    "plt.xticks(())\n",
    "plt.yticks(())\n",
    "\n",
    "plt.show()"
   ]
  },
  {
   "cell_type": "markdown",
   "id": "e8efd38e",
   "metadata": {},
   "source": [
    "**MSE IN PLOYNOMIAL REGRESSION IS LOW COMPARE TO LINEAR REGRESSION.**"
   ]
  },
  {
   "cell_type": "code",
   "execution_count": null,
   "id": "f8a83a16",
   "metadata": {},
   "outputs": [],
   "source": []
  }
 ],
 "metadata": {
  "kernelspec": {
   "display_name": "Python 3",
   "language": "python",
   "name": "python3"
  },
  "language_info": {
   "codemirror_mode": {
    "name": "ipython",
    "version": 3
   },
   "file_extension": ".py",
   "mimetype": "text/x-python",
   "name": "python",
   "nbconvert_exporter": "python",
   "pygments_lexer": "ipython3",
   "version": "3.7.7"
  }
 },
 "nbformat": 4,
 "nbformat_minor": 5
}
