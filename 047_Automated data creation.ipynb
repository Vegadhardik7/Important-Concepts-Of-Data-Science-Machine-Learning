{
 "cells": [
  {
   "cell_type": "code",
   "execution_count": 1,
   "id": "9715a297",
   "metadata": {},
   "outputs": [
    {
     "name": "stdout",
     "output_type": "stream",
     "text": [
      "\n",
      " (2, 12) \n",
      "\n",
      "X = [2]\n",
      "Y = [12]\n",
      "\n",
      " (0, 42) \n",
      "\n",
      "X = [2, 0]\n",
      "Y = [12, 42]\n",
      "\n",
      " (0, 60) \n",
      "\n",
      "X = [2, 0, 0]\n",
      "Y = [12, 42, 60]\n",
      "\n",
      " (3, 78) \n",
      "\n",
      "X = [2, 0, 0, 3]\n",
      "Y = [12, 42, 60, 78]\n",
      "\n",
      " (16, 85) \n",
      "\n",
      "X = [2, 0, 0, 3, 16]\n",
      "Y = [12, 42, 60, 78, 85]\n",
      "\n",
      " (38, 82) \n",
      "\n",
      "X = [2, 0, 0, 3, 16, 38]\n",
      "Y = [12, 42, 60, 78, 85, 82]\n",
      "\n",
      " (55, 78) \n",
      "\n",
      "X = [2, 0, 0, 3, 16, 38, 55]\n",
      "Y = [12, 42, 60, 78, 85, 82, 78]\n",
      "\n",
      " (69, 73) \n",
      "\n",
      "X = [2, 0, 0, 3, 16, 38, 55, 69]\n",
      "Y = [12, 42, 60, 78, 85, 82, 78, 73]\n",
      "\n",
      " (83, 63) \n",
      "\n",
      "X = [2, 0, 0, 3, 16, 38, 55, 69, 83]\n",
      "Y = [12, 42, 60, 78, 85, 82, 78, 73, 63]\n",
      "\n",
      " (88, 38) \n",
      "\n",
      "X = [2, 0, 0, 3, 16, 38, 55, 69, 83, 88]\n",
      "Y = [12, 42, 60, 78, 85, 82, 78, 73, 63, 38]\n",
      "\n",
      " (86, 17) \n",
      "\n",
      "X = [2, 0, 0, 3, 16, 38, 55, 69, 83, 88, 86]\n",
      "Y = [12, 42, 60, 78, 85, 82, 78, 73, 63, 38, 17]\n",
      "\n",
      " (58, 7) \n",
      "\n",
      "X = [2, 0, 0, 3, 16, 38, 55, 69, 83, 88, 86, 58]\n",
      "Y = [12, 42, 60, 78, 85, 82, 78, 73, 63, 38, 17, 7]\n",
      "\n",
      " (38, 7) \n",
      "\n",
      "X = [2, 0, 0, 3, 16, 38, 55, 69, 83, 88, 86, 58, 38]\n",
      "Y = [12, 42, 60, 78, 85, 82, 78, 73, 63, 38, 17, 7, 7]\n",
      "\n",
      " (18, 8) \n",
      "\n",
      "X = [2, 0, 0, 3, 16, 38, 55, 69, 83, 88, 86, 58, 38, 18]\n",
      "Y = [12, 42, 60, 78, 85, 82, 78, 73, 63, 38, 17, 7, 7, 8]\n"
     ]
    }
   ],
   "source": [
    "from tkinter import *\n",
    "\n",
    "lstx=[]\n",
    "lsty=[]\n",
    "def getxy(event):\n",
    "    \n",
    "    lstx.append(event.x)\n",
    "    lsty.append(event.y)\n",
    "    \n",
    "    print(\"\\n\",(event.x,event.y),\"\\n\")\n",
    "    \n",
    "    print('X =', lstx)\n",
    "    print('Y =', lsty)\n",
    "    \n",
    "    \n",
    "root = Tk()\n",
    "frame = Frame(root, width=100, height=100)\n",
    "frame.bind('<Button-1>', getxy)\n",
    "frame.pack()\n",
    "root.mainloop()"
   ]
  },
  {
   "cell_type": "code",
   "execution_count": 2,
   "id": "17bddce1",
   "metadata": {},
   "outputs": [],
   "source": [
    "import numpy as np\n",
    "import pandas as pd\n",
    "import seaborn as sns\n",
    "import matplotlib.pyplot as plt\n",
    "%matplotlib inline"
   ]
  },
  {
   "cell_type": "code",
   "execution_count": 4,
   "id": "4912d648",
   "metadata": {},
   "outputs": [
    {
     "data": {
      "text/html": [
       "<div>\n",
       "<style scoped>\n",
       "    .dataframe tbody tr th:only-of-type {\n",
       "        vertical-align: middle;\n",
       "    }\n",
       "\n",
       "    .dataframe tbody tr th {\n",
       "        vertical-align: top;\n",
       "    }\n",
       "\n",
       "    .dataframe thead th {\n",
       "        text-align: right;\n",
       "    }\n",
       "</style>\n",
       "<table border=\"1\" class=\"dataframe\">\n",
       "  <thead>\n",
       "    <tr style=\"text-align: right;\">\n",
       "      <th></th>\n",
       "      <th>X</th>\n",
       "      <th>Y</th>\n",
       "    </tr>\n",
       "  </thead>\n",
       "  <tbody>\n",
       "    <tr>\n",
       "      <th>0</th>\n",
       "      <td>2</td>\n",
       "      <td>12</td>\n",
       "    </tr>\n",
       "    <tr>\n",
       "      <th>1</th>\n",
       "      <td>0</td>\n",
       "      <td>42</td>\n",
       "    </tr>\n",
       "    <tr>\n",
       "      <th>2</th>\n",
       "      <td>0</td>\n",
       "      <td>60</td>\n",
       "    </tr>\n",
       "    <tr>\n",
       "      <th>3</th>\n",
       "      <td>3</td>\n",
       "      <td>78</td>\n",
       "    </tr>\n",
       "    <tr>\n",
       "      <th>4</th>\n",
       "      <td>16</td>\n",
       "      <td>85</td>\n",
       "    </tr>\n",
       "  </tbody>\n",
       "</table>\n",
       "</div>"
      ],
      "text/plain": [
       "    X   Y\n",
       "0   2  12\n",
       "1   0  42\n",
       "2   0  60\n",
       "3   3  78\n",
       "4  16  85"
      ]
     },
     "execution_count": 4,
     "metadata": {},
     "output_type": "execute_result"
    }
   ],
   "source": [
    "X = [2, 0, 0, 3, 16, 38, 55, 69, 83, 88, 86, 58, 38, 18]\n",
    "Y = [12, 42, 60, 78, 85, 82, 78, 73, 63, 38, 17, 7, 7, 8]\n",
    "\n",
    "dic = {\"X\":X, \"Y\":Y}\n",
    "\n",
    "df = pd.DataFrame(dic)\n",
    "df.head()"
   ]
  },
  {
   "cell_type": "code",
   "execution_count": 5,
   "id": "6f160427",
   "metadata": {},
   "outputs": [
    {
     "data": {
      "text/plain": [
       "<matplotlib.collections.PathCollection at 0x130d36bb9c8>"
      ]
     },
     "execution_count": 5,
     "metadata": {},
     "output_type": "execute_result"
    },
    {
     "data": {
      "image/png": "[encoded data removed]",
      "text/plain": [
       "<Figure size 576x360 with 1 Axes>"
      ]
     },
     "metadata": {
      "needs_background": "light"
     },
     "output_type": "display_data"
    }
   ],
   "source": [
    "plt.figure(figsize=(8,5))\n",
    "plt.scatter(X, Y, c =\"pink\", \n",
    "            linewidths = 2, \n",
    "            marker =\"s\", \n",
    "            edgecolor =\"green\", \n",
    "            s = 50, \n",
    "            label=\"0's\")"
   ]
  },
  {
   "cell_type": "code",
   "execution_count": null,
   "id": "80973984",
   "metadata": {},
   "outputs": [],
   "source": []
  }
 ],
 "metadata": {
  "kernelspec": {
   "display_name": "Python 3",
   "language": "python",
   "name": "python3"
  },
  "language_info": {
   "codemirror_mode": {
    "name": "ipython",
    "version": 3
   },
   "file_extension": ".py",
   "mimetype": "text/x-python",
   "name": "python",
   "nbconvert_exporter": "python",
   "pygments_lexer": "ipython3",
   "version": "3.7.7"
  }
 },
 "nbformat": 4,
 "nbformat_minor": 5
}
