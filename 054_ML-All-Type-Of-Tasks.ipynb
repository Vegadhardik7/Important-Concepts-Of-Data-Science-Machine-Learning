{
 "cells": [
  {
   "cell_type": "markdown",
   "id": "164dfa8e-c913-4032-a4a2-abed62b69901",
   "metadata": {},
   "source": [
    "# Binary Classification"
   ]
  },
  {
   "cell_type": "code",
   "execution_count": 1,
   "id": "9dcf009d-c8d7-4153-9939-b506ea5f1bf4",
   "metadata": {},
   "outputs": [],
   "source": [
    "import pandas as pd\n",
    "import numpy as np"
   ]
  },
  {
   "cell_type": "code",
   "execution_count": 6,
   "id": "1973dbea-d3df-431f-bf03-ad330c098c7d",
   "metadata": {},
   "outputs": [
    {
     "data": {
      "text/html": [
       "<div>\n",
       "<style scoped>\n",
       "    .dataframe tbody tr th:only-of-type {\n",
       "        vertical-align: middle;\n",
       "    }\n",
       "\n",
       "    .dataframe tbody tr th {\n",
       "        vertical-align: top;\n",
       "    }\n",
       "\n",
       "    .dataframe thead th {\n",
       "        text-align: right;\n",
       "    }\n",
       "</style>\n",
       "<table border=\"1\" class=\"dataframe\">\n",
       "  <thead>\n",
       "    <tr style=\"text-align: right;\">\n",
       "      <th></th>\n",
       "      <th>Monthly Salary</th>\n",
       "      <th>Avg Account Balance</th>\n",
       "      <th>Number of Bank Accounts</th>\n",
       "      <th>Age</th>\n",
       "      <th>Card Type</th>\n",
       "      <th>Marital Status</th>\n",
       "      <th>Employment Industry</th>\n",
       "      <th>Education</th>\n",
       "      <th>Residence Type</th>\n",
       "      <th>Credit Default</th>\n",
       "    </tr>\n",
       "  </thead>\n",
       "  <tbody>\n",
       "    <tr>\n",
       "      <th>0</th>\n",
       "      <td>4408.917520</td>\n",
       "      <td>2407.755280</td>\n",
       "      <td>2.0</td>\n",
       "      <td>56</td>\n",
       "      <td>Visa</td>\n",
       "      <td>Single</td>\n",
       "      <td>Tech</td>\n",
       "      <td>High School</td>\n",
       "      <td>Rent</td>\n",
       "      <td>0</td>\n",
       "    </tr>\n",
       "    <tr>\n",
       "      <th>1</th>\n",
       "      <td>5304.631027</td>\n",
       "      <td>16219.264663</td>\n",
       "      <td>3.0</td>\n",
       "      <td>45</td>\n",
       "      <td>NaN</td>\n",
       "      <td>Widow</td>\n",
       "      <td>Tech</td>\n",
       "      <td>High School</td>\n",
       "      <td>Other</td>\n",
       "      <td>0</td>\n",
       "    </tr>\n",
       "    <tr>\n",
       "      <th>2</th>\n",
       "      <td>5758.964114</td>\n",
       "      <td>9484.883993</td>\n",
       "      <td>1.0</td>\n",
       "      <td>20</td>\n",
       "      <td>MasterCard</td>\n",
       "      <td>Single</td>\n",
       "      <td>Healthcare</td>\n",
       "      <td>High School</td>\n",
       "      <td>Other</td>\n",
       "      <td>1</td>\n",
       "    </tr>\n",
       "    <tr>\n",
       "      <th>3</th>\n",
       "      <td>8623.009625</td>\n",
       "      <td>16125.661741</td>\n",
       "      <td>1.0</td>\n",
       "      <td>37</td>\n",
       "      <td>None</td>\n",
       "      <td>NaN</td>\n",
       "      <td>Healthcare</td>\n",
       "      <td>High School</td>\n",
       "      <td>Rent</td>\n",
       "      <td>0</td>\n",
       "    </tr>\n",
       "    <tr>\n",
       "      <th>4</th>\n",
       "      <td>4834.704430</td>\n",
       "      <td>10189.752181</td>\n",
       "      <td>1.0</td>\n",
       "      <td>23</td>\n",
       "      <td>MasterCard</td>\n",
       "      <td>Married</td>\n",
       "      <td>Finance</td>\n",
       "      <td>Bachelor</td>\n",
       "      <td>Own</td>\n",
       "      <td>0</td>\n",
       "    </tr>\n",
       "  </tbody>\n",
       "</table>\n",
       "</div>"
      ],
      "text/plain": [
       "   Monthly Salary  Avg Account Balance  Number of Bank Accounts  Age  \\\n",
       "0     4408.917520          2407.755280                      2.0   56   \n",
       "1     5304.631027         16219.264663                      3.0   45   \n",
       "2     5758.964114          9484.883993                      1.0   20   \n",
       "3     8623.009625         16125.661741                      1.0   37   \n",
       "4     4834.704430         10189.752181                      1.0   23   \n",
       "\n",
       "    Card Type Marital Status Employment Industry    Education Residence Type  \\\n",
       "0        Visa         Single                Tech  High School           Rent   \n",
       "1         NaN          Widow                Tech  High School          Other   \n",
       "2  MasterCard         Single          Healthcare  High School          Other   \n",
       "3        None            NaN          Healthcare  High School           Rent   \n",
       "4  MasterCard        Married             Finance     Bachelor            Own   \n",
       "\n",
       "   Credit Default  \n",
       "0               0  \n",
       "1               0  \n",
       "2               1  \n",
       "3               0  \n",
       "4               0  "
      ]
     },
     "execution_count": 6,
     "metadata": {},
     "output_type": "execute_result"
    }
   ],
   "source": [
    "n_samples = 100\n",
    "data = {\n",
    "    'Monthly Salary': np.random.normal(5000, 2000, n_samples),  # Numerical\n",
    "    'Avg Account Balance': np.random.normal(10000, 5000, n_samples),  # Numerical\n",
    "    'Number of Bank Accounts': np.random.randint(1, 4, n_samples),  # Numerical\n",
    "    'Age': np.random.randint(18, 80, n_samples),  # Numerical (no nulls)\n",
    "    'Card Type': np.random.choice(['Visa', 'MasterCard', 'None'], n_samples, p=[0.4, 0.4, 0.2]),  # Nominal\n",
    "    'Marital Status': np.random.choice(['Single', 'Married', 'Divorced', 'Widow'], n_samples, p=[0.5, 0.3, 0.1, 0.1]),  # Nominal\n",
    "    'Employment Industry': np.random.choice(['Tech', 'Finance', 'Healthcare', 'Other'], n_samples, p=[0.3, 0.3, 0.2, 0.2]),  # Nominal\n",
    "    'Education': np.random.choice(['High School', 'Bachelor', 'Master', 'PhD'], n_samples, p=[0.4, 0.4, 0.15, 0.05]),  # Ordinal\n",
    "    'Residence Type': np.random.choice(['Rent', 'Own', 'Other'], n_samples, p=[0.4, 0.5, 0.1]),  # Ordinal\n",
    "    'Credit Default': np.random.binomial(1, 0.3, n_samples)  # Binary target\n",
    "}\n",
    "\n",
    "df = pd.DataFrame(data)\n",
    "null_cols = ['Monthly Salary', 'Avg Account Balance', 'Number of Bank Accounts', 'Card Type', 'Marital Status', 'Employment Industry', 'Education', 'Residence Type']\n",
    "for col in null_cols:\n",
    "    null_mask = np.random.choice([True, False], n_samples, p=[0.15, 0.85])\n",
    "    df.loc[null_mask, col] = np.nan\n",
    "\n",
    "df.head()"
   ]
  },
  {
   "cell_type": "code",
   "execution_count": 7,
   "id": "c721975d-8a75-4409-96d9-444cc2a5f0cc",
   "metadata": {},
   "outputs": [
    {
     "name": "stdout",
     "output_type": "stream",
     "text": [
      "<class 'pandas.core.frame.DataFrame'>\n",
      "RangeIndex: 100 entries, 0 to 99\n",
      "Data columns (total 10 columns):\n",
      " #   Column                   Non-Null Count  Dtype  \n",
      "---  ------                   --------------  -----  \n",
      " 0   Monthly Salary           85 non-null     float64\n",
      " 1   Avg Account Balance      88 non-null     float64\n",
      " 2   Number of Bank Accounts  90 non-null     float64\n",
      " 3   Age                      100 non-null    int32  \n",
      " 4   Card Type                91 non-null     object \n",
      " 5   Marital Status           81 non-null     object \n",
      " 6   Employment Industry      85 non-null     object \n",
      " 7   Education                92 non-null     object \n",
      " 8   Residence Type           85 non-null     object \n",
      " 9   Credit Default           100 non-null    int32  \n",
      "dtypes: float64(3), int32(2), object(5)\n",
      "memory usage: 7.2+ KB\n"
     ]
    }
   ],
   "source": [
    "df.info()"
   ]
  },
  {
   "cell_type": "code",
   "execution_count": 8,
   "id": "9068f3af-c5fa-4baa-bfa2-e194594215d8",
   "metadata": {},
   "outputs": [],
   "source": [
    "# Define feature types\n",
    "num_cols = ['Monthly Salary', 'Avg Account Balance', 'Number of Bank Accounts', 'Age']\n",
    "nominal_cols = ['Card Type', 'Marital Status', 'Employment Industry']\n",
    "ordinal_cols = ['Education', 'Residence Type']\n",
    "all_features = num_cols + nominal_cols + ordinal_cols"
   ]
  },
  {
   "cell_type": "code",
   "execution_count": 9,
   "id": "2444f016-74ff-4e43-9994-cbd6707f745e",
   "metadata": {},
   "outputs": [
    {
     "data": {
      "text/plain": [
       "['Monthly Salary',\n",
       " 'Avg Account Balance',\n",
       " 'Number of Bank Accounts',\n",
       " 'Age',\n",
       " 'Card Type',\n",
       " 'Marital Status',\n",
       " 'Employment Industry',\n",
       " 'Education',\n",
       " 'Residence Type']"
      ]
     },
     "execution_count": 9,
     "metadata": {},
     "output_type": "execute_result"
    }
   ],
   "source": [
    "all_features"
   ]
  },
  {
   "cell_type": "code",
   "execution_count": 10,
   "id": "78255422-1642-414b-b5ad-2bc699f1f7be",
   "metadata": {},
   "outputs": [],
   "source": [
    "education_categories = ['High School', 'Bachelor', 'Master', 'PhD']\n",
    "residence_categories = ['Rent', 'Own', 'Other']"
   ]
  },
  {
   "cell_type": "code",
   "execution_count": 18,
   "id": "23aefe1a-906b-40d5-9339-6e4ca660b86d",
   "metadata": {},
   "outputs": [],
   "source": [
    "from sklearn.preprocessing import StandardScaler, OneHotEncoder, OrdinalEncoder\n",
    "from sklearn.impute import SimpleImputer, KNNImputer\n",
    "from sklearn.compose import ColumnTransformer\n",
    "from sklearn.pipeline import Pipeline\n",
    "\n",
    "num_transformer = Pipeline(steps=[\n",
    "    ('scaler', StandardScaler()),\n",
    "    ('imputer', KNNImputer(n_neighbors=5, weights='uniform'))\n",
    "])\n",
    "\n",
    "nominal_transformer = Pipeline(\n",
    "    steps=[('imputer',SimpleImputer(strategy='most_frequent')), \n",
    "           ('onehot', OneHotEncoder(drop='first', sparse_output=False, handle_unknown='ignore'))\n",
    "          ])\n",
    "\n",
    "ordinal_transformer = Pipeline(\n",
    "    steps=[('imputer',SimpleImputer(strategy='most_frequent')), \n",
    "           ('ordinal', OrdinalEncoder(categories=[education_categories, residence_categories]))])\n",
    "\n",
    "preprocessor = ColumnTransformer(\n",
    "    transformers=[\n",
    "        ('num', num_transformer, num_cols),\n",
    "        ('nominal', nominal_transformer, nominal_cols),\n",
    "        ('ordinal', ordinal_transformer, ordinal_cols)\n",
    "    ])"
   ]
  },
  {
   "cell_type": "code",
   "execution_count": 19,
   "id": "6052f3b9-fb55-4ae3-b36f-6c0c9ea38334",
   "metadata": {},
   "outputs": [],
   "source": [
    "from sklearn.ensemble import RandomForestClassifier\n",
    "from sklearn.feature_selection import SelectFromModel\n",
    "# Create pipeline with feature selection and classifier\n",
    "pipeline = Pipeline(steps=[\n",
    "    ('preprocessor', preprocessor),\n",
    "    ('feature_selection', SelectFromModel(RandomForestClassifier(n_estimators=100, random_state=42))),\n",
    "    ('classifier', RandomForestClassifier(n_estimators=100, random_state=42))\n",
    "])"
   ]
  },
  {
   "cell_type": "code",
   "execution_count": 20,
   "id": "9ca79bd2-6c64-41f2-a845-f7ed2fd2734c",
   "metadata": {},
   "outputs": [
    {
     "name": "stdout",
     "output_type": "stream",
     "text": [
      "Selected Features: ['Monthly Salary', 'Avg Account Balance', 'Age']\n"
     ]
    }
   ],
   "source": [
    "from sklearn.model_selection import train_test_split\n",
    "\n",
    "# Split data (80 train, 20 test)\n",
    "train_df, test_df = train_test_split(df, test_size=0.2, random_state=42)\n",
    "# Prepare data\n",
    "X_train = train_df[all_features]\n",
    "y_train = train_df['Credit Default']\n",
    "X_test = test_df[all_features]\n",
    "y_test = test_df['Credit Default']\n",
    "\n",
    "pipeline.fit(X_train, y_train)\n",
    "\n",
    "# Get selected features\n",
    "feature_names = (num_cols + \n",
    "                 list(pipeline.named_steps['preprocessor'].named_transformers_['nominal']['onehot'].get_feature_names_out(nominal_cols)) + \n",
    "                 ordinal_cols)\n",
    "selected_mask = pipeline.named_steps['feature_selection'].get_support()\n",
    "selected_features = [feature_names[i] for i in range(len(feature_names)) if selected_mask[i]]\n",
    "print(\"Selected Features:\", selected_features)"
   ]
  },
  {
   "cell_type": "code",
   "execution_count": 22,
   "id": "39f2c184-3027-459b-9fd5-a6797b54f3f2",
   "metadata": {},
   "outputs": [],
   "source": [
    "from sklearn.metrics import accuracy_score, precision_score, recall_score, f1_score, confusion_matrix, classification_report\n",
    "\n",
    "# Predict on test set\n",
    "y_pred = pipeline.predict(X_test)\n",
    "\n",
    "# Performance metrics\n",
    "accuracy = accuracy_score(y_test, y_pred)\n",
    "precision = precision_score(y_test, y_pred)\n",
    "recall = recall_score(y_test, y_pred)\n",
    "f1 = f1_score(y_test, y_pred)"
   ]
  },
  {
   "cell_type": "code",
   "execution_count": 23,
   "id": "3c404a05-f8fb-4b60-8374-c6a874d52d0d",
   "metadata": {},
   "outputs": [
    {
     "name": "stdout",
     "output_type": "stream",
     "text": [
      "\n",
      "Performance Metrics:\n",
      "Accuracy: 0.6500\n",
      "Precision: 0.5000\n",
      "Recall: 0.1429\n",
      "F1-Score: 0.2222\n"
     ]
    }
   ],
   "source": [
    "print(\"\\nPerformance Metrics:\")\n",
    "print(f\"Accuracy: {accuracy:.4f}\")\n",
    "print(f\"Precision: {precision:.4f}\")\n",
    "print(f\"Recall: {recall:.4f}\")\n",
    "print(f\"F1-Score: {f1:.4f}\")"
   ]
  },
  {
   "cell_type": "code",
   "execution_count": 24,
   "id": "c0276ab1-1661-4b53-8f46-6d6f9668e2cc",
   "metadata": {},
   "outputs": [
    {
     "name": "stdout",
     "output_type": "stream",
     "text": [
      "\n",
      "Confusion Matrix:\n",
      "[[12  1]\n",
      " [ 6  1]]\n"
     ]
    }
   ],
   "source": [
    "cm = confusion_matrix(y_test, y_pred)\n",
    "print(\"\\nConfusion Matrix:\")\n",
    "print(cm)"
   ]
  },
  {
   "cell_type": "code",
   "execution_count": 26,
   "id": "f0548a46-05a3-4158-8212-4d70e4482333",
   "metadata": {},
   "outputs": [
    {
     "name": "stdout",
     "output_type": "stream",
     "text": [
      "\n",
      "Classification Report:\n",
      "              precision    recall  f1-score   support\n",
      "\n",
      "  No Default       0.67      0.92      0.77        13\n",
      "     Default       0.50      0.14      0.22         7\n",
      "\n",
      "    accuracy                           0.65        20\n",
      "   macro avg       0.58      0.53      0.50        20\n",
      "weighted avg       0.61      0.65      0.58        20\n",
      "\n"
     ]
    }
   ],
   "source": [
    "import seaborn as sns\n",
    "import matplotlib.pyplot as plt\n",
    "\n",
    "# Visualize confusion matrix\n",
    "plt.figure(figsize=(6, 4))\n",
    "sns.heatmap(cm, annot=True, fmt='d', cmap='Blues', cbar=False,\n",
    "            xticklabels=['No Default (0)', 'Default (1)'],\n",
    "            yticklabels=['No Default (0)', 'Default (1)'])\n",
    "plt.title('Confusion Matrix')\n",
    "plt.xlabel('Predicted')\n",
    "plt.ylabel('Actual')\n",
    "plt.savefig('confusion_matrix.png')\n",
    "plt.close()\n",
    "\n",
    "# Detailed classification report\n",
    "print(\"\\nClassification Report:\")\n",
    "print(classification_report(y_test, y_pred, target_names=['No Default', 'Default']))\n",
    "\n",
    "# Save pipeline\n",
    "# with open('rf_pipeline.pkl', 'wb') as f:\n",
    "#     pickle.dump(pipeline, f)"
   ]
  },
  {
   "cell_type": "markdown",
   "id": "8e5da41e-7fcd-42be-bc0f-90038b20d8b8",
   "metadata": {},
   "source": [
    "# Regression Analysis"
   ]
  },
  {
   "cell_type": "code",
   "execution_count": 27,
   "id": "73e0e63d-f84b-4369-b01a-206e7da41615",
   "metadata": {},
   "outputs": [],
   "source": [
    "import pandas as pd\n",
    "import numpy as np\n",
    "from sklearn.linear_model import LinearRegression\n",
    "from sklearn.model_selection import train_test_split\n",
    "from sklearn.preprocessing import StandardScaler, OneHotEncoder, OrdinalEncoder\n",
    "from sklearn.impute import SimpleImputer, KNNImputer\n",
    "from sklearn.compose import ColumnTransformer\n",
    "from sklearn.pipeline import Pipeline\n",
    "from sklearn.metrics import r2_score, mean_squared_error, mean_absolute_error\n",
    "from sklearn.feature_selection import SelectFromModel\n",
    "import matplotlib.pyplot as plt\n",
    "import seaborn as sns"
   ]
  },
  {
   "cell_type": "code",
   "execution_count": 28,
   "id": "47d59d44-7f12-4075-a88e-613330c1e749",
   "metadata": {},
   "outputs": [],
   "source": [
    "# Set random seed for reproducibility\n",
    "np.random.seed(42)\n",
    "\n",
    "# Create synthetic dataset (100 records)\n",
    "n_samples = 100\n",
    "data = {\n",
    "    'Square Footage': np.random.normal(2000, 500, n_samples),  # Numerical\n",
    "    'Lot Size': np.random.normal(6000, 2000, n_samples),  # Numerical\n",
    "    'Bedrooms': np.random.randint(1, 6, n_samples),  # Numerical\n",
    "    'Age': np.random.randint(0, 50, n_samples),  # Numerical\n",
    "    'House Type': np.random.choice(['Single Family', 'Condo', 'Townhouse'], n_samples, p=[0.5, 0.3, 0.2]),  # Nominal\n",
    "    'City': np.random.choice(['Suburban', 'Urban', 'Rural'], n_samples, p=[0.4, 0.4, 0.2]),  # Nominal\n",
    "    'Neighborhood Quality': np.random.choice(['Low', 'Medium', 'High'], n_samples, p=[0.3, 0.5, 0.2]),  # Ordinal\n",
    "    'Condition': np.random.choice(['Poor', 'Average', 'Excellent'], n_samples, p=[0.2, 0.6, 0.2]),  # Ordinal\n",
    "    # Target: House Price (in thousands)\n",
    "    'House Price': 100 + 0.1 * np.random.normal(2000, 500, n_samples) + 0.05 * np.random.normal(6000, 2000, n_samples) + np.random.normal(0, 50, n_samples)\n",
    "}\n",
    "\n",
    "df = pd.DataFrame(data)"
   ]
  },
  {
   "cell_type": "code",
   "execution_count": 29,
   "id": "9c5296f3-39c5-42e0-b052-e693c5fb5f6d",
   "metadata": {},
   "outputs": [
    {
     "data": {
      "text/html": [
       "<div>\n",
       "<style scoped>\n",
       "    .dataframe tbody tr th:only-of-type {\n",
       "        vertical-align: middle;\n",
       "    }\n",
       "\n",
       "    .dataframe tbody tr th {\n",
       "        vertical-align: top;\n",
       "    }\n",
       "\n",
       "    .dataframe thead th {\n",
       "        text-align: right;\n",
       "    }\n",
       "</style>\n",
       "<table border=\"1\" class=\"dataframe\">\n",
       "  <thead>\n",
       "    <tr style=\"text-align: right;\">\n",
       "      <th></th>\n",
       "      <th>Square Footage</th>\n",
       "      <th>Lot Size</th>\n",
       "      <th>Bedrooms</th>\n",
       "      <th>Age</th>\n",
       "      <th>House Type</th>\n",
       "      <th>City</th>\n",
       "      <th>Neighborhood Quality</th>\n",
       "      <th>Condition</th>\n",
       "      <th>House Price</th>\n",
       "    </tr>\n",
       "  </thead>\n",
       "  <tbody>\n",
       "    <tr>\n",
       "      <th>0</th>\n",
       "      <td>2248.357077</td>\n",
       "      <td>3169.258516</td>\n",
       "      <td>2</td>\n",
       "      <td>30</td>\n",
       "      <td>Single Family</td>\n",
       "      <td>Urban</td>\n",
       "      <td>Medium</td>\n",
       "      <td>Poor</td>\n",
       "      <td>429.837143</td>\n",
       "    </tr>\n",
       "    <tr>\n",
       "      <th>1</th>\n",
       "      <td>1930.867849</td>\n",
       "      <td>5158.709354</td>\n",
       "      <td>2</td>\n",
       "      <td>9</td>\n",
       "      <td>Townhouse</td>\n",
       "      <td>Rural</td>\n",
       "      <td>Low</td>\n",
       "      <td>Poor</td>\n",
       "      <td>477.437020</td>\n",
       "    </tr>\n",
       "    <tr>\n",
       "      <th>2</th>\n",
       "      <td>2323.844269</td>\n",
       "      <td>5314.570967</td>\n",
       "      <td>1</td>\n",
       "      <td>18</td>\n",
       "      <td>Condo</td>\n",
       "      <td>Suburban</td>\n",
       "      <td>Medium</td>\n",
       "      <td>Average</td>\n",
       "      <td>780.179700</td>\n",
       "    </tr>\n",
       "    <tr>\n",
       "      <th>3</th>\n",
       "      <td>2761.514928</td>\n",
       "      <td>4395.445462</td>\n",
       "      <td>1</td>\n",
       "      <td>31</td>\n",
       "      <td>Single Family</td>\n",
       "      <td>Rural</td>\n",
       "      <td>Medium</td>\n",
       "      <td>Average</td>\n",
       "      <td>639.098415</td>\n",
       "    </tr>\n",
       "    <tr>\n",
       "      <th>4</th>\n",
       "      <td>1882.923313</td>\n",
       "      <td>5677.428577</td>\n",
       "      <td>1</td>\n",
       "      <td>0</td>\n",
       "      <td>Single Family</td>\n",
       "      <td>Urban</td>\n",
       "      <td>Medium</td>\n",
       "      <td>Average</td>\n",
       "      <td>471.630596</td>\n",
       "    </tr>\n",
       "  </tbody>\n",
       "</table>\n",
       "</div>"
      ],
      "text/plain": [
       "   Square Footage     Lot Size  Bedrooms  Age     House Type      City  \\\n",
       "0     2248.357077  3169.258516         2   30  Single Family     Urban   \n",
       "1     1930.867849  5158.709354         2    9      Townhouse     Rural   \n",
       "2     2323.844269  5314.570967         1   18          Condo  Suburban   \n",
       "3     2761.514928  4395.445462         1   31  Single Family     Rural   \n",
       "4     1882.923313  5677.428577         1    0  Single Family     Urban   \n",
       "\n",
       "  Neighborhood Quality Condition  House Price  \n",
       "0               Medium      Poor   429.837143  \n",
       "1                  Low      Poor   477.437020  \n",
       "2               Medium   Average   780.179700  \n",
       "3               Medium   Average   639.098415  \n",
       "4               Medium   Average   471.630596  "
      ]
     },
     "execution_count": 29,
     "metadata": {},
     "output_type": "execute_result"
    }
   ],
   "source": [
    "df.head()"
   ]
  },
  {
   "cell_type": "code",
   "execution_count": 30,
   "id": "9ad6bfa1-946e-4cd3-b4b1-da9c23bdde84",
   "metadata": {},
   "outputs": [
    {
     "name": "stdout",
     "output_type": "stream",
     "text": [
      "<class 'pandas.core.frame.DataFrame'>\n",
      "RangeIndex: 100 entries, 0 to 99\n",
      "Data columns (total 9 columns):\n",
      " #   Column                Non-Null Count  Dtype  \n",
      "---  ------                --------------  -----  \n",
      " 0   Square Footage        100 non-null    float64\n",
      " 1   Lot Size              100 non-null    float64\n",
      " 2   Bedrooms              100 non-null    int32  \n",
      " 3   Age                   100 non-null    int32  \n",
      " 4   House Type            100 non-null    object \n",
      " 5   City                  100 non-null    object \n",
      " 6   Neighborhood Quality  100 non-null    object \n",
      " 7   Condition             100 non-null    object \n",
      " 8   House Price           100 non-null    float64\n",
      "dtypes: float64(3), int32(2), object(4)\n",
      "memory usage: 6.4+ KB\n"
     ]
    }
   ],
   "source": [
    "df.info()"
   ]
  },
  {
   "cell_type": "code",
   "execution_count": 31,
   "id": "b62de7b5-6ca8-44fb-bf1b-03afc0326cef",
   "metadata": {},
   "outputs": [
    {
     "name": "stdout",
     "output_type": "stream",
     "text": [
      "<class 'pandas.core.frame.DataFrame'>\n",
      "RangeIndex: 100 entries, 0 to 99\n",
      "Data columns (total 9 columns):\n",
      " #   Column                Non-Null Count  Dtype  \n",
      "---  ------                --------------  -----  \n",
      " 0   Square Footage        86 non-null     float64\n",
      " 1   Lot Size              88 non-null     float64\n",
      " 2   Bedrooms              85 non-null     float64\n",
      " 3   Age                   100 non-null    int32  \n",
      " 4   House Type            90 non-null     object \n",
      " 5   City                  86 non-null     object \n",
      " 6   Neighborhood Quality  85 non-null     object \n",
      " 7   Condition             80 non-null     object \n",
      " 8   House Price           100 non-null    float64\n",
      "dtypes: float64(4), int32(1), object(4)\n",
      "memory usage: 6.8+ KB\n"
     ]
    }
   ],
   "source": [
    "# Introduce nulls (~10-15% in train/test)\n",
    "null_cols = ['Square Footage', 'Lot Size', 'Bedrooms', 'House Type', 'City', 'Neighborhood Quality', 'Condition']\n",
    "for col in null_cols:\n",
    "    null_mask = np.random.choice([True, False], n_samples, p=[0.15, 0.85])\n",
    "    df.loc[null_mask, col] = np.nan\n",
    "\n",
    "df.info()"
   ]
  },
  {
   "cell_type": "code",
   "execution_count": 32,
   "id": "99d7644e-f863-4c68-9567-39ee0b935e96",
   "metadata": {},
   "outputs": [],
   "source": [
    "# Split data (80 train, 20 test)\n",
    "train_df, test_df = train_test_split(df, test_size=0.2, random_state=42)"
   ]
  },
  {
   "cell_type": "code",
   "execution_count": 33,
   "id": "25e0aa5c-e9df-4b12-b6a5-80484991ece6",
   "metadata": {},
   "outputs": [],
   "source": [
    "# Define feature types\n",
    "num_cols = ['Square Footage', 'Lot Size', 'Bedrooms', 'Age']\n",
    "nominal_cols = ['House Type', 'City']\n",
    "ordinal_cols = ['Neighborhood Quality', 'Condition']\n",
    "all_features = num_cols + nominal_cols + ordinal_cols"
   ]
  },
  {
   "cell_type": "code",
   "execution_count": 34,
   "id": "d982eade-bbf7-4414-83da-f1a0e39975c2",
   "metadata": {},
   "outputs": [],
   "source": [
    "# Define ordinal categories (ordered)\n",
    "neighborhood_categories = ['Low', 'Medium', 'High']\n",
    "condition_categories = ['Poor', 'Average', 'Excellent']"
   ]
  },
  {
   "cell_type": "code",
   "execution_count": 35,
   "id": "d079b023-e03c-40c3-80de-0d423d98ce65",
   "metadata": {},
   "outputs": [],
   "source": [
    "# Create preprocessing pipeline\n",
    "num_transformer = Pipeline(steps=[\n",
    "    ('scaler', StandardScaler()),\n",
    "    ('imputer', KNNImputer(n_neighbors=5, weights='uniform'))\n",
    "])\n",
    "\n",
    "nominal_transformer = Pipeline(steps=[\n",
    "    ('imputer', SimpleImputer(strategy='most_frequent')),\n",
    "    ('onehot', OneHotEncoder(drop='first', sparse_output=False, handle_unknown='ignore'))\n",
    "])\n",
    "\n",
    "ordinal_transformer = Pipeline(steps=[\n",
    "    ('imputer', SimpleImputer(strategy='most_frequent')),\n",
    "    ('ordinal', OrdinalEncoder(categories=[neighborhood_categories, condition_categories]))\n",
    "])\n",
    "\n",
    "preprocessor = ColumnTransformer(\n",
    "    transformers=[\n",
    "        ('num', num_transformer, num_cols),\n",
    "        ('nominal', nominal_transformer, nominal_cols),\n",
    "        ('ordinal', ordinal_transformer, ordinal_cols)\n",
    "    ])"
   ]
  },
  {
   "cell_type": "code",
   "execution_count": 36,
   "id": "7e32fc4a-29e5-45ab-8a7d-fed4290ad498",
   "metadata": {},
   "outputs": [],
   "source": [
    "# Create pipeline with feature selection and Linear Regression\n",
    "pipeline = Pipeline(steps=[\n",
    "    ('preprocessor', preprocessor),\n",
    "    ('feature_selection', SelectFromModel(LinearRegression())),\n",
    "    ('regressor', LinearRegression())\n",
    "])"
   ]
  },
  {
   "cell_type": "code",
   "execution_count": 37,
   "id": "e649eab8-d24a-4240-ad52-83803dfff30f",
   "metadata": {},
   "outputs": [],
   "source": [
    "# Prepare data\n",
    "X_train = train_df[all_features]\n",
    "y_train = train_df['House Price']\n",
    "X_test = test_df[all_features]\n",
    "y_test = test_df['House Price']"
   ]
  },
  {
   "cell_type": "code",
   "execution_count": 38,
   "id": "16bcb700-336e-4833-8787-bb7fe0c71177",
   "metadata": {},
   "outputs": [
    {
     "name": "stdout",
     "output_type": "stream",
     "text": [
      "Selected Features: ['Bedrooms', 'Age', 'House Type_Townhouse', 'City_Suburban', 'Neighborhood Quality']\n"
     ]
    }
   ],
   "source": [
    "# Fit pipeline\n",
    "pipeline.fit(X_train, y_train)\n",
    "\n",
    "# Get selected features\n",
    "feature_names = (num_cols + \n",
    "                 list(pipeline.named_steps['preprocessor'].named_transformers_['nominal']['onehot'].get_feature_names_out(nominal_cols)) + \n",
    "                 ordinal_cols)\n",
    "selected_mask = pipeline.named_steps['feature_selection'].get_support()\n",
    "selected_features = [feature_names[i] for i in range(len(feature_names)) if selected_mask[i]]\n",
    "print(\"Selected Features:\", selected_features)"
   ]
  },
  {
   "cell_type": "code",
   "execution_count": 39,
   "id": "c9a5f834-d5b0-4b29-a2e5-c4d978017357",
   "metadata": {},
   "outputs": [
    {
     "name": "stdout",
     "output_type": "stream",
     "text": [
      "\n",
      "Performance Metrics:\n",
      "R² Score: -0.3669\n",
      "RMSE: 126.4006\n",
      "MAE: 95.9821\n"
     ]
    }
   ],
   "source": [
    "# Predict on test set\n",
    "y_pred = pipeline.predict(X_test)\n",
    "\n",
    "# Performance metrics\n",
    "r2 = r2_score(y_test, y_pred)\n",
    "rmse = np.sqrt(mean_squared_error(y_test, y_pred))\n",
    "mae = mean_absolute_error(y_test, y_pred)\n",
    "\n",
    "print(\"\\nPerformance Metrics:\")\n",
    "print(f\"R² Score: {r2:.4f}\")\n",
    "print(f\"RMSE: {rmse:.4f}\")\n",
    "print(f\"MAE: {mae:.4f}\")"
   ]
  },
  {
   "cell_type": "code",
   "execution_count": 42,
   "id": "eb148068-fdc1-4890-a0f9-85e52370ab62",
   "metadata": {},
   "outputs": [
    {
     "data": {
      "text/plain": [
       "Text(0, 0.5, 'Residuals')"
      ]
     },
     "execution_count": 42,
     "metadata": {},
     "output_type": "execute_result"
    },
    {
     "data": {
      "image/png": "[encoded data removed]",
      "text/plain": [
       "<Figure size 800x600 with 1 Axes>"
      ]
     },
     "metadata": {},
     "output_type": "display_data"
    }
   ],
   "source": [
    "# Residual plot\n",
    "residuals = y_test - y_pred\n",
    "plt.figure(figsize=(8, 6))\n",
    "sns.scatterplot(x=y_pred, y=residuals)\n",
    "plt.axhline(y=0, color='r', linestyle='--')\n",
    "plt.title('Residual Plot')\n",
    "plt.xlabel('Predicted House Price')\n",
    "plt.ylabel('Residuals')\n",
    "# plt.savefig('residual_plot.png')\n",
    "# plt.close()"
   ]
  },
  {
   "cell_type": "markdown",
   "id": "f3ec6e0c-ce0e-44bd-8ba9-c2368f68c7f6",
   "metadata": {},
   "source": [
    "# Multi-Class Classification"
   ]
  },
  {
   "cell_type": "code",
   "execution_count": 43,
   "id": "be0f17c2-1607-4847-9754-00df6e40cdc5",
   "metadata": {},
   "outputs": [],
   "source": [
    "import pandas as pd\n",
    "import numpy as np\n",
    "from sklearn.ensemble import RandomForestClassifier\n",
    "from sklearn.model_selection import train_test_split\n",
    "from sklearn.preprocessing import StandardScaler, OneHotEncoder, OrdinalEncoder\n",
    "from sklearn.impute import SimpleImputer, KNNImputer\n",
    "from sklearn.compose import ColumnTransformer\n",
    "from sklearn.pipeline import Pipeline\n",
    "from sklearn.metrics import accuracy_score, precision_score, recall_score, f1_score, confusion_matrix, classification_report\n",
    "from sklearn.feature_selection import SelectFromModel\n",
    "import seaborn as sns\n",
    "import matplotlib.pyplot as plt"
   ]
  },
  {
   "cell_type": "code",
   "execution_count": 44,
   "id": "f7198ce1-feb0-4b9d-92f2-86bd3ed2af93",
   "metadata": {},
   "outputs": [],
   "source": [
    "n_samples = 100\n",
    "data = {\n",
    "    'Income': np.random.normal(60000, 20000, n_samples),  # Numerical\n",
    "    'Credit Score': np.random.normal(700, 50, n_samples),  # Numerical\n",
    "    'Debt Ratio': np.random.uniform(0.1, 0.5, n_samples),  # Numerical\n",
    "    'Age': np.random.randint(18, 80, n_samples),  # Numerical\n",
    "    'Occupation': np.random.choice(['Engineer', 'Teacher', 'Sales', 'Other'], n_samples, p=[0.3, 0.3, 0.2, 0.2]),  # Nominal\n",
    "    'Region': np.random.choice(['Urban', 'Suburban', 'Rural'], n_samples, p=[0.4, 0.4, 0.2]),  # Nominal\n",
    "    'Education Level': np.random.choice(['High School', 'Bachelor', 'Master', 'PhD'], n_samples, p=[0.4, 0.4, 0.15, 0.05]),  # Ordinal\n",
    "    'Loan History': np.random.choice(['Poor', 'Fair', 'Good'], n_samples, p=[0.3, 0.4, 0.3]),  # Ordinal\n",
    "    # Multiclass target: Credit Risk (Low=0, Medium=1, High=2)\n",
    "    'Credit Risk': np.random.choice([0, 1, 2], n_samples, p=[0.4, 0.4, 0.2])\n",
    "}"
   ]
  },
  {
   "cell_type": "code",
   "execution_count": 45,
   "id": "963967a6-0ee4-4a21-bf10-00798a442d5f",
   "metadata": {},
   "outputs": [
    {
     "data": {
      "text/html": [
       "<div>\n",
       "<style scoped>\n",
       "    .dataframe tbody tr th:only-of-type {\n",
       "        vertical-align: middle;\n",
       "    }\n",
       "\n",
       "    .dataframe tbody tr th {\n",
       "        vertical-align: top;\n",
       "    }\n",
       "\n",
       "    .dataframe thead th {\n",
       "        text-align: right;\n",
       "    }\n",
       "</style>\n",
       "<table border=\"1\" class=\"dataframe\">\n",
       "  <thead>\n",
       "    <tr style=\"text-align: right;\">\n",
       "      <th></th>\n",
       "      <th>Income</th>\n",
       "      <th>Credit Score</th>\n",
       "      <th>Debt Ratio</th>\n",
       "      <th>Age</th>\n",
       "      <th>Occupation</th>\n",
       "      <th>Region</th>\n",
       "      <th>Education Level</th>\n",
       "      <th>Loan History</th>\n",
       "      <th>Credit Risk</th>\n",
       "    </tr>\n",
       "  </thead>\n",
       "  <tbody>\n",
       "    <tr>\n",
       "      <th>0</th>\n",
       "      <td>80039.045356</td>\n",
       "      <td>752.652872</td>\n",
       "      <td>0.489383</td>\n",
       "      <td>72</td>\n",
       "      <td>Engineer</td>\n",
       "      <td>Suburban</td>\n",
       "      <td>High School</td>\n",
       "      <td>Good</td>\n",
       "      <td>1</td>\n",
       "    </tr>\n",
       "    <tr>\n",
       "      <th>1</th>\n",
       "      <td>64100.533741</td>\n",
       "      <td>801.665265</td>\n",
       "      <td>0.234736</td>\n",
       "      <td>33</td>\n",
       "      <td>Sales</td>\n",
       "      <td>Urban</td>\n",
       "      <td>High School</td>\n",
       "      <td>Good</td>\n",
       "      <td>1</td>\n",
       "    </tr>\n",
       "    <tr>\n",
       "      <th>2</th>\n",
       "      <td>36136.907078</td>\n",
       "      <td>634.312109</td>\n",
       "      <td>0.218596</td>\n",
       "      <td>46</td>\n",
       "      <td>Engineer</td>\n",
       "      <td>Urban</td>\n",
       "      <td>High School</td>\n",
       "      <td>Good</td>\n",
       "      <td>1</td>\n",
       "    </tr>\n",
       "    <tr>\n",
       "      <th>3</th>\n",
       "      <td>55342.131735</td>\n",
       "      <td>645.234919</td>\n",
       "      <td>0.467283</td>\n",
       "      <td>79</td>\n",
       "      <td>Engineer</td>\n",
       "      <td>Suburban</td>\n",
       "      <td>Bachelor</td>\n",
       "      <td>Fair</td>\n",
       "      <td>0</td>\n",
       "    </tr>\n",
       "    <tr>\n",
       "      <th>4</th>\n",
       "      <td>86536.188401</td>\n",
       "      <td>691.560161</td>\n",
       "      <td>0.144299</td>\n",
       "      <td>66</td>\n",
       "      <td>Teacher</td>\n",
       "      <td>Urban</td>\n",
       "      <td>High School</td>\n",
       "      <td>Fair</td>\n",
       "      <td>1</td>\n",
       "    </tr>\n",
       "  </tbody>\n",
       "</table>\n",
       "</div>"
      ],
      "text/plain": [
       "         Income  Credit Score  Debt Ratio  Age Occupation    Region  \\\n",
       "0  80039.045356    752.652872    0.489383   72   Engineer  Suburban   \n",
       "1  64100.533741    801.665265    0.234736   33      Sales     Urban   \n",
       "2  36136.907078    634.312109    0.218596   46   Engineer     Urban   \n",
       "3  55342.131735    645.234919    0.467283   79   Engineer  Suburban   \n",
       "4  86536.188401    691.560161    0.144299   66    Teacher     Urban   \n",
       "\n",
       "  Education Level Loan History  Credit Risk  \n",
       "0     High School         Good            1  \n",
       "1     High School         Good            1  \n",
       "2     High School         Good            1  \n",
       "3        Bachelor         Fair            0  \n",
       "4     High School         Fair            1  "
      ]
     },
     "execution_count": 45,
     "metadata": {},
     "output_type": "execute_result"
    }
   ],
   "source": [
    "df = pd.DataFrame(data)\n",
    "df.head()"
   ]
  },
  {
   "cell_type": "code",
   "execution_count": 47,
   "id": "919e5ea1-67ca-4291-a3f7-9539af9764a4",
   "metadata": {},
   "outputs": [
    {
     "data": {
      "text/plain": [
       "Credit Risk\n",
       "0    42\n",
       "1    38\n",
       "2    20\n",
       "Name: count, dtype: int64"
      ]
     },
     "execution_count": 47,
     "metadata": {},
     "output_type": "execute_result"
    }
   ],
   "source": [
    "df['Credit Risk'].value_counts()"
   ]
  },
  {
   "cell_type": "code",
   "execution_count": 50,
   "id": "e9870f77-386f-4357-949f-c42aa2407828",
   "metadata": {},
   "outputs": [],
   "source": [
    "# Introduce nulls (~10-15% in train/test)\n",
    "null_cols = ['Income', 'Credit Score', 'Debt Ratio', 'Occupation', 'Region', 'Education Level', 'Loan History']\n",
    "for col in null_cols:\n",
    "    null_mask = np.random.choice([True, False], n_samples, p=[0.15, 0.85])\n",
    "    df.loc[null_mask, col] = np.nan\n",
    "\n",
    "# Split data (80 train, 20 test)\n",
    "train_df, test_df = train_test_split(df, test_size=0.2, random_state=42)"
   ]
  },
  {
   "cell_type": "code",
   "execution_count": 51,
   "id": "f7646e49-a13f-4805-9317-c88de47467e1",
   "metadata": {},
   "outputs": [],
   "source": [
    "# Define feature types\n",
    "num_cols = ['Income', 'Credit Score', 'Debt Ratio', 'Age']\n",
    "nominal_cols = ['Occupation', 'Region']\n",
    "ordinal_cols = ['Education Level', 'Loan History']\n",
    "all_features = num_cols + nominal_cols + ordinal_cols\n",
    "\n",
    "# Define ordinal categories (ordered)\n",
    "education_categories = ['High School', 'Bachelor', 'Master', 'PhD']\n",
    "loan_history_categories = ['Poor', 'Fair', 'Good']\n",
    "\n",
    "# Create preprocessing pipeline\n",
    "num_transformer = Pipeline(steps=[\n",
    "    ('scaler', StandardScaler()),\n",
    "    ('imputer', KNNImputer(n_neighbors=5, weights='uniform'))\n",
    "])\n",
    "\n",
    "nominal_transformer = Pipeline(steps=[\n",
    "    ('imputer', SimpleImputer(strategy='most_frequent')),\n",
    "    ('onehot', OneHotEncoder(drop='first', sparse_output=False, handle_unknown='ignore'))\n",
    "])\n",
    "\n",
    "ordinal_transformer = Pipeline(steps=[\n",
    "    ('imputer', SimpleImputer(strategy='most_frequent')),\n",
    "    ('ordinal', OrdinalEncoder(categories=[education_categories, loan_history_categories]))\n",
    "])"
   ]
  },
  {
   "cell_type": "code",
   "execution_count": 52,
   "id": "cc5c90f9-806e-471d-b960-eb9fefff2a84",
   "metadata": {},
   "outputs": [],
   "source": [
    "preprocessor = ColumnTransformer(\n",
    "    transformers=[\n",
    "        ('num', num_transformer, num_cols),\n",
    "        ('nominal', nominal_transformer, nominal_cols),\n",
    "        ('ordinal', ordinal_transformer, ordinal_cols)\n",
    "    ])\n",
    "\n",
    "# Create pipeline with feature selection and Random Forest\n",
    "pipeline = Pipeline(steps=[\n",
    "    ('preprocessor', preprocessor),\n",
    "    ('feature_selection', SelectFromModel(RandomForestClassifier(n_estimators=100, random_state=42))),\n",
    "    ('classifier', RandomForestClassifier(n_estimators=100, random_state=42))\n",
    "])"
   ]
  },
  {
   "cell_type": "code",
   "execution_count": 53,
   "id": "a9f0b3c1-33ae-4483-ac09-e536a9340019",
   "metadata": {},
   "outputs": [],
   "source": [
    "# Prepare data\n",
    "X_train = train_df[all_features]\n",
    "y_train = train_df['Credit Risk']\n",
    "X_test = test_df[all_features]\n",
    "y_test = test_df['Credit Risk']"
   ]
  },
  {
   "cell_type": "code",
   "execution_count": 54,
   "id": "8f5e1dc2-a0e8-4a00-868f-772ee5a2b0e3",
   "metadata": {},
   "outputs": [
    {
     "name": "stdout",
     "output_type": "stream",
     "text": [
      "Selected Features: ['Income', 'Credit Score', 'Debt Ratio', 'Age', 'Education Level']\n"
     ]
    }
   ],
   "source": [
    "# Fit pipeline\n",
    "pipeline.fit(X_train, y_train)\n",
    "\n",
    "# Get selected features\n",
    "feature_names = (num_cols + \n",
    "                 list(pipeline.named_steps['preprocessor'].named_transformers_['nominal']['onehot'].get_feature_names_out(nominal_cols)) + \n",
    "                 ordinal_cols)\n",
    "selected_mask = pipeline.named_steps['feature_selection'].get_support()\n",
    "selected_features = [feature_names[i] for i in range(len(feature_names)) if selected_mask[i]]\n",
    "print(\"Selected Features:\", selected_features)"
   ]
  },
  {
   "cell_type": "code",
   "execution_count": 55,
   "id": "2eb68be0-3db2-44a3-957e-7114272e5261",
   "metadata": {},
   "outputs": [
    {
     "name": "stdout",
     "output_type": "stream",
     "text": [
      "\n",
      "Performance Metrics:\n",
      "Accuracy: 0.4500\n",
      "Precision (Macro): 0.4984\n",
      "Recall (Macro): 0.4583\n",
      "F1-Score (Macro): 0.4481\n"
     ]
    }
   ],
   "source": [
    "# Predict on test set\n",
    "y_pred = pipeline.predict(X_test)\n",
    "\n",
    "# Performance metrics (macro-averaged for multiclass)\n",
    "accuracy = accuracy_score(y_test, y_pred)\n",
    "precision = precision_score(y_test, y_pred, average='macro')\n",
    "recall = recall_score(y_test, y_pred, average='macro')\n",
    "f1 = f1_score(y_test, y_pred, average='macro')\n",
    "\n",
    "print(\"\\nPerformance Metrics:\")\n",
    "print(f\"Accuracy: {accuracy:.4f}\")\n",
    "print(f\"Precision (Macro): {precision:.4f}\")\n",
    "print(f\"Recall (Macro): {recall:.4f}\")\n",
    "print(f\"F1-Score (Macro): {f1:.4f}\")"
   ]
  },
  {
   "cell_type": "code",
   "execution_count": 57,
   "id": "91d2be1c-ba59-48bb-9dd6-e86245d2a136",
   "metadata": {},
   "outputs": [
    {
     "name": "stdout",
     "output_type": "stream",
     "text": [
      "\n",
      "Confusion Matrix:\n",
      "[[4 2 0]\n",
      " [4 3 1]\n",
      " [2 2 2]]\n"
     ]
    },
    {
     "data": {
      "text/plain": [
       "Text(70.72222222222221, 0.5, 'Actual')"
      ]
     },
     "execution_count": 57,
     "metadata": {},
     "output_type": "execute_result"
    },
    {
     "data": {
      "image/png": "[encoded data removed]",
      "text/plain": [
       "<Figure size 800x600 with 1 Axes>"
      ]
     },
     "metadata": {},
     "output_type": "display_data"
    }
   ],
   "source": [
    "# Confusion matrix\n",
    "cm = confusion_matrix(y_test, y_pred)\n",
    "print(\"\\nConfusion Matrix:\")\n",
    "print(cm)\n",
    "\n",
    "# Visualize confusion matrix\n",
    "plt.figure(figsize=(8, 6))\n",
    "sns.heatmap(cm, annot=True, fmt='d', cmap='Blues', cbar=False,\n",
    "            xticklabels=['Low (0)', 'Medium (1)', 'High (2)'],\n",
    "            yticklabels=['Low (0)', 'Medium (1)', 'High (2)'])\n",
    "plt.title('Confusion Matrix')\n",
    "plt.xlabel('Predicted')\n",
    "plt.ylabel('Actual')\n",
    "# plt.savefig# Detailed classification report\n",
    "print(\"\\nClassification Report:\")\n",
    "print(classification_report(y_test, y_pred, target_names=['Low', 'Medium', 'High']))"
   ]
  },
  {
   "cell_type": "code",
   "execution_count": 58,
   "id": "10b94d60-1cc3-45e0-8b4a-3febfccb2fb3",
   "metadata": {},
   "outputs": [
    {
     "name": "stdout",
     "output_type": "stream",
     "text": [
      "\n",
      "Classification Report:\n",
      "              precision    recall  f1-score   support\n",
      "\n",
      "         Low       0.40      0.67      0.50         6\n",
      "      Medium       0.43      0.38      0.40         8\n",
      "        High       0.67      0.33      0.44         6\n",
      "\n",
      "    accuracy                           0.45        20\n",
      "   macro avg       0.50      0.46      0.45        20\n",
      "weighted avg       0.49      0.45      0.44        20\n",
      "\n"
     ]
    }
   ],
   "source": [
    "# Detailed classification report\n",
    "print(\"\\nClassification Report:\")\n",
    "print(classification_report(y_test, y_pred, target_names=['Low', 'Medium', 'High']))"
   ]
  },
  {
   "cell_type": "markdown",
   "id": "78f6d589-1bd9-407d-abb9-a64b0f4a72c5",
   "metadata": {},
   "source": [
    "# Clustering "
   ]
  },
  {
   "cell_type": "code",
   "execution_count": 59,
   "id": "15ffd71c-2749-488e-b9ce-f1718118412c",
   "metadata": {},
   "outputs": [],
   "source": [
    "import pandas as pd\n",
    "import numpy as np\n",
    "from sklearn.cluster import KMeans\n",
    "from sklearn.preprocessing import StandardScaler, OneHotEncoder, OrdinalEncoder\n",
    "from sklearn.impute import SimpleImputer, KNNImputer\n",
    "from sklearn.compose import ColumnTransformer\n",
    "from sklearn.pipeline import Pipeline\n",
    "from sklearn.feature_selection import VarianceThreshold\n",
    "from sklearn.decomposition import PCA\n",
    "from sklearn.metrics import silhouette_score\n",
    "import matplotlib.pyplot as plt\n",
    "import seaborn as sns"
   ]
  },
  {
   "cell_type": "code",
   "execution_count": 62,
   "id": "469fb45d-01de-4663-9c0b-2f93070a8c58",
   "metadata": {},
   "outputs": [
    {
     "data": {
      "text/html": [
       "<div>\n",
       "<style scoped>\n",
       "    .dataframe tbody tr th:only-of-type {\n",
       "        vertical-align: middle;\n",
       "    }\n",
       "\n",
       "    .dataframe tbody tr th {\n",
       "        vertical-align: top;\n",
       "    }\n",
       "\n",
       "    .dataframe thead th {\n",
       "        text-align: right;\n",
       "    }\n",
       "</style>\n",
       "<table border=\"1\" class=\"dataframe\">\n",
       "  <thead>\n",
       "    <tr style=\"text-align: right;\">\n",
       "      <th></th>\n",
       "      <th>Income</th>\n",
       "      <th>Spending Score</th>\n",
       "      <th>Debt Ratio</th>\n",
       "      <th>Age</th>\n",
       "      <th>Occupation</th>\n",
       "      <th>Region</th>\n",
       "      <th>Education Level</th>\n",
       "      <th>Credit Usage</th>\n",
       "    </tr>\n",
       "  </thead>\n",
       "  <tbody>\n",
       "    <tr>\n",
       "      <th>0</th>\n",
       "      <td>80861.227546</td>\n",
       "      <td>45.853225</td>\n",
       "      <td>0.222281</td>\n",
       "      <td>33</td>\n",
       "      <td>NaN</td>\n",
       "      <td>Urban</td>\n",
       "      <td>Bachelor</td>\n",
       "      <td>Medium</td>\n",
       "    </tr>\n",
       "    <tr>\n",
       "      <th>1</th>\n",
       "      <td>87248.038709</td>\n",
       "      <td>68.300398</td>\n",
       "      <td>NaN</td>\n",
       "      <td>18</td>\n",
       "      <td>Sales</td>\n",
       "      <td>NaN</td>\n",
       "      <td>High School</td>\n",
       "      <td>Medium</td>\n",
       "    </tr>\n",
       "    <tr>\n",
       "      <th>2</th>\n",
       "      <td>66199.373220</td>\n",
       "      <td>NaN</td>\n",
       "      <td>0.360747</td>\n",
       "      <td>68</td>\n",
       "      <td>Engineer</td>\n",
       "      <td>Urban</td>\n",
       "      <td>Bachelor</td>\n",
       "      <td>Low</td>\n",
       "    </tr>\n",
       "    <tr>\n",
       "      <th>3</th>\n",
       "      <td>NaN</td>\n",
       "      <td>26.704060</td>\n",
       "      <td>NaN</td>\n",
       "      <td>54</td>\n",
       "      <td>Teacher</td>\n",
       "      <td>NaN</td>\n",
       "      <td>Bachelor</td>\n",
       "      <td>Medium</td>\n",
       "    </tr>\n",
       "    <tr>\n",
       "      <th>4</th>\n",
       "      <td>65110.355133</td>\n",
       "      <td>52.039019</td>\n",
       "      <td>NaN</td>\n",
       "      <td>56</td>\n",
       "      <td>Engineer</td>\n",
       "      <td>Suburban</td>\n",
       "      <td>Bachelor</td>\n",
       "      <td>NaN</td>\n",
       "    </tr>\n",
       "  </tbody>\n",
       "</table>\n",
       "</div>"
      ],
      "text/plain": [
       "         Income  Spending Score  Debt Ratio  Age Occupation    Region  \\\n",
       "0  80861.227546       45.853225    0.222281   33        NaN     Urban   \n",
       "1  87248.038709       68.300398         NaN   18      Sales       NaN   \n",
       "2  66199.373220             NaN    0.360747   68   Engineer     Urban   \n",
       "3           NaN       26.704060         NaN   54    Teacher       NaN   \n",
       "4  65110.355133       52.039019         NaN   56   Engineer  Suburban   \n",
       "\n",
       "  Education Level Credit Usage  \n",
       "0        Bachelor       Medium  \n",
       "1     High School       Medium  \n",
       "2        Bachelor          Low  \n",
       "3        Bachelor       Medium  \n",
       "4        Bachelor          NaN  "
      ]
     },
     "execution_count": 62,
     "metadata": {},
     "output_type": "execute_result"
    }
   ],
   "source": [
    "# Create synthetic dataset (100 records)\n",
    "n_samples = 100\n",
    "data = {\n",
    "    'Income': np.random.normal(60000, 20000, n_samples),  # Numerical\n",
    "    'Spending Score': np.random.normal(50, 20, n_samples),  # Numerical\n",
    "    'Debt Ratio': np.random.uniform(0.1, 0.5, n_samples),  # Numerical\n",
    "    'Age': np.random.randint(18, 80, n_samples),  # Numerical\n",
    "    'Occupation': np.random.choice(['Engineer', 'Teacher', 'Sales', 'Other'], n_samples, p=[0.3, 0.3, 0.2, 0.2]),  # Nominal\n",
    "    'Region': np.random.choice(['Urban', 'Suburban', 'Rural'], n_samples, p=[0.4, 0.4, 0.2]),  # Nominal\n",
    "    'Education Level': np.random.choice(['High School', 'Bachelor', 'Master', 'PhD'], n_samples, p=[0.4, 0.4, 0.15, 0.05]),  # Ordinal\n",
    "    'Credit Usage': np.random.choice(['Low', 'Medium', 'High'], n_samples, p=[0.3, 0.4, 0.3])  # Ordinal\n",
    "}\n",
    "\n",
    "df = pd.DataFrame(data)\n",
    "\n",
    "# Introduce nulls (~10-15% in train/test)\n",
    "null_cols = ['Income', 'Spending Score', 'Debt Ratio', 'Occupation', 'Region', 'Education Level', 'Credit Usage']\n",
    "for col in null_cols:\n",
    "    null_mask = np.random.choice([True, False], n_samples, p=[0.15, 0.85])\n",
    "    df.loc[null_mask, col] = np.nan\n",
    "\n",
    "df.head()"
   ]
  },
  {
   "cell_type": "code",
   "execution_count": 63,
   "id": "d8d76e8c-c209-4a6f-8183-bc6ce353b334",
   "metadata": {},
   "outputs": [
    {
     "name": "stdout",
     "output_type": "stream",
     "text": [
      "<class 'pandas.core.frame.DataFrame'>\n",
      "RangeIndex: 100 entries, 0 to 99\n",
      "Data columns (total 8 columns):\n",
      " #   Column           Non-Null Count  Dtype  \n",
      "---  ------           --------------  -----  \n",
      " 0   Income           85 non-null     float64\n",
      " 1   Spending Score   86 non-null     float64\n",
      " 2   Debt Ratio       85 non-null     float64\n",
      " 3   Age              100 non-null    int32  \n",
      " 4   Occupation       82 non-null     object \n",
      " 5   Region           86 non-null     object \n",
      " 6   Education Level  82 non-null     object \n",
      " 7   Credit Usage     80 non-null     object \n",
      "dtypes: float64(3), int32(1), object(4)\n",
      "memory usage: 6.0+ KB\n"
     ]
    }
   ],
   "source": [
    "df.info()"
   ]
  },
  {
   "cell_type": "code",
   "execution_count": 64,
   "id": "d3655978-4e38-4e2a-9540-4e4810dda3eb",
   "metadata": {},
   "outputs": [],
   "source": [
    "# Split data (80 train, 20 test) for preprocessing consistency\n",
    "train_df, test_df = train_test_split(df, test_size=0.2, random_state=42)"
   ]
  },
  {
   "cell_type": "code",
   "execution_count": 65,
   "id": "69b710d7-eae7-4858-aab4-fbde999c2347",
   "metadata": {},
   "outputs": [],
   "source": [
    "# Define feature types\n",
    "num_cols = ['Income', 'Spending Score', 'Debt Ratio', 'Age']\n",
    "nominal_cols = ['Occupation', 'Region']\n",
    "ordinal_cols = ['Education Level', 'Credit Usage']\n",
    "all_features = num_cols + nominal_cols + ordinal_cols\n",
    "\n",
    "# Define ordinal categories (ordered)\n",
    "education_categories = ['High School', 'Bachelor', 'Master', 'PhD']\n",
    "credit_usage_categories = ['Low', 'Medium', 'High']\n",
    "\n",
    "# Create preprocessing pipeline\n",
    "num_transformer = Pipeline(steps=[\n",
    "    ('imputer', KNNImputer(n_neighbors=5, weights='uniform')),\n",
    "    ('scaler', StandardScaler())\n",
    "])\n",
    "\n",
    "nominal_transformer = Pipeline(steps=[\n",
    "    ('imputer', SimpleImputer(strategy='most_frequent')),\n",
    "    ('onehot', OneHotEncoder(drop='first', sparse_output=False, handle_unknown='ignore'))\n",
    "])\n",
    "\n",
    "ordinal_transformer = Pipeline(steps=[\n",
    "    ('imputer', SimpleImputer(strategy='most_frequent')),\n",
    "    ('ordinal', OrdinalEncoder(categories=[education_categories, credit_usage_categories]))\n",
    "])\n",
    "\n",
    "preprocessor = ColumnTransformer(\n",
    "    transformers=[\n",
    "        ('num', num_transformer, num_cols),\n",
    "        ('nominal', nominal_transformer, nominal_cols),\n",
    "        ('ordinal', ordinal_transformer, ordinal_cols)\n",
    "    ])\n",
    "\n",
    "# Create pipeline with feature selection\n",
    "pipeline = Pipeline(steps=[\n",
    "    ('preprocessor', preprocessor),\n",
    "    ('variance_threshold', VarianceThreshold(threshold=0.1))\n",
    "])"
   ]
  },
  {
   "cell_type": "code",
   "execution_count": 66,
   "id": "b62f55cf-8e60-459c-8b15-2c352ddf6daf",
   "metadata": {},
   "outputs": [],
   "source": [
    "# Fit and transform training data\n",
    "X_train_processed = pipeline.fit_transform(train_df[all_features])\n",
    "X_test_processed = pipeline.transform(test_df[all_features])"
   ]
  },
  {
   "cell_type": "code",
   "execution_count": 67,
   "id": "f755169e-5a69-47a5-b029-3997f110db7b",
   "metadata": {},
   "outputs": [
    {
     "name": "stdout",
     "output_type": "stream",
     "text": [
      "Selected Features: ['Income', 'Spending Score', 'Debt Ratio', 'Age', 'Occupation_Other', 'Occupation_Sales', 'Occupation_Teacher', 'Region_Suburban', 'Region_Urban', 'Education Level', 'Credit Usage']\n"
     ]
    }
   ],
   "source": [
    "# Get feature names after preprocessing\n",
    "nominal_feature_names = pipeline.named_steps['preprocessor'].named_transformers_['nominal']['onehot'].get_feature_names_out(nominal_cols)\n",
    "feature_names = num_cols + list(nominal_feature_names) + ordinal_cols\n",
    "\n",
    "# Apply variance threshold to get selected features\n",
    "selected_mask = pipeline.named_steps['variance_threshold'].get_support()\n",
    "selected_features = [feature_names[i] for i in range(len(feature_names)) if selected_mask[i]]\n",
    "print(\"Selected Features:\", selected_features)\n",
    "\n",
    "# Combine train and test for clustering (after preprocessing)\n",
    "X_all_processed = np.vstack([X_train_processed, X_test_processed])\n",
    "df_all = pd.concat([train_df, test_df], axis=0).reset_index(drop=True)"
   ]
  },
  {
   "cell_type": "code",
   "execution_count": 68,
   "id": "8928e9d9-e778-4b7e-8c39-f0a7a09eb64d",
   "metadata": {},
   "outputs": [],
   "source": [
    "# Determine optimal number of clusters (elbow method)\n",
    "inertias = []\n",
    "silhouette_scores = []\n",
    "k_range = range(2, 6)\n",
    "for k in k_range:\n",
    "    kmeans = KMeans(n_clusters=k, random_state=42)\n",
    "    kmeans.fit(X_all_processed)\n",
    "    inertias.append(kmeans.inertia_)\n",
    "    if k > 1:\n",
    "        score = silhouette_score(X_all_processed, kmeans.labels_)\n",
    "        silhouette_scores.append(score)"
   ]
  },
  {
   "cell_type": "code",
   "execution_count": 69,
   "id": "07b78f50-63d4-401f-9e30-a530b196fca7",
   "metadata": {},
   "outputs": [
    {
     "data": {
      "text/plain": [
       "Text(0, 0.5, 'Inertia')"
      ]
     },
     "execution_count": 69,
     "metadata": {},
     "output_type": "execute_result"
    },
    {
     "data": {
      "image/png": "[encoded data removed]",
      "text/plain": [
       "<Figure size 800x400 with 1 Axes>"
      ]
     },
     "metadata": {},
     "output_type": "display_data"
    }
   ],
   "source": [
    "plt.figure(figsize=(8, 4))\n",
    "plt.plot(k_range, inertias, marker='o')\n",
    "plt.title('Elbow Method for Optimal k')\n",
    "plt.xlabel('Number of Clusters (k)')\n",
    "plt.ylabel('Inertia')"
   ]
  },
  {
   "cell_type": "code",
   "execution_count": 70,
   "id": "9445e450-c00c-4845-9b19-38a04e04b83a",
   "metadata": {},
   "outputs": [],
   "source": [
    "optimal_k = 3\n",
    "kmeans = KMeans(n_clusters=optimal_k, random_state=42)\n",
    "cluster_labels = kmeans.fit_predict(X_all_processed)"
   ]
  },
  {
   "cell_type": "code",
   "execution_count": 71,
   "id": "9728c73f-caea-4edb-98c3-fc463fbc4ff6",
   "metadata": {},
   "outputs": [],
   "source": [
    "# Add cluster labels to original DataFrame\n",
    "df_all['Cluster'] = cluster_labels"
   ]
  },
  {
   "cell_type": "code",
   "execution_count": 72,
   "id": "51ff1e3f-4666-495a-89c4-bc0ac7c790cb",
   "metadata": {},
   "outputs": [],
   "source": [
    "# Evaluation metrics\n",
    "silhouette_avg = silhouette_score(X_all_processed, cluster_labels)\n",
    "inertia = kmeans.inertia_"
   ]
  },
  {
   "cell_type": "code",
   "execution_count": 73,
   "id": "c9c83d46-fca7-4d39-afa2-339875b48012",
   "metadata": {},
   "outputs": [
    {
     "name": "stdout",
     "output_type": "stream",
     "text": [
      "\n",
      "Clustering Metrics:\n",
      "Silhouette Score: 0.1374\n",
      "Inertia: 426.2290\n"
     ]
    }
   ],
   "source": [
    "print(\"\\nClustering Metrics:\")\n",
    "print(f\"Silhouette Score: {silhouette_avg:.4f}\")\n",
    "print(f\"Inertia: {inertia:.4f}\")"
   ]
  },
  {
   "cell_type": "code",
   "execution_count": 74,
   "id": "0a4f8869-6712-4f05-bd6f-87f909f346eb",
   "metadata": {},
   "outputs": [
    {
     "data": {
      "text/plain": [
       "Text(0, 0.5, 'PCA Component 2')"
      ]
     },
     "execution_count": 74,
     "metadata": {},
     "output_type": "execute_result"
    },
    {
     "data": {
      "image/png": "[encoded data removed]",
      "text/plain": [
       "<Figure size 800x600 with 1 Axes>"
      ]
     },
     "metadata": {},
     "output_type": "display_data"
    }
   ],
   "source": [
    "# Visualize clusters with PCA\n",
    "pca = PCA(n_components=2)\n",
    "X_pca = pca.fit_transform(X_all_processed)\n",
    "plt.figure(figsize=(8, 6))\n",
    "sns.scatterplot(x=X_pca[:, 0], y=X_pca[:, 1], hue=cluster_labels, palette='Set2', s=100)\n",
    "plt.title('Customer Segments (PCA Visualization)')\n",
    "plt.xlabel('PCA Component 1')\n",
    "plt.ylabel('PCA Component 2')"
   ]
  },
  {
   "cell_type": "code",
   "execution_count": 75,
   "id": "ab8e40ef-3f4e-4bdb-8485-9bb99febc90c",
   "metadata": {},
   "outputs": [
    {
     "name": "stdout",
     "output_type": "stream",
     "text": [
      "\n",
      "Cluster Summary:\n",
      "\n",
      "Cluster 0 (n=33):\n",
      "              Income  Spending Score        Age Education Level Occupation\n",
      "count      27.000000       31.000000  33.000000              28         26\n",
      "unique           NaN             NaN        NaN               4          4\n",
      "top              NaN             NaN        NaN     High School    Teacher\n",
      "freq             NaN             NaN        NaN              12          9\n",
      "mean    48688.837604       32.059575  53.848485             NaN        NaN\n",
      "std     19261.436378       18.362704  16.667936             NaN        NaN\n",
      "min     17659.838956       -7.683089  25.000000             NaN        NaN\n",
      "25%     37735.646806       20.638023  39.000000             NaN        NaN\n",
      "50%     45611.679184       30.264896  53.000000             NaN        NaN\n",
      "75%     61947.662201       45.976998  72.000000             NaN        NaN\n",
      "max     87573.428346       65.975373  78.000000             NaN        NaN\n",
      "\n",
      "Cluster 1 (n=35):\n",
      "              Income  Spending Score        Age Education Level Occupation\n",
      "count      29.000000       27.000000  35.000000              29         27\n",
      "unique           NaN             NaN        NaN               3          4\n",
      "top              NaN             NaN        NaN        Bachelor    Teacher\n",
      "freq             NaN             NaN        NaN              13         12\n",
      "mean    62077.373912       59.184829  32.914286             NaN        NaN\n",
      "std     15386.871168       13.970294  11.160254             NaN        NaN\n",
      "min     36763.778473       33.192206  18.000000             NaN        NaN\n",
      "25%     49579.961220       50.388890  23.500000             NaN        NaN\n",
      "50%     58848.921592       56.408636  31.000000             NaN        NaN\n",
      "75%     73055.001646       68.895275  41.500000             NaN        NaN\n",
      "max     97920.749903       90.310605  58.000000             NaN        NaN\n",
      "\n",
      "Cluster 2 (n=32):\n",
      "               Income  Spending Score        Age Education Level Occupation\n",
      "count       29.000000       28.000000  32.000000              25         29\n",
      "unique            NaN             NaN        NaN               3          4\n",
      "top               NaN             NaN        NaN     High School   Engineer\n",
      "freq              NaN             NaN        NaN              10          9\n",
      "mean     76779.630247       64.083543  65.906250             NaN        NaN\n",
      "std      16472.670888       14.400763  10.914209             NaN        NaN\n",
      "min      42575.779953       40.411966  47.000000             NaN        NaN\n",
      "25%      66199.373220       52.636430  56.000000             NaN        NaN\n",
      "50%      75762.870879       61.462310  68.000000             NaN        NaN\n",
      "75%      88103.401112       72.000347  77.000000             NaN        NaN\n",
      "max     110647.752005       92.440521  79.000000             NaN        NaN\n"
     ]
    }
   ],
   "source": [
    "# Cluster summary\n",
    "print(\"\\nCluster Summary:\")\n",
    "for cluster in range(optimal_k):\n",
    "    cluster_data = df_all[df_all['Cluster'] == cluster]\n",
    "    print(f\"\\nCluster {cluster} (n={len(cluster_data)}):\")\n",
    "    print(cluster_data[['Income', 'Spending Score', 'Age', 'Education Level', 'Occupation']].describe(include='all'))"
   ]
  },
  {
   "cell_type": "code",
   "execution_count": null,
   "id": "fd8f4201-4998-4cd7-86e9-43e665f686d4",
   "metadata": {},
   "outputs": [],
   "source": []
  }
 ],
 "metadata": {
  "kernelspec": {
   "display_name": "Python 3.11 (tfvenv)",
   "language": "python",
   "name": "tfvenv"
  },
  "language_info": {
   "codemirror_mode": {
    "name": "ipython",
    "version": 3
   },
   "file_extension": ".py",
   "mimetype": "text/x-python",
   "name": "python",
   "nbconvert_exporter": "python",
   "pygments_lexer": "ipython3",
   "version": "3.11.5"
  }
 },
 "nbformat": 4,
 "nbformat_minor": 5
}
