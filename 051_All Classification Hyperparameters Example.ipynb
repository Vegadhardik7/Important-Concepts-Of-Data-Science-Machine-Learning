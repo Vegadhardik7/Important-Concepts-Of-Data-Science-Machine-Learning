{
 "cells": [
  {
   "cell_type": "code",
   "execution_count": 1,
   "id": "b239c956",
   "metadata": {},
   "outputs": [
    {
     "data": {
      "text/html": [
       "<div>\n",
       "<style scoped>\n",
       "    .dataframe tbody tr th:only-of-type {\n",
       "        vertical-align: middle;\n",
       "    }\n",
       "\n",
       "    .dataframe tbody tr th {\n",
       "        vertical-align: top;\n",
       "    }\n",
       "\n",
       "    .dataframe thead th {\n",
       "        text-align: right;\n",
       "    }\n",
       "</style>\n",
       "<table border=\"1\" class=\"dataframe\">\n",
       "  <thead>\n",
       "    <tr style=\"text-align: right;\">\n",
       "      <th></th>\n",
       "      <th>age</th>\n",
       "      <th>sex</th>\n",
       "      <th>cp</th>\n",
       "      <th>trestbps</th>\n",
       "      <th>chol</th>\n",
       "      <th>fbs</th>\n",
       "      <th>restecg</th>\n",
       "      <th>thalach</th>\n",
       "      <th>exang</th>\n",
       "      <th>oldpeak</th>\n",
       "      <th>slope</th>\n",
       "      <th>ca</th>\n",
       "      <th>thal</th>\n",
       "      <th>target</th>\n",
       "    </tr>\n",
       "  </thead>\n",
       "  <tbody>\n",
       "    <tr>\n",
       "      <th>0</th>\n",
       "      <td>63</td>\n",
       "      <td>1</td>\n",
       "      <td>3</td>\n",
       "      <td>145</td>\n",
       "      <td>233</td>\n",
       "      <td>1</td>\n",
       "      <td>0</td>\n",
       "      <td>150</td>\n",
       "      <td>0</td>\n",
       "      <td>2.3</td>\n",
       "      <td>0</td>\n",
       "      <td>0</td>\n",
       "      <td>1</td>\n",
       "      <td>1</td>\n",
       "    </tr>\n",
       "    <tr>\n",
       "      <th>1</th>\n",
       "      <td>37</td>\n",
       "      <td>1</td>\n",
       "      <td>2</td>\n",
       "      <td>130</td>\n",
       "      <td>250</td>\n",
       "      <td>0</td>\n",
       "      <td>1</td>\n",
       "      <td>187</td>\n",
       "      <td>0</td>\n",
       "      <td>3.5</td>\n",
       "      <td>0</td>\n",
       "      <td>0</td>\n",
       "      <td>2</td>\n",
       "      <td>1</td>\n",
       "    </tr>\n",
       "    <tr>\n",
       "      <th>2</th>\n",
       "      <td>41</td>\n",
       "      <td>0</td>\n",
       "      <td>1</td>\n",
       "      <td>130</td>\n",
       "      <td>204</td>\n",
       "      <td>0</td>\n",
       "      <td>0</td>\n",
       "      <td>172</td>\n",
       "      <td>0</td>\n",
       "      <td>1.4</td>\n",
       "      <td>2</td>\n",
       "      <td>0</td>\n",
       "      <td>2</td>\n",
       "      <td>1</td>\n",
       "    </tr>\n",
       "    <tr>\n",
       "      <th>3</th>\n",
       "      <td>56</td>\n",
       "      <td>1</td>\n",
       "      <td>1</td>\n",
       "      <td>120</td>\n",
       "      <td>236</td>\n",
       "      <td>0</td>\n",
       "      <td>1</td>\n",
       "      <td>178</td>\n",
       "      <td>0</td>\n",
       "      <td>0.8</td>\n",
       "      <td>2</td>\n",
       "      <td>0</td>\n",
       "      <td>2</td>\n",
       "      <td>1</td>\n",
       "    </tr>\n",
       "    <tr>\n",
       "      <th>4</th>\n",
       "      <td>57</td>\n",
       "      <td>0</td>\n",
       "      <td>0</td>\n",
       "      <td>120</td>\n",
       "      <td>354</td>\n",
       "      <td>0</td>\n",
       "      <td>1</td>\n",
       "      <td>163</td>\n",
       "      <td>1</td>\n",
       "      <td>0.6</td>\n",
       "      <td>2</td>\n",
       "      <td>0</td>\n",
       "      <td>2</td>\n",
       "      <td>1</td>\n",
       "    </tr>\n",
       "  </tbody>\n",
       "</table>\n",
       "</div>"
      ],
      "text/plain": [
       "   age  sex  cp  trestbps  chol  fbs  restecg  thalach  exang  oldpeak  slope  \\\n",
       "0   63    1   3       145   233    1        0      150      0      2.3      0   \n",
       "1   37    1   2       130   250    0        1      187      0      3.5      0   \n",
       "2   41    0   1       130   204    0        0      172      0      1.4      2   \n",
       "3   56    1   1       120   236    0        1      178      0      0.8      2   \n",
       "4   57    0   0       120   354    0        1      163      1      0.6      2   \n",
       "\n",
       "   ca  thal  target  \n",
       "0   0     1       1  \n",
       "1   0     2       1  \n",
       "2   0     2       1  \n",
       "3   0     2       1  \n",
       "4   0     2       1  "
      ]
     },
     "execution_count": 1,
     "metadata": {},
     "output_type": "execute_result"
    }
   ],
   "source": [
    "import pandas as pd\n",
    "import numpy as np\n",
    "\n",
    "df = pd.read_csv(r\"heart_disease.csv\")\n",
    "df.head()"
   ]
  },
  {
   "cell_type": "code",
   "execution_count": 3,
   "id": "331a6a63",
   "metadata": {},
   "outputs": [
    {
     "data": {
      "text/plain": [
       "(303, 14)"
      ]
     },
     "execution_count": 3,
     "metadata": {},
     "output_type": "execute_result"
    }
   ],
   "source": [
    "df.shape"
   ]
  },
  {
   "cell_type": "code",
   "execution_count": 4,
   "id": "52e27006",
   "metadata": {},
   "outputs": [
    {
     "data": {
      "text/plain": [
       "1    165\n",
       "0    138\n",
       "Name: target, dtype: int64"
      ]
     },
     "execution_count": 4,
     "metadata": {},
     "output_type": "execute_result"
    }
   ],
   "source": [
    "df.target.value_counts()"
   ]
  },
  {
   "cell_type": "markdown",
   "id": "576837d8",
   "metadata": {},
   "source": [
    "# Logistic Regression"
   ]
  },
  {
   "cell_type": "code",
   "execution_count": 6,
   "id": "274a5a6c",
   "metadata": {},
   "outputs": [
    {
     "name": "stdout",
     "output_type": "stream",
     "text": [
      "Best: 0.839570 using {'C': 0.1, 'penalty': 'l2', 'solver': 'lbfgs'}\n",
      "0.819821 (0.080300) with: {'C': 100, 'penalty': 'l2', 'solver': 'newton-cg'}\n",
      "0.827491 (0.081219) with: {'C': 100, 'penalty': 'l2', 'solver': 'lbfgs'}\n",
      "0.822007 (0.082031) with: {'C': 100, 'penalty': 'l2', 'solver': 'liblinear'}\n",
      "0.820932 (0.079320) with: {'C': 10, 'penalty': 'l2', 'solver': 'newton-cg'}\n",
      "0.824194 (0.081057) with: {'C': 10, 'penalty': 'l2', 'solver': 'lbfgs'}\n",
      "0.825376 (0.079335) with: {'C': 10, 'penalty': 'l2', 'solver': 'liblinear'}\n",
      "0.825341 (0.078541) with: {'C': 1.0, 'penalty': 'l2', 'solver': 'newton-cg'}\n",
      "0.834086 (0.076563) with: {'C': 1.0, 'penalty': 'l2', 'solver': 'lbfgs'}\n",
      "0.830753 (0.080386) with: {'C': 1.0, 'penalty': 'l2', 'solver': 'liblinear'}\n",
      "0.836272 (0.068601) with: {'C': 0.1, 'penalty': 'l2', 'solver': 'newton-cg'}\n",
      "0.839570 (0.071944) with: {'C': 0.1, 'penalty': 'l2', 'solver': 'lbfgs'}\n",
      "0.837384 (0.073499) with: {'C': 0.1, 'penalty': 'l2', 'solver': 'liblinear'}\n",
      "0.759176 (0.074999) with: {'C': 0.01, 'penalty': 'l2', 'solver': 'newton-cg'}\n",
      "0.754803 (0.074712) with: {'C': 0.01, 'penalty': 'l2', 'solver': 'lbfgs'}\n",
      "0.761326 (0.070647) with: {'C': 0.01, 'penalty': 'l2', 'solver': 'liblinear'}\n"
     ]
    },
    {
     "name": "stderr",
     "output_type": "stream",
     "text": [
      "C:\\Users\\HARDIK\\anaconda3\\lib\\site-packages\\sklearn\\linear_model\\_logistic.py:814: ConvergenceWarning: lbfgs failed to converge (status=1):\n",
      "STOP: TOTAL NO. of ITERATIONS REACHED LIMIT.\n",
      "\n",
      "Increase the number of iterations (max_iter) or scale the data as shown in:\n",
      "    https://scikit-learn.org/stable/modules/preprocessing.html\n",
      "Please also refer to the documentation for alternative solver options:\n",
      "    https://scikit-learn.org/stable/modules/linear_model.html#logistic-regression\n",
      "  n_iter_i = _check_optimize_result(\n"
     ]
    }
   ],
   "source": [
    "# example of grid searching key hyperparametres for logistic regression\n",
    "from sklearn.model_selection import RepeatedStratifiedKFold\n",
    "from sklearn.linear_model import LogisticRegression\n",
    "\n",
    "# # define dataset\n",
    "X = df.drop(['target'],axis=1)\n",
    "y = df['target']\n",
    "\n",
    "# define models and parameters\n",
    "\n",
    "model = LogisticRegression()\n",
    "solvers = ['newton-cg', 'lbfgs', 'liblinear']\n",
    "penalty = ['l2']\n",
    "c_values = [100, 10, 1.0, 0.1, 0.01]\n",
    "\n",
    "# define grid search\n",
    "grid = dict(solver=solvers,penalty=penalty,C=c_values)\n",
    "cv = RepeatedStratifiedKFold(n_splits=10, n_repeats=3, random_state=1)\n",
    "grid_search = GridSearchCV(estimator=model, param_grid=grid, n_jobs=-1, cv=cv, scoring='accuracy',error_score=0)\n",
    "grid_result = grid_search.fit(X, y)\n",
    "\n",
    "# summarize results\n",
    "print(\"Best: %f using %s\" % (grid_result.best_score_, grid_result.best_params_))\n",
    "means = grid_result.cv_results_['mean_test_score']\n",
    "stds = grid_result.cv_results_['std_test_score']\n",
    "params = grid_result.cv_results_['params']\n",
    "for mean, stdev, param in zip(means, stds, params):\n",
    "    print(\"%f (%f) with: %r\" % (mean, stdev, param))"
   ]
  },
  {
   "cell_type": "markdown",
   "id": "6d82dabc",
   "metadata": {},
   "source": [
    "# Ridge Classifier"
   ]
  },
  {
   "cell_type": "code",
   "execution_count": 7,
   "id": "0f3f7668",
   "metadata": {},
   "outputs": [
    {
     "name": "stdout",
     "output_type": "stream",
     "text": [
      "Best: 0.830860 using {'alpha': 0.9}\n",
      "0.829785 (0.074741) with: {'alpha': 0.1}\n",
      "0.829785 (0.074741) with: {'alpha': 0.2}\n",
      "0.829785 (0.074741) with: {'alpha': 0.3}\n",
      "0.829785 (0.074741) with: {'alpha': 0.4}\n",
      "0.829785 (0.074741) with: {'alpha': 0.5}\n",
      "0.829785 (0.074741) with: {'alpha': 0.6}\n",
      "0.829785 (0.074741) with: {'alpha': 0.7}\n",
      "0.829785 (0.074741) with: {'alpha': 0.8}\n",
      "0.830860 (0.073694) with: {'alpha': 0.9}\n",
      "0.830860 (0.073694) with: {'alpha': 1.0}\n"
     ]
    }
   ],
   "source": [
    "# example of grid searching key hyperparametres for ridge classifier\n",
    "from sklearn.model_selection import RepeatedStratifiedKFold\n",
    "from sklearn.model_selection import GridSearchCV\n",
    "from sklearn.linear_model import RidgeClassifier\n",
    "\n",
    "# define models and parameters\n",
    "model = RidgeClassifier()\n",
    "alpha = [0.1, 0.2, 0.3, 0.4, 0.5, 0.6, 0.7, 0.8, 0.9, 1.0]\n",
    "\n",
    "# define grid search\n",
    "grid = dict(alpha=alpha)\n",
    "cv = RepeatedStratifiedKFold(n_splits=10, n_repeats=3, random_state=1)\n",
    "grid_search = GridSearchCV(estimator=model, param_grid=grid, n_jobs=-1, cv=cv, scoring='accuracy',error_score=0)\n",
    "grid_result = grid_search.fit(X, y)\n",
    "\n",
    "# summarize results\n",
    "print(\"Best: %f using %s\" % (grid_result.best_score_, grid_result.best_params_))\n",
    "means = grid_result.cv_results_['mean_test_score']\n",
    "stds = grid_result.cv_results_['std_test_score']\n",
    "params = grid_result.cv_results_['params']\n",
    "for mean, stdev, param in zip(means, stds, params):\n",
    "    print(\"%f (%f) with: %r\" % (mean, stdev, param))"
   ]
  },
  {
   "cell_type": "markdown",
   "id": "7791c2d0",
   "metadata": {},
   "source": [
    "# KNN"
   ]
  },
  {
   "cell_type": "code",
   "execution_count": 8,
   "id": "ebf1b995",
   "metadata": {},
   "outputs": [
    {
     "name": "stdout",
     "output_type": "stream",
     "text": [
      "Best: 0.701864 using {'metric': 'manhattan', 'n_neighbors': 19, 'weights': 'uniform'}\n",
      "0.585520 (0.064357) with: {'metric': 'euclidean', 'n_neighbors': 1, 'weights': 'uniform'}\n",
      "0.585520 (0.064357) with: {'metric': 'euclidean', 'n_neighbors': 1, 'weights': 'distance'}\n",
      "0.624839 (0.062070) with: {'metric': 'euclidean', 'n_neighbors': 3, 'weights': 'uniform'}\n",
      "0.628136 (0.061723) with: {'metric': 'euclidean', 'n_neighbors': 3, 'weights': 'distance'}\n",
      "0.649032 (0.063486) with: {'metric': 'euclidean', 'n_neighbors': 5, 'weights': 'uniform'}\n",
      "0.642473 (0.061191) with: {'metric': 'euclidean', 'n_neighbors': 5, 'weights': 'distance'}\n",
      "0.657993 (0.078702) with: {'metric': 'euclidean', 'n_neighbors': 7, 'weights': 'uniform'}\n",
      "0.642688 (0.086641) with: {'metric': 'euclidean', 'n_neighbors': 7, 'weights': 'distance'}\n",
      "0.642652 (0.091571) with: {'metric': 'euclidean', 'n_neighbors': 9, 'weights': 'uniform'}\n",
      "0.632760 (0.088583) with: {'metric': 'euclidean', 'n_neighbors': 9, 'weights': 'distance'}\n",
      "0.646953 (0.086143) with: {'metric': 'euclidean', 'n_neighbors': 11, 'weights': 'uniform'}\n",
      "0.643728 (0.086351) with: {'metric': 'euclidean', 'n_neighbors': 11, 'weights': 'distance'}\n",
      "0.660358 (0.095788) with: {'metric': 'euclidean', 'n_neighbors': 13, 'weights': 'uniform'}\n",
      "0.646057 (0.093806) with: {'metric': 'euclidean', 'n_neighbors': 13, 'weights': 'distance'}\n",
      "0.660179 (0.082001) with: {'metric': 'euclidean', 'n_neighbors': 15, 'weights': 'uniform'}\n",
      "0.645878 (0.089259) with: {'metric': 'euclidean', 'n_neighbors': 15, 'weights': 'distance'}\n",
      "0.661362 (0.079800) with: {'metric': 'euclidean', 'n_neighbors': 17, 'weights': 'uniform'}\n",
      "0.651470 (0.084710) with: {'metric': 'euclidean', 'n_neighbors': 17, 'weights': 'distance'}\n",
      "0.650215 (0.074222) with: {'metric': 'euclidean', 'n_neighbors': 19, 'weights': 'uniform'}\n",
      "0.654588 (0.075514) with: {'metric': 'euclidean', 'n_neighbors': 19, 'weights': 'distance'}\n",
      "0.638602 (0.069141) with: {'metric': 'manhattan', 'n_neighbors': 1, 'weights': 'uniform'}\n",
      "0.638602 (0.069141) with: {'metric': 'manhattan', 'n_neighbors': 1, 'weights': 'distance'}\n",
      "0.648100 (0.061972) with: {'metric': 'manhattan', 'n_neighbors': 3, 'weights': 'uniform'}\n",
      "0.648100 (0.061972) with: {'metric': 'manhattan', 'n_neighbors': 3, 'weights': 'distance'}\n",
      "0.682115 (0.056261) with: {'metric': 'manhattan', 'n_neighbors': 5, 'weights': 'uniform'}\n",
      "0.678817 (0.059582) with: {'metric': 'manhattan', 'n_neighbors': 5, 'weights': 'distance'}\n",
      "0.682186 (0.080320) with: {'metric': 'manhattan', 'n_neighbors': 7, 'weights': 'uniform'}\n",
      "0.668961 (0.086061) with: {'metric': 'manhattan', 'n_neighbors': 7, 'weights': 'distance'}\n",
      "0.676703 (0.073880) with: {'metric': 'manhattan', 'n_neighbors': 9, 'weights': 'uniform'}\n",
      "0.672294 (0.079912) with: {'metric': 'manhattan', 'n_neighbors': 9, 'weights': 'distance'}\n",
      "0.689892 (0.085006) with: {'metric': 'manhattan', 'n_neighbors': 11, 'weights': 'uniform'}\n",
      "0.681039 (0.086823) with: {'metric': 'manhattan', 'n_neighbors': 11, 'weights': 'distance'}\n",
      "0.676810 (0.086001) with: {'metric': 'manhattan', 'n_neighbors': 13, 'weights': 'uniform'}\n",
      "0.674588 (0.088747) with: {'metric': 'manhattan', 'n_neighbors': 13, 'weights': 'distance'}\n",
      "0.686774 (0.081406) with: {'metric': 'manhattan', 'n_neighbors': 15, 'weights': 'uniform'}\n",
      "0.674588 (0.086350) with: {'metric': 'manhattan', 'n_neighbors': 15, 'weights': 'distance'}\n",
      "0.695448 (0.076770) with: {'metric': 'manhattan', 'n_neighbors': 17, 'weights': 'uniform'}\n",
      "0.684409 (0.079141) with: {'metric': 'manhattan', 'n_neighbors': 17, 'weights': 'distance'}\n",
      "0.701864 (0.065187) with: {'metric': 'manhattan', 'n_neighbors': 19, 'weights': 'uniform'}\n",
      "0.683047 (0.071670) with: {'metric': 'manhattan', 'n_neighbors': 19, 'weights': 'distance'}\n",
      "0.585520 (0.064357) with: {'metric': 'minkowski', 'n_neighbors': 1, 'weights': 'uniform'}\n",
      "0.585520 (0.064357) with: {'metric': 'minkowski', 'n_neighbors': 1, 'weights': 'distance'}\n",
      "0.624839 (0.062070) with: {'metric': 'minkowski', 'n_neighbors': 3, 'weights': 'uniform'}\n",
      "0.628136 (0.061723) with: {'metric': 'minkowski', 'n_neighbors': 3, 'weights': 'distance'}\n",
      "0.649032 (0.063486) with: {'metric': 'minkowski', 'n_neighbors': 5, 'weights': 'uniform'}\n",
      "0.642473 (0.061191) with: {'metric': 'minkowski', 'n_neighbors': 5, 'weights': 'distance'}\n",
      "0.657993 (0.078702) with: {'metric': 'minkowski', 'n_neighbors': 7, 'weights': 'uniform'}\n",
      "0.642688 (0.086641) with: {'metric': 'minkowski', 'n_neighbors': 7, 'weights': 'distance'}\n",
      "0.642652 (0.091571) with: {'metric': 'minkowski', 'n_neighbors': 9, 'weights': 'uniform'}\n",
      "0.632760 (0.088583) with: {'metric': 'minkowski', 'n_neighbors': 9, 'weights': 'distance'}\n",
      "0.646953 (0.086143) with: {'metric': 'minkowski', 'n_neighbors': 11, 'weights': 'uniform'}\n",
      "0.643728 (0.086351) with: {'metric': 'minkowski', 'n_neighbors': 11, 'weights': 'distance'}\n",
      "0.660358 (0.095788) with: {'metric': 'minkowski', 'n_neighbors': 13, 'weights': 'uniform'}\n",
      "0.646057 (0.093806) with: {'metric': 'minkowski', 'n_neighbors': 13, 'weights': 'distance'}\n",
      "0.660179 (0.082001) with: {'metric': 'minkowski', 'n_neighbors': 15, 'weights': 'uniform'}\n",
      "0.645878 (0.089259) with: {'metric': 'minkowski', 'n_neighbors': 15, 'weights': 'distance'}\n",
      "0.661362 (0.079800) with: {'metric': 'minkowski', 'n_neighbors': 17, 'weights': 'uniform'}\n",
      "0.651470 (0.084710) with: {'metric': 'minkowski', 'n_neighbors': 17, 'weights': 'distance'}\n",
      "0.650215 (0.074222) with: {'metric': 'minkowski', 'n_neighbors': 19, 'weights': 'uniform'}\n",
      "0.654588 (0.075514) with: {'metric': 'minkowski', 'n_neighbors': 19, 'weights': 'distance'}\n"
     ]
    }
   ],
   "source": [
    "# example of grid searching key hyperparametres for KNeighborsClassifier\n",
    "from sklearn.neighbors import KNeighborsClassifier\n",
    "\n",
    "# define models and parameters\n",
    "model = KNeighborsClassifier()\n",
    "n_neighbors = range(1, 21, 2)\n",
    "weights = ['uniform', 'distance']\n",
    "metric = ['euclidean', 'manhattan', 'minkowski']\n",
    "\n",
    "# define grid search\n",
    "grid = dict(n_neighbors=n_neighbors,weights=weights,metric=metric)\n",
    "cv = RepeatedStratifiedKFold(n_splits=10, n_repeats=3, random_state=1)\n",
    "grid_search = GridSearchCV(estimator=model, param_grid=grid, n_jobs=-1, cv=cv, scoring='accuracy',error_score=0)\n",
    "grid_result = grid_search.fit(X, y)\n",
    "\n",
    "# summarize results\n",
    "print(\"Best: %f using %s\" % (grid_result.best_score_, grid_result.best_params_))\n",
    "means = grid_result.cv_results_['mean_test_score']\n",
    "stds = grid_result.cv_results_['std_test_score']\n",
    "params = grid_result.cv_results_['params']\n",
    "for mean, stdev, param in zip(means, stds, params):\n",
    "    print(\"%f (%f) with: %r\" % (mean, stdev, param))"
   ]
  },
  {
   "cell_type": "markdown",
   "id": "898030d2",
   "metadata": {},
   "source": [
    "# SVM"
   ]
  },
  {
   "cell_type": "code",
   "execution_count": 10,
   "id": "b2cbc9f2",
   "metadata": {},
   "outputs": [
    {
     "name": "stdout",
     "output_type": "stream",
     "text": [
      "Best: 0.754731 using {'C': 50, 'gamma': 'scale', 'kernel': 'poly'}\n",
      "0.754731 (0.069967) with: {'C': 50, 'gamma': 'scale', 'kernel': 'poly'}\n",
      "0.708351 (0.069602) with: {'C': 50, 'gamma': 'scale', 'kernel': 'rbf'}\n",
      "0.516882 (0.092207) with: {'C': 50, 'gamma': 'scale', 'kernel': 'sigmoid'}\n",
      "0.705161 (0.071357) with: {'C': 10, 'gamma': 'scale', 'kernel': 'poly'}\n",
      "0.684122 (0.070781) with: {'C': 10, 'gamma': 'scale', 'kernel': 'rbf'}\n",
      "0.514624 (0.093165) with: {'C': 10, 'gamma': 'scale', 'kernel': 'sigmoid'}\n",
      "0.665484 (0.071242) with: {'C': 1.0, 'gamma': 'scale', 'kernel': 'poly'}\n",
      "0.648136 (0.063882) with: {'C': 1.0, 'gamma': 'scale', 'kernel': 'rbf'}\n",
      "0.545663 (0.016990) with: {'C': 1.0, 'gamma': 'scale', 'kernel': 'sigmoid'}\n",
      "0.556631 (0.023264) with: {'C': 0.1, 'gamma': 'scale', 'kernel': 'poly'}\n",
      "0.544516 (0.012851) with: {'C': 0.1, 'gamma': 'scale', 'kernel': 'rbf'}\n",
      "0.544516 (0.012851) with: {'C': 0.1, 'gamma': 'scale', 'kernel': 'sigmoid'}\n",
      "0.544516 (0.012851) with: {'C': 0.01, 'gamma': 'scale', 'kernel': 'poly'}\n",
      "0.544516 (0.012851) with: {'C': 0.01, 'gamma': 'scale', 'kernel': 'rbf'}\n",
      "0.544516 (0.012851) with: {'C': 0.01, 'gamma': 'scale', 'kernel': 'sigmoid'}\n"
     ]
    }
   ],
   "source": [
    "# example of grid searching key hyperparametres for SVC\n",
    "from sklearn.svm import SVC\n",
    "\n",
    "# define model and parameters\n",
    "model = SVC()\n",
    "kernel = ['poly', 'rbf', 'sigmoid']\n",
    "C = [50, 10, 1.0, 0.1, 0.01]\n",
    "gamma = ['scale']\n",
    "\n",
    "# define grid search\n",
    "grid = dict(kernel=kernel,C=C,gamma=gamma)\n",
    "cv = RepeatedStratifiedKFold(n_splits=10, n_repeats=3, random_state=1)\n",
    "grid_search = GridSearchCV(estimator=model, param_grid=grid, n_jobs=-1, cv=cv, scoring='accuracy',error_score=0)\n",
    "grid_result = grid_search.fit(X, y)\n",
    "\n",
    "# summarize results\n",
    "print(\"Best: %f using %s\" % (grid_result.best_score_, grid_result.best_params_))\n",
    "means = grid_result.cv_results_['mean_test_score']\n",
    "stds = grid_result.cv_results_['std_test_score']\n",
    "params = grid_result.cv_results_['params']\n",
    "for mean, stdev, param in zip(means, stds, params):\n",
    "    print(\"%f (%f) with: %r\" % (mean, stdev, param))"
   ]
  },
  {
   "cell_type": "markdown",
   "id": "48a11b81",
   "metadata": {},
   "source": [
    "# Bagged Decision Trees "
   ]
  },
  {
   "cell_type": "code",
   "execution_count": 11,
   "id": "1388ea4b",
   "metadata": {},
   "outputs": [
    {
     "name": "stdout",
     "output_type": "stream",
     "text": [
      "Best: 0.792366 using {'n_estimators': 1000}\n",
      "0.775878 (0.065296) with: {'n_estimators': 10}\n",
      "0.791254 (0.076151) with: {'n_estimators': 100}\n",
      "0.792366 (0.066100) with: {'n_estimators': 1000}\n"
     ]
    }
   ],
   "source": [
    "# example of grid searching key hyperparameters for BaggingClassifier\n",
    "from sklearn.ensemble import BaggingClassifier\n",
    "\n",
    "# define models and parameters\n",
    "model = BaggingClassifier()\n",
    "n_estimators = [10, 100, 1000]\n",
    "\n",
    "# define grid search\n",
    "grid = dict(n_estimators=n_estimators)\n",
    "cv = RepeatedStratifiedKFold(n_splits=10, n_repeats=3, random_state=1)\n",
    "grid_search = GridSearchCV(estimator=model, param_grid=grid, n_jobs=-1, cv=cv, scoring='accuracy',error_score=0)\n",
    "grid_result = grid_search.fit(X, y)\n",
    "\n",
    "# summarize results\n",
    "print(\"Best: %f using %s\" % (grid_result.best_score_, grid_result.best_params_))\n",
    "means = grid_result.cv_results_['mean_test_score']\n",
    "stds = grid_result.cv_results_['std_test_score']\n",
    "params = grid_result.cv_results_['params']\n",
    "for mean, stdev, param in zip(means, stds, params):\n",
    "    print(\"%f (%f) with: %r\" % (mean, stdev, param))"
   ]
  },
  {
   "cell_type": "markdown",
   "id": "9534bd45",
   "metadata": {},
   "source": [
    "# RandomForest"
   ]
  },
  {
   "cell_type": "code",
   "execution_count": 12,
   "id": "881f271d",
   "metadata": {},
   "outputs": [
    {
     "name": "stdout",
     "output_type": "stream",
     "text": [
      "Best: 0.825341 using {'max_features': 'log2', 'n_estimators': 1000}\n",
      "0.791326 (0.067903) with: {'max_features': 'sqrt', 'n_estimators': 10}\n",
      "0.824229 (0.068500) with: {'max_features': 'sqrt', 'n_estimators': 100}\n",
      "0.820824 (0.057606) with: {'max_features': 'sqrt', 'n_estimators': 1000}\n",
      "0.794803 (0.073765) with: {'max_features': 'log2', 'n_estimators': 10}\n",
      "0.810932 (0.061879) with: {'max_features': 'log2', 'n_estimators': 100}\n",
      "0.825341 (0.062680) with: {'max_features': 'log2', 'n_estimators': 1000}\n"
     ]
    }
   ],
   "source": [
    "from sklearn.ensemble import RandomForestClassifier\n",
    "\n",
    "# define models and parameters\n",
    "model = RandomForestClassifier()\n",
    "n_estimators = [10, 100, 1000]\n",
    "max_features = ['sqrt', 'log2']\n",
    "\n",
    "# define grid search\n",
    "grid = dict(n_estimators=n_estimators,max_features=max_features)\n",
    "cv = RepeatedStratifiedKFold(n_splits=10, n_repeats=3, random_state=1)\n",
    "grid_search = GridSearchCV(estimator=model, param_grid=grid, n_jobs=-1, cv=cv, scoring='accuracy',error_score=0)\n",
    "grid_result = grid_search.fit(X, y)\n",
    "\n",
    "# summarize results\n",
    "print(\"Best: %f using %s\" % (grid_result.best_score_, grid_result.best_params_))\n",
    "means = grid_result.cv_results_['mean_test_score']\n",
    "stds = grid_result.cv_results_['std_test_score']\n",
    "params = grid_result.cv_results_['params']\n",
    "for mean, stdev, param in zip(means, stds, params):\n",
    "    print(\"%f (%f) with: %r\" % (mean, stdev, param))"
   ]
  },
  {
   "cell_type": "markdown",
   "id": "e904d8f8",
   "metadata": {},
   "source": [
    "# Stochastic Gradient Boosting"
   ]
  },
  {
   "cell_type": "code",
   "execution_count": 14,
   "id": "9e99e634",
   "metadata": {},
   "outputs": [
    {
     "name": "stdout",
     "output_type": "stream",
     "text": [
      "Best: 0.825376 using {'learning_rate': 0.001, 'max_depth': 3, 'n_estimators': 1000, 'subsample': 0.5}\n",
      "0.544516 (0.012851) with: {'learning_rate': 0.001, 'max_depth': 3, 'n_estimators': 10, 'subsample': 0.5}\n",
      "0.544516 (0.012851) with: {'learning_rate': 0.001, 'max_depth': 3, 'n_estimators': 10, 'subsample': 0.7}\n",
      "0.544516 (0.012851) with: {'learning_rate': 0.001, 'max_depth': 3, 'n_estimators': 10, 'subsample': 1.0}\n",
      "0.653620 (0.064332) with: {'learning_rate': 0.001, 'max_depth': 3, 'n_estimators': 100, 'subsample': 0.5}\n",
      "0.683405 (0.060372) with: {'learning_rate': 0.001, 'max_depth': 3, 'n_estimators': 100, 'subsample': 0.7}\n",
      "0.711147 (0.072615) with: {'learning_rate': 0.001, 'max_depth': 3, 'n_estimators': 100, 'subsample': 1.0}\n",
      "0.825376 (0.067934) with: {'learning_rate': 0.001, 'max_depth': 3, 'n_estimators': 1000, 'subsample': 0.5}\n",
      "0.812258 (0.075842) with: {'learning_rate': 0.001, 'max_depth': 3, 'n_estimators': 1000, 'subsample': 0.7}\n",
      "0.794588 (0.077964) with: {'learning_rate': 0.001, 'max_depth': 3, 'n_estimators': 1000, 'subsample': 1.0}\n",
      "0.544516 (0.012851) with: {'learning_rate': 0.001, 'max_depth': 7, 'n_estimators': 10, 'subsample': 0.5}\n",
      "0.544516 (0.012851) with: {'learning_rate': 0.001, 'max_depth': 7, 'n_estimators': 10, 'subsample': 0.7}\n",
      "0.544516 (0.012851) with: {'learning_rate': 0.001, 'max_depth': 7, 'n_estimators': 10, 'subsample': 1.0}\n",
      "0.691039 (0.069703) with: {'learning_rate': 0.001, 'max_depth': 7, 'n_estimators': 100, 'subsample': 0.5}\n",
      "0.721900 (0.073354) with: {'learning_rate': 0.001, 'max_depth': 7, 'n_estimators': 100, 'subsample': 0.7}\n",
      "0.761685 (0.064153) with: {'learning_rate': 0.001, 'max_depth': 7, 'n_estimators': 100, 'subsample': 1.0}\n",
      "0.804373 (0.071497) with: {'learning_rate': 0.001, 'max_depth': 7, 'n_estimators': 1000, 'subsample': 0.5}\n",
      "0.798853 (0.067651) with: {'learning_rate': 0.001, 'max_depth': 7, 'n_estimators': 1000, 'subsample': 0.7}\n",
      "0.763763 (0.067789) with: {'learning_rate': 0.001, 'max_depth': 7, 'n_estimators': 1000, 'subsample': 1.0}\n",
      "0.544516 (0.012851) with: {'learning_rate': 0.001, 'max_depth': 9, 'n_estimators': 10, 'subsample': 0.5}\n",
      "0.544516 (0.012851) with: {'learning_rate': 0.001, 'max_depth': 9, 'n_estimators': 10, 'subsample': 0.7}\n",
      "0.544516 (0.012851) with: {'learning_rate': 0.001, 'max_depth': 9, 'n_estimators': 10, 'subsample': 1.0}\n",
      "0.694229 (0.067136) with: {'learning_rate': 0.001, 'max_depth': 9, 'n_estimators': 100, 'subsample': 0.5}\n",
      "0.730753 (0.071801) with: {'learning_rate': 0.001, 'max_depth': 9, 'n_estimators': 100, 'subsample': 0.7}\n",
      "0.755018 (0.059747) with: {'learning_rate': 0.001, 'max_depth': 9, 'n_estimators': 100, 'subsample': 1.0}\n",
      "0.808817 (0.073204) with: {'learning_rate': 0.001, 'max_depth': 9, 'n_estimators': 1000, 'subsample': 0.5}\n",
      "0.796810 (0.074100) with: {'learning_rate': 0.001, 'max_depth': 9, 'n_estimators': 1000, 'subsample': 0.7}\n",
      "0.764731 (0.067655) with: {'learning_rate': 0.001, 'max_depth': 9, 'n_estimators': 1000, 'subsample': 1.0}\n",
      "0.665735 (0.068891) with: {'learning_rate': 0.01, 'max_depth': 3, 'n_estimators': 10, 'subsample': 0.5}\n",
      "0.676810 (0.063703) with: {'learning_rate': 0.01, 'max_depth': 3, 'n_estimators': 10, 'subsample': 0.7}\n",
      "0.712258 (0.074204) with: {'learning_rate': 0.01, 'max_depth': 3, 'n_estimators': 10, 'subsample': 1.0}\n",
      "0.818746 (0.072950) with: {'learning_rate': 0.01, 'max_depth': 3, 'n_estimators': 100, 'subsample': 0.5}\n",
      "0.816774 (0.076197) with: {'learning_rate': 0.01, 'max_depth': 3, 'n_estimators': 100, 'subsample': 0.7}\n",
      "0.792437 (0.078495) with: {'learning_rate': 0.01, 'max_depth': 3, 'n_estimators': 100, 'subsample': 1.0}\n",
      "0.813082 (0.069881) with: {'learning_rate': 0.01, 'max_depth': 3, 'n_estimators': 1000, 'subsample': 0.5}\n",
      "0.815305 (0.065201) with: {'learning_rate': 0.01, 'max_depth': 3, 'n_estimators': 1000, 'subsample': 0.7}\n",
      "0.802079 (0.067375) with: {'learning_rate': 0.01, 'max_depth': 3, 'n_estimators': 1000, 'subsample': 1.0}\n",
      "0.685663 (0.069063) with: {'learning_rate': 0.01, 'max_depth': 7, 'n_estimators': 10, 'subsample': 0.5}\n",
      "0.734946 (0.073064) with: {'learning_rate': 0.01, 'max_depth': 7, 'n_estimators': 10, 'subsample': 0.7}\n",
      "0.760609 (0.063041) with: {'learning_rate': 0.01, 'max_depth': 7, 'n_estimators': 10, 'subsample': 1.0}\n",
      "0.797814 (0.075635) with: {'learning_rate': 0.01, 'max_depth': 7, 'n_estimators': 100, 'subsample': 0.5}\n",
      "0.794588 (0.073500) with: {'learning_rate': 0.01, 'max_depth': 7, 'n_estimators': 100, 'subsample': 0.7}\n",
      "0.762760 (0.061767) with: {'learning_rate': 0.01, 'max_depth': 7, 'n_estimators': 100, 'subsample': 1.0}\n",
      "0.806523 (0.065692) with: {'learning_rate': 0.01, 'max_depth': 7, 'n_estimators': 1000, 'subsample': 0.5}\n",
      "0.798781 (0.067924) with: {'learning_rate': 0.01, 'max_depth': 7, 'n_estimators': 1000, 'subsample': 0.7}\n",
      "0.767025 (0.082534) with: {'learning_rate': 0.01, 'max_depth': 7, 'n_estimators': 1000, 'subsample': 1.0}\n",
      "0.675699 (0.072269) with: {'learning_rate': 0.01, 'max_depth': 9, 'n_estimators': 10, 'subsample': 0.5}\n",
      "0.708638 (0.063676) with: {'learning_rate': 0.01, 'max_depth': 9, 'n_estimators': 10, 'subsample': 0.7}\n",
      "0.756129 (0.060873) with: {'learning_rate': 0.01, 'max_depth': 9, 'n_estimators': 10, 'subsample': 1.0}\n",
      "0.802222 (0.072464) with: {'learning_rate': 0.01, 'max_depth': 9, 'n_estimators': 100, 'subsample': 0.5}\n",
      "0.795591 (0.066206) with: {'learning_rate': 0.01, 'max_depth': 9, 'n_estimators': 100, 'subsample': 0.7}\n",
      "0.761470 (0.069110) with: {'learning_rate': 0.01, 'max_depth': 9, 'n_estimators': 100, 'subsample': 1.0}\n",
      "0.804194 (0.067498) with: {'learning_rate': 0.01, 'max_depth': 9, 'n_estimators': 1000, 'subsample': 0.5}\n",
      "0.803226 (0.070925) with: {'learning_rate': 0.01, 'max_depth': 9, 'n_estimators': 1000, 'subsample': 0.7}\n",
      "0.765950 (0.072657) with: {'learning_rate': 0.01, 'max_depth': 9, 'n_estimators': 1000, 'subsample': 1.0}\n",
      "0.812294 (0.063677) with: {'learning_rate': 0.1, 'max_depth': 3, 'n_estimators': 10, 'subsample': 0.5}\n",
      "0.808961 (0.074601) with: {'learning_rate': 0.1, 'max_depth': 3, 'n_estimators': 10, 'subsample': 0.7}\n",
      "0.795735 (0.079429) with: {'learning_rate': 0.1, 'max_depth': 3, 'n_estimators': 10, 'subsample': 1.0}\n",
      "0.798817 (0.067805) with: {'learning_rate': 0.1, 'max_depth': 3, 'n_estimators': 100, 'subsample': 0.5}\n",
      "0.809677 (0.059740) with: {'learning_rate': 0.1, 'max_depth': 3, 'n_estimators': 100, 'subsample': 0.7}\n",
      "0.806559 (0.068640) with: {'learning_rate': 0.1, 'max_depth': 3, 'n_estimators': 100, 'subsample': 1.0}\n",
      "0.787670 (0.062440) with: {'learning_rate': 0.1, 'max_depth': 3, 'n_estimators': 1000, 'subsample': 0.5}\n",
      "0.784480 (0.067041) with: {'learning_rate': 0.1, 'max_depth': 3, 'n_estimators': 1000, 'subsample': 0.7}\n",
      "0.764731 (0.073238) with: {'learning_rate': 0.1, 'max_depth': 3, 'n_estimators': 1000, 'subsample': 1.0}\n",
      "0.773978 (0.082174) with: {'learning_rate': 0.1, 'max_depth': 7, 'n_estimators': 10, 'subsample': 0.5}\n",
      "0.781470 (0.075917) with: {'learning_rate': 0.1, 'max_depth': 7, 'n_estimators': 10, 'subsample': 0.7}\n",
      "0.758208 (0.068684) with: {'learning_rate': 0.1, 'max_depth': 7, 'n_estimators': 10, 'subsample': 1.0}\n",
      "0.794373 (0.077319) with: {'learning_rate': 0.1, 'max_depth': 7, 'n_estimators': 100, 'subsample': 0.5}\n",
      "0.795556 (0.073882) with: {'learning_rate': 0.1, 'max_depth': 7, 'n_estimators': 100, 'subsample': 0.7}\n",
      "0.764767 (0.084343) with: {'learning_rate': 0.1, 'max_depth': 7, 'n_estimators': 100, 'subsample': 1.0}\n",
      "0.784588 (0.073815) with: {'learning_rate': 0.1, 'max_depth': 7, 'n_estimators': 1000, 'subsample': 0.5}\n",
      "0.791254 (0.073838) with: {'learning_rate': 0.1, 'max_depth': 7, 'n_estimators': 1000, 'subsample': 0.7}\n",
      "0.773656 (0.075147) with: {'learning_rate': 0.1, 'max_depth': 7, 'n_estimators': 1000, 'subsample': 1.0}\n",
      "0.791541 (0.078071) with: {'learning_rate': 0.1, 'max_depth': 9, 'n_estimators': 10, 'subsample': 0.5}\n",
      "0.770466 (0.076862) with: {'learning_rate': 0.1, 'max_depth': 9, 'n_estimators': 10, 'subsample': 0.7}\n",
      "0.769176 (0.068885) with: {'learning_rate': 0.1, 'max_depth': 9, 'n_estimators': 10, 'subsample': 1.0}\n",
      "0.805412 (0.063357) with: {'learning_rate': 0.1, 'max_depth': 9, 'n_estimators': 100, 'subsample': 0.5}\n",
      "0.793333 (0.072354) with: {'learning_rate': 0.1, 'max_depth': 9, 'n_estimators': 100, 'subsample': 0.7}\n",
      "0.752724 (0.066505) with: {'learning_rate': 0.1, 'max_depth': 9, 'n_estimators': 100, 'subsample': 1.0}\n",
      "0.783548 (0.065893) with: {'learning_rate': 0.1, 'max_depth': 9, 'n_estimators': 1000, 'subsample': 0.5}\n",
      "0.782437 (0.076667) with: {'learning_rate': 0.1, 'max_depth': 9, 'n_estimators': 1000, 'subsample': 0.7}\n",
      "0.759247 (0.069805) with: {'learning_rate': 0.1, 'max_depth': 9, 'n_estimators': 1000, 'subsample': 1.0}\n"
     ]
    }
   ],
   "source": [
    "from sklearn.ensemble import GradientBoostingClassifier\n",
    "\n",
    "# define models and parameters\n",
    "model = GradientBoostingClassifier()\n",
    "n_estimators = [10, 100, 1000]\n",
    "learning_rate = [0.001, 0.01, 0.1]\n",
    "subsample = [0.5, 0.7, 1.0]\n",
    "max_depth = [3, 7, 9]\n",
    "\n",
    "# define grid search\n",
    "grid = dict(learning_rate=learning_rate, n_estimators=n_estimators, subsample=subsample, max_depth=max_depth)\n",
    "cv = RepeatedStratifiedKFold(n_splits=10, n_repeats=3, random_state=1)\n",
    "grid_search = GridSearchCV(estimator=model, param_grid=grid, n_jobs=-1, cv=cv, scoring='accuracy',error_score=0)\n",
    "grid_result = grid_search.fit(X, y)\n",
    "\n",
    "# summarize results\n",
    "print(\"Best: %f using %s\" % (grid_result.best_score_, grid_result.best_params_))\n",
    "means = grid_result.cv_results_['mean_test_score']\n",
    "stds = grid_result.cv_results_['std_test_score']\n",
    "params = grid_result.cv_results_['params']\n",
    "for mean, stdev, param in zip(means, stds, params):\n",
    "    print(\"%f (%f) with: %r\" % (mean, stdev, param))"
   ]
  },
  {
   "cell_type": "code",
   "execution_count": null,
   "id": "0f54fee6",
   "metadata": {},
   "outputs": [],
   "source": []
  }
 ],
 "metadata": {
  "kernelspec": {
   "display_name": "Python 3 (ipykernel)",
   "language": "python",
   "name": "python3"
  },
  "language_info": {
   "codemirror_mode": {
    "name": "ipython",
    "version": 3
   },
   "file_extension": ".py",
   "mimetype": "text/x-python",
   "name": "python",
   "nbconvert_exporter": "python",
   "pygments_lexer": "ipython3",
   "version": "3.8.8"
  }
 },
 "nbformat": 4,
 "nbformat_minor": 5
}
