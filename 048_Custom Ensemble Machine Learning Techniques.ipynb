{
 "cells": [
  {
   "cell_type": "code",
   "execution_count": 1,
   "id": "8f64a205",
   "metadata": {},
   "outputs": [],
   "source": [
    "import numpy as np\n",
    "import pandas as pd\n",
    "import seaborn as sns\n",
    "from sklearn.svm import SVC\n",
    "import matplotlib.pyplot as plt\n",
    "from sklearn.pipeline import Pipeline\n",
    "from sklearn.ensemble import VotingClassifier\n",
    "from sklearn.tree import DecisionTreeClassifier\n",
    "from sklearn.model_selection import cross_val_score\n",
    "from sklearn.linear_model import LogisticRegression\n",
    "from sklearn.ensemble import RandomForestClassifier\n",
    "from sklearn.model_selection import RepeatedStratifiedKFold\n",
    "\n",
    "%matplotlib inline"
   ]
  },
  {
   "cell_type": "code",
   "execution_count": 2,
   "id": "2518b34d",
   "metadata": {
    "scrolled": true
   },
   "outputs": [
    {
     "data": {
      "text/html": [
       "<div>\n",
       "<style scoped>\n",
       "    .dataframe tbody tr th:only-of-type {\n",
       "        vertical-align: middle;\n",
       "    }\n",
       "\n",
       "    .dataframe tbody tr th {\n",
       "        vertical-align: top;\n",
       "    }\n",
       "\n",
       "    .dataframe thead th {\n",
       "        text-align: right;\n",
       "    }\n",
       "</style>\n",
       "<table border=\"1\" class=\"dataframe\">\n",
       "  <thead>\n",
       "    <tr style=\"text-align: right;\">\n",
       "      <th></th>\n",
       "      <th>age</th>\n",
       "      <th>sex</th>\n",
       "      <th>cp</th>\n",
       "      <th>trestbps</th>\n",
       "      <th>chol</th>\n",
       "      <th>fbs</th>\n",
       "      <th>restecg</th>\n",
       "      <th>thalach</th>\n",
       "      <th>exang</th>\n",
       "      <th>oldpeak</th>\n",
       "      <th>slope</th>\n",
       "      <th>ca</th>\n",
       "      <th>thal</th>\n",
       "      <th>target</th>\n",
       "    </tr>\n",
       "  </thead>\n",
       "  <tbody>\n",
       "    <tr>\n",
       "      <th>0</th>\n",
       "      <td>63</td>\n",
       "      <td>1</td>\n",
       "      <td>3</td>\n",
       "      <td>145</td>\n",
       "      <td>233</td>\n",
       "      <td>1</td>\n",
       "      <td>0</td>\n",
       "      <td>150</td>\n",
       "      <td>0</td>\n",
       "      <td>2.3</td>\n",
       "      <td>0</td>\n",
       "      <td>0</td>\n",
       "      <td>1</td>\n",
       "      <td>1</td>\n",
       "    </tr>\n",
       "    <tr>\n",
       "      <th>1</th>\n",
       "      <td>37</td>\n",
       "      <td>1</td>\n",
       "      <td>2</td>\n",
       "      <td>130</td>\n",
       "      <td>250</td>\n",
       "      <td>0</td>\n",
       "      <td>1</td>\n",
       "      <td>187</td>\n",
       "      <td>0</td>\n",
       "      <td>3.5</td>\n",
       "      <td>0</td>\n",
       "      <td>0</td>\n",
       "      <td>2</td>\n",
       "      <td>1</td>\n",
       "    </tr>\n",
       "    <tr>\n",
       "      <th>2</th>\n",
       "      <td>41</td>\n",
       "      <td>0</td>\n",
       "      <td>1</td>\n",
       "      <td>130</td>\n",
       "      <td>204</td>\n",
       "      <td>0</td>\n",
       "      <td>0</td>\n",
       "      <td>172</td>\n",
       "      <td>0</td>\n",
       "      <td>1.4</td>\n",
       "      <td>2</td>\n",
       "      <td>0</td>\n",
       "      <td>2</td>\n",
       "      <td>1</td>\n",
       "    </tr>\n",
       "    <tr>\n",
       "      <th>3</th>\n",
       "      <td>56</td>\n",
       "      <td>1</td>\n",
       "      <td>1</td>\n",
       "      <td>120</td>\n",
       "      <td>236</td>\n",
       "      <td>0</td>\n",
       "      <td>1</td>\n",
       "      <td>178</td>\n",
       "      <td>0</td>\n",
       "      <td>0.8</td>\n",
       "      <td>2</td>\n",
       "      <td>0</td>\n",
       "      <td>2</td>\n",
       "      <td>1</td>\n",
       "    </tr>\n",
       "    <tr>\n",
       "      <th>4</th>\n",
       "      <td>57</td>\n",
       "      <td>0</td>\n",
       "      <td>0</td>\n",
       "      <td>120</td>\n",
       "      <td>354</td>\n",
       "      <td>0</td>\n",
       "      <td>1</td>\n",
       "      <td>163</td>\n",
       "      <td>1</td>\n",
       "      <td>0.6</td>\n",
       "      <td>2</td>\n",
       "      <td>0</td>\n",
       "      <td>2</td>\n",
       "      <td>1</td>\n",
       "    </tr>\n",
       "  </tbody>\n",
       "</table>\n",
       "</div>"
      ],
      "text/plain": [
       "   age  sex  cp  trestbps  chol  fbs  restecg  thalach  exang  oldpeak  slope  \\\n",
       "0   63    1   3       145   233    1        0      150      0      2.3      0   \n",
       "1   37    1   2       130   250    0        1      187      0      3.5      0   \n",
       "2   41    0   1       130   204    0        0      172      0      1.4      2   \n",
       "3   56    1   1       120   236    0        1      178      0      0.8      2   \n",
       "4   57    0   0       120   354    0        1      163      1      0.6      2   \n",
       "\n",
       "   ca  thal  target  \n",
       "0   0     1       1  \n",
       "1   0     2       1  \n",
       "2   0     2       1  \n",
       "3   0     2       1  \n",
       "4   0     2       1  "
      ]
     },
     "execution_count": 2,
     "metadata": {},
     "output_type": "execute_result"
    }
   ],
   "source": [
    "df = pd.read_csv(\"D:\\corona\\heart_Disease\\heart.csv\")\n",
    "df.head()"
   ]
  },
  {
   "cell_type": "code",
   "execution_count": 3,
   "id": "7bde67cc",
   "metadata": {},
   "outputs": [
    {
     "name": "stdout",
     "output_type": "stream",
     "text": [
      "<class 'pandas.core.frame.DataFrame'>\n",
      "RangeIndex: 303 entries, 0 to 302\n",
      "Data columns (total 14 columns):\n",
      " #   Column    Non-Null Count  Dtype  \n",
      "---  ------    --------------  -----  \n",
      " 0   age       303 non-null    int64  \n",
      " 1   sex       303 non-null    int64  \n",
      " 2   cp        303 non-null    int64  \n",
      " 3   trestbps  303 non-null    int64  \n",
      " 4   chol      303 non-null    int64  \n",
      " 5   fbs       303 non-null    int64  \n",
      " 6   restecg   303 non-null    int64  \n",
      " 7   thalach   303 non-null    int64  \n",
      " 8   exang     303 non-null    int64  \n",
      " 9   oldpeak   303 non-null    float64\n",
      " 10  slope     303 non-null    int64  \n",
      " 11  ca        303 non-null    int64  \n",
      " 12  thal      303 non-null    int64  \n",
      " 13  target    303 non-null    int64  \n",
      "dtypes: float64(1), int64(13)\n",
      "memory usage: 33.3 KB\n"
     ]
    }
   ],
   "source": [
    "df.info()"
   ]
  },
  {
   "cell_type": "code",
   "execution_count": 4,
   "id": "fed766cb",
   "metadata": {},
   "outputs": [
    {
     "data": {
      "text/plain": [
       "1    165\n",
       "0    138\n",
       "Name: target, dtype: int64"
      ]
     },
     "execution_count": 4,
     "metadata": {},
     "output_type": "execute_result"
    }
   ],
   "source": [
    "df['target'].value_counts()"
   ]
  },
  {
   "cell_type": "code",
   "execution_count": 5,
   "id": "357f7242",
   "metadata": {},
   "outputs": [],
   "source": [
    "model = []\n",
    "\n",
    "svc_model = Pipeline([('m', SVC())])\n",
    "model.append(('SVM_Classification',svc_model))\n",
    "\n",
    "logistic_reg = Pipeline([('m', LogisticRegression())])\n",
    "model.append(('Logistic_Regression',logistic_reg))\n",
    "\n",
    "decision_tree = Pipeline([('m', DecisionTreeClassifier())])\n",
    "model.append(('Decision_Tree',decision_tree))\n",
    "\n",
    "random_forest = Pipeline([('m', RandomForestClassifier())])\n",
    "model.append(('Random_Forest',decision_tree))\n",
    "\n",
    "\n",
    "ensemble = VotingClassifier(estimators=model, voting='hard')"
   ]
  },
  {
   "cell_type": "code",
   "execution_count": 6,
   "id": "7485296f",
   "metadata": {},
   "outputs": [
    {
     "data": {
      "text/plain": [
       "[('SVM_Classification', Pipeline(steps=[('m', SVC())])),\n",
       " ('Logistic_Regression', Pipeline(steps=[('m', LogisticRegression())])),\n",
       " ('Decision_Tree', Pipeline(steps=[('m', DecisionTreeClassifier())])),\n",
       " ('Random_Forest', Pipeline(steps=[('m', DecisionTreeClassifier())]))]"
      ]
     },
     "execution_count": 6,
     "metadata": {},
     "output_type": "execute_result"
    }
   ],
   "source": [
    "model"
   ]
  },
  {
   "cell_type": "code",
   "execution_count": 7,
   "id": "1fd56cf6",
   "metadata": {},
   "outputs": [
    {
     "data": {
      "text/plain": [
       "VotingClassifier(estimators=[('SVM_Classification',\n",
       "                              Pipeline(steps=[('m', SVC())])),\n",
       "                             ('Logistic_Regression',\n",
       "                              Pipeline(steps=[('m', LogisticRegression())])),\n",
       "                             ('Decision_Tree',\n",
       "                              Pipeline(steps=[('m',\n",
       "                                               DecisionTreeClassifier())])),\n",
       "                             ('Random_Forest',\n",
       "                              Pipeline(steps=[('m',\n",
       "                                               DecisionTreeClassifier())]))])"
      ]
     },
     "execution_count": 7,
     "metadata": {},
     "output_type": "execute_result"
    }
   ],
   "source": [
    "# Combination of all the models\n",
    "ensemble"
   ]
  },
  {
   "cell_type": "code",
   "execution_count": 8,
   "id": "fd44f024",
   "metadata": {},
   "outputs": [],
   "source": [
    "# Using RepeatedStratifiedKFold For proper train test splits\n",
    "\n",
    "X = df.drop('target',axis=1)\n",
    "y = df['target']\n",
    "\n",
    "cv = RepeatedStratifiedKFold(n_splits=101, n_repeats=3)\n",
    "n_score = cross_val_score(ensemble, X, y, scoring='accuracy', cv=cv, n_jobs=-1)"
   ]
  },
  {
   "cell_type": "code",
   "execution_count": 9,
   "id": "ab438d4d",
   "metadata": {},
   "outputs": [
    {
     "data": {
      "text/plain": [
       "array([0.66666667, 1.        , 0.66666667, 0.66666667, 0.66666667,\n",
       "       1.        , 1.        , 1.        , 0.66666667, 1.        ,\n",
       "       1.        , 1.        , 1.        , 1.        , 0.66666667,\n",
       "       0.33333333, 0.66666667, 1.        , 0.66666667, 0.66666667,\n",
       "       0.66666667, 0.66666667, 1.        , 1.        , 0.66666667,\n",
       "       1.        , 1.        , 1.        , 1.        , 1.        ,\n",
       "       1.        , 1.        , 1.        , 0.66666667, 0.66666667,\n",
       "       1.        , 0.33333333, 1.        , 1.        , 0.66666667,\n",
       "       1.        , 1.        , 1.        , 1.        , 1.        ,\n",
       "       0.66666667, 0.33333333, 1.        , 1.        , 0.66666667,\n",
       "       0.66666667, 0.66666667, 1.        , 1.        , 0.66666667,\n",
       "       1.        , 0.33333333, 0.66666667, 0.66666667, 1.        ,\n",
       "       1.        , 1.        , 1.        , 1.        , 1.        ,\n",
       "       1.        , 1.        , 0.33333333, 1.        , 0.66666667,\n",
       "       1.        , 0.66666667, 0.66666667, 0.66666667, 1.        ,\n",
       "       0.66666667, 0.66666667, 1.        , 1.        , 1.        ,\n",
       "       1.        , 1.        , 0.33333333, 1.        , 0.66666667,\n",
       "       0.66666667, 1.        , 1.        , 0.66666667, 0.66666667,\n",
       "       0.66666667, 1.        , 0.33333333, 0.66666667, 1.        ,\n",
       "       0.66666667, 1.        , 0.66666667, 0.66666667, 0.        ,\n",
       "       0.66666667, 1.        , 1.        , 1.        , 1.        ,\n",
       "       1.        , 0.66666667, 1.        , 1.        , 0.66666667,\n",
       "       1.        , 1.        , 0.66666667, 1.        , 1.        ,\n",
       "       1.        , 0.33333333, 0.66666667, 0.66666667, 0.33333333,\n",
       "       1.        , 0.66666667, 1.        , 1.        , 1.        ,\n",
       "       1.        , 1.        , 1.        , 0.66666667, 0.66666667,\n",
       "       0.66666667, 0.66666667, 0.66666667, 0.33333333, 0.66666667,\n",
       "       0.33333333, 1.        , 0.33333333, 1.        , 1.        ,\n",
       "       1.        , 0.        , 1.        , 0.66666667, 0.66666667,\n",
       "       1.        , 1.        , 1.        , 0.33333333, 1.        ,\n",
       "       0.66666667, 1.        , 1.        , 1.        , 0.66666667,\n",
       "       0.33333333, 1.        , 1.        , 0.33333333, 0.33333333,\n",
       "       0.66666667, 1.        , 1.        , 1.        , 0.66666667,\n",
       "       1.        , 0.66666667, 1.        , 1.        , 0.66666667,\n",
       "       1.        , 0.66666667, 1.        , 0.66666667, 1.        ,\n",
       "       0.66666667, 1.        , 0.33333333, 1.        , 1.        ,\n",
       "       1.        , 0.66666667, 0.66666667, 1.        , 0.33333333,\n",
       "       1.        , 1.        , 0.66666667, 0.66666667, 1.        ,\n",
       "       1.        , 0.66666667, 0.66666667, 1.        , 1.        ,\n",
       "       0.66666667, 1.        , 0.66666667, 1.        , 1.        ,\n",
       "       1.        , 0.33333333, 1.        , 1.        , 0.66666667,\n",
       "       0.33333333, 0.33333333, 0.66666667, 0.66666667, 0.66666667,\n",
       "       1.        , 1.        , 1.        , 1.        , 1.        ,\n",
       "       0.66666667, 1.        , 0.66666667, 0.33333333, 1.        ,\n",
       "       0.66666667, 1.        , 1.        , 1.        , 1.        ,\n",
       "       0.        , 1.        , 1.        , 1.        , 1.        ,\n",
       "       0.66666667, 0.33333333, 1.        , 0.33333333, 0.66666667,\n",
       "       0.66666667, 0.66666667, 1.        , 1.        , 1.        ,\n",
       "       1.        , 0.66666667, 0.66666667, 1.        , 1.        ,\n",
       "       1.        , 1.        , 1.        , 0.66666667, 1.        ,\n",
       "       1.        , 0.66666667, 0.        , 0.33333333, 1.        ,\n",
       "       0.66666667, 0.66666667, 0.66666667, 1.        , 1.        ,\n",
       "       0.66666667, 0.66666667, 0.66666667, 1.        , 1.        ,\n",
       "       0.33333333, 0.66666667, 0.33333333, 1.        , 0.66666667,\n",
       "       1.        , 1.        , 0.66666667, 0.33333333, 0.66666667,\n",
       "       1.        , 0.66666667, 1.        , 1.        , 1.        ,\n",
       "       0.66666667, 1.        , 1.        , 0.66666667, 1.        ,\n",
       "       0.66666667, 1.        , 0.66666667, 1.        , 1.        ,\n",
       "       1.        , 0.66666667, 1.        , 0.33333333, 1.        ,\n",
       "       1.        , 1.        , 0.66666667, 0.66666667, 0.66666667,\n",
       "       0.33333333, 1.        , 1.        ])"
      ]
     },
     "execution_count": 9,
     "metadata": {},
     "output_type": "execute_result"
    }
   ],
   "source": [
    "n_score"
   ]
  },
  {
   "cell_type": "code",
   "execution_count": 10,
   "id": "f9c5cefa",
   "metadata": {},
   "outputs": [
    {
     "data": {
      "text/plain": [
       "0.8074807480748075"
      ]
     },
     "execution_count": 10,
     "metadata": {},
     "output_type": "execute_result"
    }
   ],
   "source": [
    "n_score.mean()"
   ]
  },
  {
   "cell_type": "code",
   "execution_count": null,
   "id": "82244fe5",
   "metadata": {},
   "outputs": [],
   "source": []
  }
 ],
 "metadata": {
  "kernelspec": {
   "display_name": "Python 3",
   "language": "python",
   "name": "python3"
  },
  "language_info": {
   "codemirror_mode": {
    "name": "ipython",
    "version": 3
   },
   "file_extension": ".py",
   "mimetype": "text/x-python",
   "name": "python",
   "nbconvert_exporter": "python",
   "pygments_lexer": "ipython3",
   "version": "3.7.7"
  }
 },
 "nbformat": 4,
 "nbformat_minor": 5
}
