{
 "cells": [
  {
   "cell_type": "markdown",
   "id": "afb26b50",
   "metadata": {},
   "source": [
    "# How To Select Hidden Layers And Number of Hidden Neurons In ANN"
   ]
  },
  {
   "cell_type": "code",
   "execution_count": 1,
   "id": "6cb33877",
   "metadata": {},
   "outputs": [
    {
     "data": {
      "text/html": [
       "<div>\n",
       "<style scoped>\n",
       "    .dataframe tbody tr th:only-of-type {\n",
       "        vertical-align: middle;\n",
       "    }\n",
       "\n",
       "    .dataframe tbody tr th {\n",
       "        vertical-align: top;\n",
       "    }\n",
       "\n",
       "    .dataframe thead th {\n",
       "        text-align: right;\n",
       "    }\n",
       "</style>\n",
       "<table border=\"1\" class=\"dataframe\">\n",
       "  <thead>\n",
       "    <tr style=\"text-align: right;\">\n",
       "      <th></th>\n",
       "      <th>T</th>\n",
       "      <th>TM</th>\n",
       "      <th>Tm</th>\n",
       "      <th>SLP</th>\n",
       "      <th>H</th>\n",
       "      <th>VV</th>\n",
       "      <th>V</th>\n",
       "      <th>VM</th>\n",
       "      <th>PM 2.5</th>\n",
       "    </tr>\n",
       "  </thead>\n",
       "  <tbody>\n",
       "    <tr>\n",
       "      <th>0</th>\n",
       "      <td>7.4</td>\n",
       "      <td>9.8</td>\n",
       "      <td>4.8</td>\n",
       "      <td>1017.6</td>\n",
       "      <td>93.0</td>\n",
       "      <td>0.5</td>\n",
       "      <td>4.3</td>\n",
       "      <td>9.4</td>\n",
       "      <td>219.720833</td>\n",
       "    </tr>\n",
       "    <tr>\n",
       "      <th>1</th>\n",
       "      <td>7.8</td>\n",
       "      <td>12.7</td>\n",
       "      <td>4.4</td>\n",
       "      <td>1018.5</td>\n",
       "      <td>87.0</td>\n",
       "      <td>0.6</td>\n",
       "      <td>4.4</td>\n",
       "      <td>11.1</td>\n",
       "      <td>182.187500</td>\n",
       "    </tr>\n",
       "    <tr>\n",
       "      <th>2</th>\n",
       "      <td>6.7</td>\n",
       "      <td>13.4</td>\n",
       "      <td>2.4</td>\n",
       "      <td>1019.4</td>\n",
       "      <td>82.0</td>\n",
       "      <td>0.6</td>\n",
       "      <td>4.8</td>\n",
       "      <td>11.1</td>\n",
       "      <td>154.037500</td>\n",
       "    </tr>\n",
       "    <tr>\n",
       "      <th>3</th>\n",
       "      <td>8.6</td>\n",
       "      <td>15.5</td>\n",
       "      <td>3.3</td>\n",
       "      <td>1018.7</td>\n",
       "      <td>72.0</td>\n",
       "      <td>0.8</td>\n",
       "      <td>8.1</td>\n",
       "      <td>20.6</td>\n",
       "      <td>223.208333</td>\n",
       "    </tr>\n",
       "    <tr>\n",
       "      <th>4</th>\n",
       "      <td>12.4</td>\n",
       "      <td>20.9</td>\n",
       "      <td>4.4</td>\n",
       "      <td>1017.3</td>\n",
       "      <td>61.0</td>\n",
       "      <td>1.3</td>\n",
       "      <td>8.7</td>\n",
       "      <td>22.2</td>\n",
       "      <td>200.645833</td>\n",
       "    </tr>\n",
       "  </tbody>\n",
       "</table>\n",
       "</div>"
      ],
      "text/plain": [
       "      T    TM   Tm     SLP     H   VV    V    VM      PM 2.5\n",
       "0   7.4   9.8  4.8  1017.6  93.0  0.5  4.3   9.4  219.720833\n",
       "1   7.8  12.7  4.4  1018.5  87.0  0.6  4.4  11.1  182.187500\n",
       "2   6.7  13.4  2.4  1019.4  82.0  0.6  4.8  11.1  154.037500\n",
       "3   8.6  15.5  3.3  1018.7  72.0  0.8  8.1  20.6  223.208333\n",
       "4  12.4  20.9  4.4  1017.3  61.0  1.3  8.7  22.2  200.645833"
      ]
     },
     "execution_count": 1,
     "metadata": {},
     "output_type": "execute_result"
    }
   ],
   "source": [
    "import numpy as np\n",
    "import pandas as pd\n",
    "\n",
    "df = pd.read_csv(r\"https://raw.githubusercontent.com/krishnaik06/Keras-Tuner/main/Real_Combine.csv\")\n",
    "df.head()"
   ]
  },
  {
   "cell_type": "code",
   "execution_count": 2,
   "id": "a55880a3",
   "metadata": {},
   "outputs": [
    {
     "data": {
      "text/plain": [
       "(1093, 9)"
      ]
     },
     "execution_count": 2,
     "metadata": {},
     "output_type": "execute_result"
    }
   ],
   "source": [
    "df.shape"
   ]
  },
  {
   "cell_type": "code",
   "execution_count": 3,
   "id": "f779d006",
   "metadata": {},
   "outputs": [],
   "source": [
    "X = df.drop('PM 2.5', axis=1)\n",
    "y = df['PM 2.5']"
   ]
  },
  {
   "cell_type": "markdown",
   "id": "43c5ba33",
   "metadata": {},
   "source": [
    "## Hyper-Parameters\n",
    "\n",
    "1.) How many number of hidden layers we should have?\n",
    "\n",
    "2.) How many number of neurons we should have in hidden layers?\n",
    "\n",
    "3.) What should be learning rate?"
   ]
  },
  {
   "cell_type": "code",
   "execution_count": 4,
   "id": "bf0da4e5",
   "metadata": {},
   "outputs": [],
   "source": [
    "from tensorflow import keras\n",
    "from tensorflow.keras.layers import Dense\n",
    "from keras_tuner.tuners import RandomSearch\n",
    "from tensorflow.keras.models import Sequential\n",
    "\n",
    "def build_model(hyper_param):\n",
    "    model = Sequential()\n",
    "    for i in range(hyper_param.Int('num_layers', 2, 20)):       # NN can have hidden layers between 2 to 20 \n",
    "        model.add(Dense(units=hyper_param.Int('units_'+str(i), \n",
    "                                              min_value = 32,   # Minimum number of neurons can be 32\n",
    "                                              max_value = 512,  # Miximum number of neurons can be 512\n",
    "                                              step=32), activation='relu'))\n",
    "        \n",
    "    model.add(Dense(1, activation='linear'))\n",
    "    \n",
    "    model.compile(optimizer=keras.optimizers.Adam(hyper_param.Choice('learning_rate', [1e-2, 1e-3, 1e-4])), \n",
    "                  loss='mean_absolute_error',           \n",
    "                  metrics=['mean_absolute_error'])      # For classification : accuracy\n",
    "    return model"
   ]
  },
  {
   "cell_type": "code",
   "execution_count": 5,
   "id": "510e0732",
   "metadata": {},
   "outputs": [
    {
     "name": "stdout",
     "output_type": "stream",
     "text": [
      "Search space summary\n",
      "Default search space size: 4\n",
      "num_layers (Int)\n",
      "{'default': None, 'conditions': [], 'min_value': 2, 'max_value': 20, 'step': 1, 'sampling': None}\n",
      "units_0 (Int)\n",
      "{'default': None, 'conditions': [], 'min_value': 32, 'max_value': 512, 'step': 32, 'sampling': None}\n",
      "units_1 (Int)\n",
      "{'default': None, 'conditions': [], 'min_value': 32, 'max_value': 512, 'step': 32, 'sampling': None}\n",
      "learning_rate (Choice)\n",
      "{'default': 0.01, 'conditions': [], 'values': [0.01, 0.001, 0.0001], 'ordered': True}\n"
     ]
    }
   ],
   "source": [
    "tunner = RandomSearch(build_model, objective='val_mean_absolute_error',  # For classification : val_accuracy\n",
    "                      max_trials=5, \n",
    "                      executions_per_trial=3,                           # 5x3=15\n",
    "                      directory='Proj12',                                # Storing weights\n",
    "                      project_name='AirQualityIndex2')\n",
    "\n",
    "tunner.search_space_summary()"
   ]
  },
  {
   "cell_type": "code",
   "execution_count": 6,
   "id": "b3422d14",
   "metadata": {},
   "outputs": [],
   "source": [
    "from sklearn.model_selection import train_test_split\n",
    "X_train, X_test, y_train, y_test = train_test_split(X, y, test_size=0.2, random_state=100)"
   ]
  },
  {
   "cell_type": "code",
   "execution_count": 7,
   "id": "bdac55d5",
   "metadata": {},
   "outputs": [
    {
     "name": "stdout",
     "output_type": "stream",
     "text": [
      "Trial 5 Complete [00h 00m 31s]\n",
      "val_mean_absolute_error: 61.01292165120443\n",
      "\n",
      "Best val_mean_absolute_error So Far: 56.18458557128906\n",
      "Total elapsed time: 00h 02m 44s\n",
      "INFO:tensorflow:Oracle triggered exit\n"
     ]
    }
   ],
   "source": [
    "tunner.search(X_train, y_train, epochs=5, validation_data=(X_test, y_test))"
   ]
  },
  {
   "cell_type": "code",
   "execution_count": 8,
   "id": "2da5851d",
   "metadata": {},
   "outputs": [
    {
     "name": "stdout",
     "output_type": "stream",
     "text": [
      "Results summary\n",
      "Results in Proj12\\AirQualityIndex2\n",
      "Showing 10 best trials\n",
      "Objective(name='val_mean_absolute_error', direction='min')\n",
      "Trial summary\n",
      "Hyperparameters:\n",
      "num_layers: 2\n",
      "units_0: 256\n",
      "units_1: 384\n",
      "learning_rate: 0.001\n",
      "Score: 56.18458557128906\n",
      "Trial summary\n",
      "Hyperparameters:\n",
      "num_layers: 9\n",
      "units_0: 224\n",
      "units_1: 192\n",
      "learning_rate: 0.001\n",
      "units_2: 64\n",
      "units_3: 416\n",
      "units_4: 128\n",
      "units_5: 384\n",
      "units_6: 224\n",
      "units_7: 352\n",
      "units_8: 448\n",
      "units_9: 128\n",
      "units_10: 288\n",
      "units_11: 320\n",
      "units_12: 32\n",
      "units_13: 320\n",
      "units_14: 512\n",
      "units_15: 480\n",
      "units_16: 96\n",
      "units_17: 448\n",
      "units_18: 352\n",
      "Score: 61.01292165120443\n",
      "Trial summary\n",
      "Hyperparameters:\n",
      "num_layers: 11\n",
      "units_0: 160\n",
      "units_1: 128\n",
      "learning_rate: 0.001\n",
      "units_2: 128\n",
      "units_3: 256\n",
      "units_4: 320\n",
      "units_5: 480\n",
      "units_6: 352\n",
      "units_7: 192\n",
      "units_8: 480\n",
      "units_9: 448\n",
      "units_10: 96\n",
      "units_11: 96\n",
      "units_12: 288\n",
      "units_13: 288\n",
      "units_14: 192\n",
      "units_15: 128\n",
      "units_16: 160\n",
      "units_17: 160\n",
      "units_18: 160\n",
      "Score: 62.27704747517904\n",
      "Trial summary\n",
      "Hyperparameters:\n",
      "num_layers: 8\n",
      "units_0: 96\n",
      "units_1: 480\n",
      "learning_rate: 0.0001\n",
      "units_2: 352\n",
      "units_3: 224\n",
      "units_4: 352\n",
      "units_5: 416\n",
      "units_6: 288\n",
      "units_7: 256\n",
      "units_8: 32\n",
      "units_9: 256\n",
      "units_10: 224\n",
      "units_11: 192\n",
      "units_12: 224\n",
      "units_13: 256\n",
      "units_14: 256\n",
      "units_15: 224\n",
      "units_16: 512\n",
      "units_17: 416\n",
      "units_18: 64\n",
      "Score: 64.59914143880208\n",
      "Trial summary\n",
      "Hyperparameters:\n",
      "num_layers: 19\n",
      "units_0: 288\n",
      "units_1: 352\n",
      "learning_rate: 0.001\n",
      "units_2: 32\n",
      "units_3: 32\n",
      "units_4: 32\n",
      "units_5: 32\n",
      "units_6: 32\n",
      "units_7: 32\n",
      "units_8: 32\n",
      "units_9: 32\n",
      "units_10: 32\n",
      "units_11: 32\n",
      "units_12: 32\n",
      "units_13: 32\n",
      "units_14: 32\n",
      "units_15: 32\n",
      "units_16: 32\n",
      "units_17: 32\n",
      "units_18: 32\n",
      "Score: 64.67803446451823\n"
     ]
    }
   ],
   "source": [
    "tunner.results_summary()"
   ]
  },
  {
   "cell_type": "markdown",
   "id": "22b94029",
   "metadata": {},
   "source": [
    "<br>\n",
    "_____________________________________________________________________________________________________________________________"
   ]
  },
  {
   "cell_type": "code",
   "execution_count": 9,
   "id": "1f54b0b6",
   "metadata": {},
   "outputs": [],
   "source": [
    "from tensorflow import keras\n",
    "from tensorflow.keras import layers\n",
    "from keras_tuner.tuners import RandomSearch\n",
    "\n",
    "def build_model2(hp):\n",
    "    model = keras.Sequential()\n",
    "    for i in range(hp.Int('num_layers', 2, 20)):\n",
    "        model.add(layers.Dense(units=hp.Int('units_' + str(i),\n",
    "                                            min_value=32,\n",
    "                                            max_value=512,\n",
    "                                            step=32),\n",
    "                               activation='relu'))\n",
    "    model.add(layers.Dense(1, activation='linear'))\n",
    "    model.compile(\n",
    "        optimizer=keras.optimizers.Adam(\n",
    "            hp.Choice('learning_rate', [1e-2, 1e-3, 1e-4])),\n",
    "        loss='mean_absolute_error',\n",
    "        metrics=['mean_absolute_error'])\n",
    "    return model\n",
    "\n",
    "\n",
    "tuner2 = RandomSearch(\n",
    "    build_model2,\n",
    "    objective='val_mean_absolute_error',\n",
    "    max_trials=5,\n",
    "    executions_per_trial=3,\n",
    "    directory='project2',\n",
    "    project_name='Air Quality Index2')"
   ]
  },
  {
   "cell_type": "code",
   "execution_count": 10,
   "id": "d3e1f9a7",
   "metadata": {},
   "outputs": [
    {
     "name": "stdout",
     "output_type": "stream",
     "text": [
      "Search space summary\n",
      "Default search space size: 4\n",
      "num_layers (Int)\n",
      "{'default': None, 'conditions': [], 'min_value': 2, 'max_value': 20, 'step': 1, 'sampling': None}\n",
      "units_0 (Int)\n",
      "{'default': None, 'conditions': [], 'min_value': 32, 'max_value': 512, 'step': 32, 'sampling': None}\n",
      "units_1 (Int)\n",
      "{'default': None, 'conditions': [], 'min_value': 32, 'max_value': 512, 'step': 32, 'sampling': None}\n",
      "learning_rate (Choice)\n",
      "{'default': 0.01, 'conditions': [], 'values': [0.01, 0.001, 0.0001], 'ordered': True}\n"
     ]
    }
   ],
   "source": [
    "tuner2.search_space_summary()"
   ]
  },
  {
   "cell_type": "code",
   "execution_count": 11,
   "id": "66410b47",
   "metadata": {},
   "outputs": [
    {
     "name": "stdout",
     "output_type": "stream",
     "text": [
      "Trial 5 Complete [00h 00m 31s]\n",
      "val_mean_absolute_error: 64.88439432779948\n",
      "\n",
      "Best val_mean_absolute_error So Far: 55.33419291178385\n",
      "Total elapsed time: 00h 02m 16s\n",
      "INFO:tensorflow:Oracle triggered exit\n"
     ]
    }
   ],
   "source": [
    "tuner2.search(X_train, y_train,\n",
    "             epochs=5,\n",
    "             validation_data=(X_test, y_test))"
   ]
  },
  {
   "cell_type": "code",
   "execution_count": null,
   "id": "01b6270d",
   "metadata": {},
   "outputs": [],
   "source": []
  }
 ],
 "metadata": {
  "kernelspec": {
   "display_name": "Python 3",
   "language": "python",
   "name": "python3"
  },
  "language_info": {
   "codemirror_mode": {
    "name": "ipython",
    "version": 3
   },
   "file_extension": ".py",
   "mimetype": "text/x-python",
   "name": "python",
   "nbconvert_exporter": "python",
   "pygments_lexer": "ipython3",
   "version": "3.7.11"
  }
 },
 "nbformat": 4,
 "nbformat_minor": 5
}
