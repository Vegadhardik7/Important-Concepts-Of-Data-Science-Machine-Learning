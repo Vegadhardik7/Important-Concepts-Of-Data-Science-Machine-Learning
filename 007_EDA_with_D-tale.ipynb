{
 "cells": [
  {
   "cell_type": "code",
   "execution_count": 1,
   "metadata": {},
   "outputs": [],
   "source": [
    "import seaborn as sns"
   ]
  },
  {
   "cell_type": "code",
   "execution_count": 2,
   "metadata": {},
   "outputs": [
    {
     "data": {
      "text/html": [
       "<div>\n",
       "<style scoped>\n",
       "    .dataframe tbody tr th:only-of-type {\n",
       "        vertical-align: middle;\n",
       "    }\n",
       "\n",
       "    .dataframe tbody tr th {\n",
       "        vertical-align: top;\n",
       "    }\n",
       "\n",
       "    .dataframe thead th {\n",
       "        text-align: right;\n",
       "    }\n",
       "</style>\n",
       "<table border=\"1\" class=\"dataframe\">\n",
       "  <thead>\n",
       "    <tr style=\"text-align: right;\">\n",
       "      <th></th>\n",
       "      <th>method</th>\n",
       "      <th>number</th>\n",
       "      <th>orbital_period</th>\n",
       "      <th>mass</th>\n",
       "      <th>distance</th>\n",
       "      <th>year</th>\n",
       "    </tr>\n",
       "  </thead>\n",
       "  <tbody>\n",
       "    <tr>\n",
       "      <th>0</th>\n",
       "      <td>Radial Velocity</td>\n",
       "      <td>1</td>\n",
       "      <td>269.300</td>\n",
       "      <td>7.10</td>\n",
       "      <td>77.40</td>\n",
       "      <td>2006</td>\n",
       "    </tr>\n",
       "    <tr>\n",
       "      <th>1</th>\n",
       "      <td>Radial Velocity</td>\n",
       "      <td>1</td>\n",
       "      <td>874.774</td>\n",
       "      <td>2.21</td>\n",
       "      <td>56.95</td>\n",
       "      <td>2008</td>\n",
       "    </tr>\n",
       "    <tr>\n",
       "      <th>2</th>\n",
       "      <td>Radial Velocity</td>\n",
       "      <td>1</td>\n",
       "      <td>763.000</td>\n",
       "      <td>2.60</td>\n",
       "      <td>19.84</td>\n",
       "      <td>2011</td>\n",
       "    </tr>\n",
       "    <tr>\n",
       "      <th>3</th>\n",
       "      <td>Radial Velocity</td>\n",
       "      <td>1</td>\n",
       "      <td>326.030</td>\n",
       "      <td>19.40</td>\n",
       "      <td>110.62</td>\n",
       "      <td>2007</td>\n",
       "    </tr>\n",
       "    <tr>\n",
       "      <th>4</th>\n",
       "      <td>Radial Velocity</td>\n",
       "      <td>1</td>\n",
       "      <td>516.220</td>\n",
       "      <td>10.50</td>\n",
       "      <td>119.47</td>\n",
       "      <td>2009</td>\n",
       "    </tr>\n",
       "  </tbody>\n",
       "</table>\n",
       "</div>"
      ],
      "text/plain": [
       "            method  number  orbital_period   mass  distance  year\n",
       "0  Radial Velocity       1         269.300   7.10     77.40  2006\n",
       "1  Radial Velocity       1         874.774   2.21     56.95  2008\n",
       "2  Radial Velocity       1         763.000   2.60     19.84  2011\n",
       "3  Radial Velocity       1         326.030  19.40    110.62  2007\n",
       "4  Radial Velocity       1         516.220  10.50    119.47  2009"
      ]
     },
     "execution_count": 2,
     "metadata": {},
     "output_type": "execute_result"
    }
   ],
   "source": [
    "df = sns.load_dataset('planets')\n",
    "\n",
    "df.head()"
   ]
  },
  {
   "cell_type": "markdown",
   "metadata": {},
   "source": [
    "-----------------"
   ]
  },
  {
   "cell_type": "code",
   "execution_count": 3,
   "metadata": {},
   "outputs": [
    {
     "data": {
      "text/html": [
       "\n",
       "        <iframe\n",
       "            width=\"100%\"\n",
       "            height=\"475\"\n",
       "            src=\"http://DESKTOP-IC6K4I4:40000/dtale/iframe/1\"\n",
       "            frameborder=\"0\"\n",
       "            allowfullscreen\n",
       "        ></iframe>\n",
       "        "
      ],
      "text/plain": [
       "<IPython.lib.display.IFrame at 0x1af494d9048>"
      ]
     },
     "metadata": {},
     "output_type": "display_data"
    },
    {
     "data": {
      "text/plain": []
     },
     "execution_count": 3,
     "metadata": {},
     "output_type": "execute_result"
    }
   ],
   "source": [
    "import dtale\n",
    "\n",
    "dtale.show(df)"
   ]
  },
  {
   "cell_type": "code",
   "execution_count": 4,
   "metadata": {},
   "outputs": [],
   "source": [
    "# DISCLAIMER: 'df' refers to the data you passed in when calling 'dtale.show'\n",
    "\n",
    "import numpy as np\n",
    "import pandas as pd\n",
    "\n",
    "if isinstance(df, (pd.DatetimeIndex, pd.MultiIndex)):\n",
    "\tdf = df.to_frame(index=False)\n",
    "\n",
    "# remove any pre-existing indices for ease of use in the D-Tale code, but this is not required\n",
    "df = df.reset_index().drop('index', axis=1, errors='ignore')\n",
    "df.columns = [str(c) for c in df.columns]  # update columns to strings in case they are numbers\n",
    "\n",
    "chart = df.groupby('year')[['distance']].agg(['count', 'mean'])"
   ]
  },
  {
   "cell_type": "code",
   "execution_count": 5,
   "metadata": {},
   "outputs": [
    {
     "data": {
      "text/plain": [
       "[<matplotlib.lines.Line2D at 0x1af496dd248>,\n",
       " <matplotlib.lines.Line2D at 0x1af4b7427c8>]"
      ]
     },
     "execution_count": 5,
     "metadata": {},
     "output_type": "execute_result"
    },
    {
     "data": {
      "image/png": "[encoded data removed]",
      "text/plain": [
       "<Figure size 432x288 with 1 Axes>"
      ]
     },
     "metadata": {
      "needs_background": "light"
     },
     "output_type": "display_data"
    }
   ],
   "source": [
    "import matplotlib.pyplot as plt\n",
    "%matplotlib inline\n",
    "\n",
    "plt.plot(chart,data=df)"
   ]
  },
  {
   "cell_type": "code",
   "execution_count": 6,
   "metadata": {},
   "outputs": [],
   "source": [
    "s = df['distance']\n",
    "q1 = s.quantile(0.25)\n",
    "q3 = s.quantile(0.75)\n",
    "iqr = q3 - q1\n",
    "iqr_lower = q1 - 1.5 * iqr\n",
    "iqr_upper = q3 + 1.5 * iqr\n",
    "outliers = dict(s[(s < iqr_lower) | (s > iqr_upper)])"
   ]
  },
  {
   "cell_type": "code",
   "execution_count": 7,
   "metadata": {},
   "outputs": [
    {
     "data": {
      "text/plain": [
       "{39: 500.0,\n",
       " 40: 500.0,\n",
       " 93: 680.0,\n",
       " 100: 460.0,\n",
       " 102: 560.0,\n",
       " 103: 1150.0,\n",
       " 104: 1060.0,\n",
       " 105: 1340.0,\n",
       " 106: 840.0,\n",
       " 107: 920.0,\n",
       " 108: 870.0,\n",
       " 109: 770.0,\n",
       " 110: 1230.0,\n",
       " 111: 600.0,\n",
       " 158: 480.0,\n",
       " 185: 535.0,\n",
       " 187: 411.0,\n",
       " 189: 642.0,\n",
       " 190: 501.0,\n",
       " 192: 447.0,\n",
       " 193: 542.0,\n",
       " 197: 453.0,\n",
       " 654: 550.0,\n",
       " 658: 1330.0,\n",
       " 659: 650.0,\n",
       " 660: 650.0,\n",
       " 661: 650.0,\n",
       " 664: 613.0,\n",
       " 665: 613.0,\n",
       " 666: 613.0,\n",
       " 667: 613.0,\n",
       " 668: 613.0,\n",
       " 669: 613.0,\n",
       " 670: 600.0,\n",
       " 672: 980.0,\n",
       " 675: 800.0,\n",
       " 679: 2119.0,\n",
       " 680: 2119.0,\n",
       " 688: 800.0,\n",
       " 689: 800.0,\n",
       " 690: 1200.0,\n",
       " 691: 1200.0,\n",
       " 701: 1400.0,\n",
       " 702: 1400.0,\n",
       " 703: 1400.0,\n",
       " 704: 1400.0,\n",
       " 705: 1400.0,\n",
       " 706: 2100.0,\n",
       " 707: 2100.0,\n",
       " 718: 1499.0,\n",
       " 719: 1645.0,\n",
       " 720: 470.0,\n",
       " 721: 470.0,\n",
       " 725: 600.0,\n",
       " 726: 1200.0,\n",
       " 727: 2700.0,\n",
       " 728: 770.0,\n",
       " 732: 1950.0,\n",
       " 733: 2250.0,\n",
       " 735: 855.0,\n",
       " 736: 855.0,\n",
       " 737: 1500.0,\n",
       " 738: 1500.0,\n",
       " 776: 1000.0,\n",
       " 780: 1107.0,\n",
       " 781: 1107.0,\n",
       " 787: 1180.0,\n",
       " 788: 1180.0,\n",
       " 789: 800.0,\n",
       " 790: 1330.0,\n",
       " 791: 1140.0,\n",
       " 793: 570.0,\n",
       " 818: 780.0,\n",
       " 819: 780.0,\n",
       " 820: 780.0,\n",
       " 821: 780.0,\n",
       " 822: 780.0,\n",
       " 823: 780.0,\n",
       " 824: 780.0,\n",
       " 825: 1030.0,\n",
       " 898: 1056.0,\n",
       " 901: 2000.0,\n",
       " 905: 3600.0,\n",
       " 909: 2300.0,\n",
       " 910: 2800.0,\n",
       " 911: 7720.0,\n",
       " 912: 7560.0,\n",
       " 924: 2570.0,\n",
       " 925: 4080.0,\n",
       " 926: 4080.0,\n",
       " 927: 1760.0,\n",
       " 928: 4970.0,\n",
       " 933: 600.0,\n",
       " 934: 2500.0,\n",
       " 938: 1200.0,\n",
       " 945: 1200.0,\n",
       " 951: 8500.0,\n",
       " 952: 8500.0,\n",
       " 955: 492.0,\n",
       " 959: 408.0,\n",
       " 974: 400.0,\n",
       " 990: 450.0,\n",
       " 1008: 455.0,\n",
       " 1011: 400.0,\n",
       " 1012: 480.0,\n",
       " 1023: 550.0,\n",
       " 1026: 470.0,\n",
       " 1028: 3200.0}"
      ]
     },
     "execution_count": 7,
     "metadata": {},
     "output_type": "execute_result"
    }
   ],
   "source": [
    "outliers"
   ]
  },
  {
   "cell_type": "code",
   "execution_count": null,
   "metadata": {},
   "outputs": [],
   "source": []
  }
 ],
 "metadata": {
  "kernelspec": {
   "display_name": "Python 3",
   "language": "python",
   "name": "python3"
  },
  "language_info": {
   "codemirror_mode": {
    "name": "ipython",
    "version": 3
   },
   "file_extension": ".py",
   "mimetype": "text/x-python",
   "name": "python",
   "nbconvert_exporter": "python",
   "pygments_lexer": "ipython3",
   "version": "3.7.7"
  }
 },
 "nbformat": 4,
 "nbformat_minor": 4
}
